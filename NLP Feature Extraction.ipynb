{
 "cells": [
  {
   "cell_type": "code",
   "execution_count": 1,
   "id": "fa1fb411",
   "metadata": {
    "executionInfo": {
     "elapsed": 7384,
     "status": "ok",
     "timestamp": 1725058685762,
     "user": {
      "displayName": "Moritz Roller",
      "userId": "06905633796207639823"
     },
     "user_tz": 360
    },
    "id": "fa1fb411"
   },
   "outputs": [],
   "source": [
    "import pandas as pd\n",
    "import numpy as np\n",
    "\n",
    "import os\n",
    "from transformers import AutoTokenizer, AutoModel\n",
    "import torch\n",
    "import time\n",
    "\n",
    "from sklearn.model_selection import train_test_split\n",
    "from sklearn.pipeline import Pipeline"
   ]
  },
  {
   "cell_type": "code",
   "execution_count": 2,
   "id": "UnYV1ZiaMOix",
   "metadata": {
    "colab": {
     "base_uri": "https://localhost:8080/"
    },
    "executionInfo": {
     "elapsed": 23188,
     "status": "ok",
     "timestamp": 1725058708941,
     "user": {
      "displayName": "Moritz Roller",
      "userId": "06905633796207639823"
     },
     "user_tz": 360
    },
    "id": "UnYV1ZiaMOix",
    "outputId": "adcf7961-13db-426f-9318-d716c98999a7"
   },
   "outputs": [
    {
     "name": "stdout",
     "output_type": "stream",
     "text": [
      "Mounted at /content/drive/\n"
     ]
    }
   ],
   "source": [
    "from google.colab import drive\n",
    "drive.mount('/content/drive/')"
   ]
  },
  {
   "cell_type": "code",
   "execution_count": 3,
   "id": "5KCZQdf6MSi4",
   "metadata": {
    "colab": {
     "base_uri": "https://localhost:8080/"
    },
    "executionInfo": {
     "elapsed": 690,
     "status": "ok",
     "timestamp": 1725058709628,
     "user": {
      "displayName": "Moritz Roller",
      "userId": "06905633796207639823"
     },
     "user_tz": 360
    },
    "id": "5KCZQdf6MSi4",
    "outputId": "8f8da121-2cd2-4080-ed5b-4d28140bc788"
   },
   "outputs": [
    {
     "name": "stdout",
     "output_type": "stream",
     "text": [
      "/content/drive/MyDrive/Studium/03 UC3M/Thesis/Data\n"
     ]
    }
   ],
   "source": [
    "cd '/content/drive/MyDrive/Studium/03 UC3M/Thesis/Data'"
   ]
  },
  {
   "cell_type": "markdown",
   "id": "Fa2xkG_IO973",
   "metadata": {
    "id": "Fa2xkG_IO973"
   },
   "source": [
    "# Load Data"
   ]
  },
  {
   "cell_type": "code",
   "execution_count": 4,
   "id": "333d2022",
   "metadata": {
    "colab": {
     "base_uri": "https://localhost:8080/"
    },
    "executionInfo": {
     "elapsed": 3792,
     "status": "ok",
     "timestamp": 1725056429741,
     "user": {
      "displayName": "Moritz Roller",
      "userId": "06905633796207639823"
     },
     "user_tz": 360
    },
    "id": "333d2022",
    "outputId": "ec7b94a4-1358-437c-a8ea-ac78d3c5a15c"
   },
   "outputs": [
    {
     "name": "stdout",
     "output_type": "stream",
     "text": [
      "(22697,)\n",
      "(5675,)\n"
     ]
    }
   ],
   "source": [
    "data_orig = pd.read_csv(\"tcc_ceds_music.csv\")\n",
    "\n",
    "X = data_orig['lyrics']\n",
    "y_valence = data_orig['valence']\n",
    "y_arousal = data_orig['energy']\n",
    "\n",
    "# split for valence and arousal (using the same split)\n",
    "X_train, X_test, y_train_valence, y_test_valence = train_test_split(X, y_valence, test_size=0.2, random_state=18)\n",
    "_, _, y_train_arousal, y_test_arousal = train_test_split(X, y_arousal, test_size=0.2, random_state=18)\n",
    "\n",
    "print(X_train.shape)\n",
    "print(X_test.shape)"
   ]
  },
  {
   "cell_type": "code",
   "execution_count": null,
   "id": "uokCKlmmCsnS",
   "metadata": {
    "id": "uokCKlmmCsnS"
   },
   "outputs": [],
   "source": [
    "# save training and testing partitions to local file\n",
    "\n",
    "np.save('X_train.npy', X_train)\n",
    "np.save('X_test.npy', X_test)\n",
    "\n",
    "np.save('y_train_valence.npy', y_train_valence)\n",
    "np.save('y_train_arousal.npy', y_train_arousal)\n",
    "np.save('y_test_valence.npy', y_test_valence)\n",
    "np.save('y_test_arousal.npy', y_test_arousal)"
   ]
  },
  {
   "cell_type": "markdown",
   "id": "3a87016d",
   "metadata": {
    "id": "3a87016d"
   },
   "source": [
    "# TF-IDF"
   ]
  },
  {
   "cell_type": "code",
   "execution_count": null,
   "id": "662633fd",
   "metadata": {
    "id": "662633fd"
   },
   "outputs": [],
   "source": [
    "from sklearn.feature_extraction.text import TfidfVectorizer\n",
    "\n",
    "tfidf_vectorizer = TfidfVectorizer(max_features=5000, stop_words='english', max_df=0.85, min_df=0.01)"
   ]
  },
  {
   "cell_type": "code",
   "execution_count": null,
   "id": "a31c0d0a",
   "metadata": {
    "colab": {
     "base_uri": "https://localhost:8080/"
    },
    "executionInfo": {
     "elapsed": 5723,
     "status": "ok",
     "timestamp": 1724932615012,
     "user": {
      "displayName": "Moritz Roller",
      "userId": "06905633796207639823"
     },
     "user_tz": -120
    },
    "id": "a31c0d0a",
    "outputId": "e5252e38-d0eb-4e6e-9bee-09d8c6f64181"
   },
   "outputs": [
    {
     "data": {
      "text/plain": [
       "(22697, 659)"
      ]
     },
     "execution_count": 6,
     "metadata": {},
     "output_type": "execute_result"
    }
   ],
   "source": [
    "X_train_tfidf = tfidf_vectorizer.fit_transform(X_train)\n",
    "X_test_tfidf = tfidf_vectorizer.transform(X_test)\n",
    "\n",
    "X_train_tfidf.shape"
   ]
  },
  {
   "cell_type": "code",
   "execution_count": null,
   "id": "SrgXSFKbKDJB",
   "metadata": {
    "colab": {
     "base_uri": "https://localhost:8080/"
    },
    "executionInfo": {
     "elapsed": 907,
     "status": "ok",
     "timestamp": 1724932738916,
     "user": {
      "displayName": "Moritz Roller",
      "userId": "06905633796207639823"
     },
     "user_tz": -120
    },
    "id": "SrgXSFKbKDJB",
    "outputId": "49aa491d-910c-41cd-b943-733f6d314571"
   },
   "outputs": [
    {
     "data": {
      "text/plain": [
       "(22697, 659)"
      ]
     },
     "execution_count": 11,
     "metadata": {},
     "output_type": "execute_result"
    }
   ],
   "source": [
    "# TF-IDF score for each word in each of the documents (used for transformation from word to document embeddings)\n",
    "feature_names = tfidf_vectorizer.get_feature_names_out()\n",
    "df_tfidf = pd.DataFrame(X_train_tfidf.toarray(), columns=feature_names)\n",
    "\n",
    "df_tfidf.shape"
   ]
  },
  {
   "cell_type": "code",
   "execution_count": null,
   "id": "Xp4_1EUtGYWV",
   "metadata": {
    "id": "Xp4_1EUtGYWV"
   },
   "outputs": [],
   "source": [
    "# save embeddings to local file\n",
    "from scipy import sparse\n",
    "\n",
    "sparse.save_npz(os.path.join('TF-IDF', 'X_train_tfidf.npz'), X_train_tfidf)\n",
    "sparse.save_npz(os.path.join('TF-IDF', 'X_test_tfidf.npz'), X_test_tfidf)"
   ]
  },
  {
   "cell_type": "markdown",
   "id": "17b3fd99-e69e-447e-9189-9b27e0317df2",
   "metadata": {
    "id": "17b3fd99-e69e-447e-9189-9b27e0317df2"
   },
   "source": [
    "# Word2Vec"
   ]
  },
  {
   "cell_type": "code",
   "execution_count": null,
   "id": "53e1664d-b995-410c-9aad-e0af70e56bd1",
   "metadata": {
    "id": "53e1664d-b995-410c-9aad-e0af70e56bd1"
   },
   "outputs": [],
   "source": [
    "#!pip install gensim\n",
    "import gensim\n",
    "from gensim.models import Word2Vec"
   ]
  },
  {
   "cell_type": "code",
   "execution_count": null,
   "id": "aSSRE5lcYB8_",
   "metadata": {
    "id": "aSSRE5lcYB8_"
   },
   "outputs": [],
   "source": [
    "# Tokenize text\n",
    "def preprocess(text):\n",
    "    return gensim.utils.simple_preprocess(text)\n",
    "\n",
    "X_train_tokenized = [preprocess(doc) for doc in X_train]\n",
    "X_test_tokenized = [preprocess(doc) for doc in X_test]"
   ]
  },
  {
   "cell_type": "markdown",
   "id": "Kf5J3Ezgbhd-",
   "metadata": {
    "id": "Kf5J3Ezgbhd-"
   },
   "source": [
    "## Pre-trained Word2Vec\n"
   ]
  },
  {
   "cell_type": "code",
   "execution_count": null,
   "id": "bpr6PcM5bm9I",
   "metadata": {
    "id": "bpr6PcM5bm9I"
   },
   "outputs": [],
   "source": [
    "from gensim.models import KeyedVectors\n",
    "\n",
    "# Load pre-trained Word2Vec model\n",
    "pretrained_model_path = 'GoogleNews-vectors-negative300.bin'\n",
    "pretrained_word2vec = KeyedVectors.load_word2vec_format(pretrained_model_path, binary=True)"
   ]
  },
  {
   "cell_type": "markdown",
   "id": "BbX7MtIFuMXD",
   "metadata": {
    "id": "BbX7MtIFuMXD"
   },
   "source": [
    "#### Mean Pooling\n",
    "\n",
    "* obtaining document embeddings using Mean Pooling"
   ]
  },
  {
   "cell_type": "code",
   "execution_count": null,
   "id": "vQCriMDsXs8V",
   "metadata": {
    "id": "vQCriMDsXs8V"
   },
   "outputs": [],
   "source": [
    "def get_document_vector(doc):\n",
    "  word_vectors = [pretrained_word2vec[word] for word in doc if word in pretrained_word2vec]  # get embedding for each word\n",
    "  return np.mean(word_vectors, axis=0) if word_vectors else np.zeros(pretrained_word2vec.vector_size) # get mean over all words"
   ]
  },
  {
   "cell_type": "code",
   "execution_count": null,
   "id": "ESiVWL9MW_r4",
   "metadata": {
    "colab": {
     "base_uri": "https://localhost:8080/"
    },
    "executionInfo": {
     "elapsed": 5782,
     "status": "ok",
     "timestamp": 1721121369401,
     "user": {
      "displayName": "Moritz Roller",
      "userId": "06905633796207639823"
     },
     "user_tz": -120
    },
    "id": "ESiVWL9MW_r4",
    "outputId": "9e989ac8-cfcf-45c5-f67c-9487eff4fc53"
   },
   "outputs": [
    {
     "data": {
      "text/plain": [
       "(22697, 300)"
      ]
     },
     "execution_count": 13,
     "metadata": {},
     "output_type": "execute_result"
    }
   ],
   "source": [
    "# Transform documents to vectors\n",
    "X_train_Word2Vec_pretrained = np.array([get_document_vector(doc) for doc in X_train_tokenized])\n",
    "X_test_Word2Vec_pretrained = np.array([get_document_vector(doc) for doc in X_test_tokenized])\n",
    "\n",
    "X_train_Word2Vec_pretrained.shape"
   ]
  },
  {
   "cell_type": "code",
   "execution_count": null,
   "id": "YBvUBVsMH8Un",
   "metadata": {
    "id": "YBvUBVsMH8Un"
   },
   "outputs": [],
   "source": [
    "# save embeddings to local file\n",
    "\n",
    "np.save(os.path.join('Word2Vec', 'X_train_Word2Vec_pretrained.npy'), X_train_Word2Vec_pretrained)\n",
    "np.save(os.path.join('Word2Vec', 'X_test_Word2Vec_pretrained.npy'), X_test_Word2Vec_pretrained)"
   ]
  },
  {
   "cell_type": "markdown",
   "id": "P-j3qL1iRBJm",
   "metadata": {
    "id": "P-j3qL1iRBJm"
   },
   "source": [
    "### Document embeddings with TF-IDF\n",
    "\n",
    "* obtain document embeddings using TF-IDF scores"
   ]
  },
  {
   "cell_type": "code",
   "execution_count": null,
   "id": "oqr2HTT3Oj_c",
   "metadata": {
    "id": "oqr2HTT3Oj_c"
   },
   "outputs": [],
   "source": [
    "# for each document, get embedding for each word and multiply with TF-IDF score of the word in the document (df_tfidf)\n",
    "\n",
    "def is_word_in_word2vec(word, word2vec_model_):\n",
    "    return word in word2vec_model.wv\n",
    "\n",
    "def get_document_embedding_tfidf(X_tokenized_, pretrained_Word2Vec=False):\n",
    "  doc_index = 0\n",
    "  doc_embeddings = []\n",
    "\n",
    "  for doc in X_tokenized_:\n",
    "    if doc_index % 2500 == 0:\n",
    "      print(f'Document # {doc_index}')\n",
    "\n",
    "    weighted_embeddings = []\n",
    "    total_tfidf_weight = 0\n",
    "\n",
    "    for token in doc:\n",
    "      token_found = False\n",
    "\n",
    "      # get word embedding\n",
    "      if pretrained_Word2Vec == True: # pretrained\n",
    "        if token in pretrained_word2vec:\n",
    "          word_embedding = pretrained_word2vec[token]\n",
    "          token_found = True\n",
    "\n",
    "      else: # custom\n",
    "        if is_word_in_word2vec(token, word2vec_model):\n",
    "          word_embedding = word2vec_model.wv[token]\n",
    "          token_found = True\n",
    "\n",
    "      if token_found == True:\n",
    "        # get tf-idf score for word (in the corresponding document), if there is no tf-idf value: 0\n",
    "        try:\n",
    "          tfidf_score = df_tfidf[token][doc_index]\n",
    "        except KeyError:\n",
    "          tfidf_score = 0.1   # try different approaches\n",
    "        # print(tfidf_score)\n",
    "        # print('______________')\n",
    "\n",
    "        weighted_embedding = word_embedding*tfidf_score\n",
    "        weighted_embeddings.append(weighted_embedding)\n",
    "        total_tfidf_weight += tfidf_score   # total weight of TF-IDF for each doc\n",
    "\n",
    "    # if all tfidf score = 0: return zero vector\n",
    "    if total_tfidf_weight == 0:\n",
    "      document_embedding = np.zeros(pretrained_word2vec.vector_size)\n",
    "    else:\n",
    "      # document_embedding = np.sum(weighted_embeddings, axis=0) / total_tfidf_weight\n",
    "      document_embedding = np.sum(weighted_embeddings, axis=0) / len(doc)\n",
    "\n",
    "    doc_embeddings.append(document_embedding)\n",
    "    # if word not in word2vec: skip\n",
    "    doc_index += 1\n",
    "  return np.array(doc_embeddings)"
   ]
  },
  {
   "cell_type": "code",
   "execution_count": null,
   "id": "C2kB59FejHvY",
   "metadata": {
    "colab": {
     "base_uri": "https://localhost:8080/"
    },
    "executionInfo": {
     "elapsed": 37981,
     "status": "ok",
     "timestamp": 1723112689818,
     "user": {
      "displayName": "Moritz Roller",
      "userId": "06905633796207639823"
     },
     "user_tz": -120
    },
    "id": "C2kB59FejHvY",
    "outputId": "c8d88f98-ea09-4a31-de83-dc4365922fbe"
   },
   "outputs": [
    {
     "name": "stdout",
     "output_type": "stream",
     "text": [
      "Document # 0\n",
      "Document # 2500\n",
      "Document # 5000\n",
      "Document # 7500\n",
      "Document # 10000\n",
      "Document # 12500\n",
      "Document # 15000\n",
      "Document # 17500\n",
      "Document # 20000\n",
      "Document # 22500\n",
      "(22697, 300)\n"
     ]
    }
   ],
   "source": [
    "# apply to train\n",
    "X_train_Word2Vec_pretrained_tfidf = get_document_embedding_tfidf(X_train_tokenized, pretrained_Word2Vec=True)\n",
    "print(X_train_Word2Vec_pretrained_tfidf.shape)"
   ]
  },
  {
   "cell_type": "code",
   "execution_count": null,
   "id": "0_xyNDkbjPwp",
   "metadata": {
    "colab": {
     "base_uri": "https://localhost:8080/"
    },
    "executionInfo": {
     "elapsed": 14187,
     "status": "ok",
     "timestamp": 1723112708585,
     "user": {
      "displayName": "Moritz Roller",
      "userId": "06905633796207639823"
     },
     "user_tz": -120
    },
    "id": "0_xyNDkbjPwp",
    "outputId": "9a128aae-1636-4f37-8950-dbdc0fb7ab4f"
   },
   "outputs": [
    {
     "name": "stdout",
     "output_type": "stream",
     "text": [
      "Document # 0\n",
      "Document # 2500\n",
      "Document # 5000\n",
      "(5675, 300)\n"
     ]
    }
   ],
   "source": [
    "# apply to test\n",
    "X_test_Word2Vec_pretrained_tfidf = get_document_embedding_tfidf(X_test_tokenized, pretrained_Word2Vec=True)\n",
    "print(X_test_Word2Vec_pretrained_tfidf.shape)"
   ]
  },
  {
   "cell_type": "code",
   "execution_count": null,
   "id": "-TjNhHdzQhzy",
   "metadata": {
    "id": "-TjNhHdzQhzy"
   },
   "outputs": [],
   "source": [
    "# save embeddings to local file\n",
    "np.save(os.path.join('Word2Vec', 'X_train_Word2Vec_pretrained_tfidf.npy'), X_train_Word2Vec_pretrained_tfidf)\n",
    "np.save(os.path.join('Word2Vec', 'X_test_Word2Vec_pretrained_tfidf.npy'), X_test_Word2Vec_pretrained_tfidf)"
   ]
  },
  {
   "cell_type": "markdown",
   "id": "Kv1wcNo0bUY-",
   "metadata": {
    "id": "Kv1wcNo0bUY-"
   },
   "source": [
    "## Custom Word2Vec\n",
    "\n",
    "* learn embeddings from training corpus"
   ]
  },
  {
   "cell_type": "code",
   "execution_count": null,
   "id": "cWK8eMA5cy_h",
   "metadata": {
    "id": "cWK8eMA5cy_h"
   },
   "outputs": [],
   "source": [
    "# train Word2Vec on train data\n",
    "word2vec_model = Word2Vec(sentences=X_train_tokenized, vector_size=300, window=5, min_count=5, workers=4)"
   ]
  },
  {
   "cell_type": "markdown",
   "id": "rCxzvIxfuX43",
   "metadata": {
    "id": "rCxzvIxfuX43"
   },
   "source": [
    "#### Mean Pooling"
   ]
  },
  {
   "cell_type": "code",
   "execution_count": null,
   "id": "gCUzFhnnMwoy",
   "metadata": {
    "colab": {
     "base_uri": "https://localhost:8080/"
    },
    "executionInfo": {
     "elapsed": 23337,
     "status": "ok",
     "timestamp": 1723124399608,
     "user": {
      "displayName": "Moritz Roller",
      "userId": "06905633796207639823"
     },
     "user_tz": -120
    },
    "id": "gCUzFhnnMwoy",
    "outputId": "c6e4c774-fdbd-472f-9683-f560450c3dd3"
   },
   "outputs": [
    {
     "data": {
      "text/plain": [
       "(22697, 300)"
      ]
     },
     "execution_count": 36,
     "metadata": {},
     "output_type": "execute_result"
    }
   ],
   "source": [
    "def get_document_vector(doc, model):\n",
    "    word_vectors = [model.wv[word] for word in doc if word in model.wv]  # get embedding for each word\n",
    "    return np.mean(word_vectors, axis=0) if word_vectors else np.zeros(model.vector_size) # get mean over all words\n",
    "\n",
    "X_train_Word2Vec_custom = np.array([get_document_vector(doc, word2vec_model) for doc in X_train_tokenized])\n",
    "X_test_Word2Vec_custom = np.array([get_document_vector(doc, word2vec_model) for doc in X_test_tokenized])\n",
    "\n",
    "X_train_Word2Vec_custom.shape"
   ]
  },
  {
   "cell_type": "code",
   "execution_count": null,
   "id": "12Ha1huDHRlQ",
   "metadata": {
    "id": "12Ha1huDHRlQ"
   },
   "outputs": [],
   "source": [
    "# save embeddings to local file\n",
    "\n",
    "np.save(os.path.join('Word2Vec', 'X_train_Word2Vec_custom.npy'), X_train_Word2Vec_custom)\n",
    "np.save(os.path.join('Word2Vec', 'X_test_Word2Vec_custom.npy'), X_test_Word2Vec_custom)"
   ]
  },
  {
   "cell_type": "markdown",
   "id": "7NSMFTPHucEz",
   "metadata": {
    "id": "7NSMFTPHucEz"
   },
   "source": [
    "#### Document embeddings with TF-IDF"
   ]
  },
  {
   "cell_type": "code",
   "execution_count": null,
   "id": "joSkrqrzuipO",
   "metadata": {
    "colab": {
     "base_uri": "https://localhost:8080/"
    },
    "executionInfo": {
     "elapsed": 48154,
     "status": "ok",
     "timestamp": 1723124447757,
     "user": {
      "displayName": "Moritz Roller",
      "userId": "06905633796207639823"
     },
     "user_tz": -120
    },
    "id": "joSkrqrzuipO",
    "outputId": "f97a36f9-a55d-4193-cabb-d4bb88d25120"
   },
   "outputs": [
    {
     "name": "stdout",
     "output_type": "stream",
     "text": [
      "Document # 0\n",
      "Document # 2500\n",
      "Document # 5000\n",
      "Document # 7500\n",
      "Document # 10000\n",
      "Document # 12500\n",
      "Document # 15000\n",
      "Document # 17500\n",
      "Document # 20000\n",
      "Document # 22500\n",
      "(22697, 300)\n"
     ]
    }
   ],
   "source": [
    "X_train_Word2Vec_custom_tfidf = get_document_embedding_tfidf(X_train_tokenized, pretrained_Word2Vec=False)\n",
    "print(X_train_Word2Vec_custom_tfidf.shape)"
   ]
  },
  {
   "cell_type": "code",
   "execution_count": null,
   "id": "hynYmZRn-XsT",
   "metadata": {
    "colab": {
     "base_uri": "https://localhost:8080/"
    },
    "executionInfo": {
     "elapsed": 10450,
     "status": "ok",
     "timestamp": 1723124458190,
     "user": {
      "displayName": "Moritz Roller",
      "userId": "06905633796207639823"
     },
     "user_tz": -120
    },
    "id": "hynYmZRn-XsT",
    "outputId": "f3e28b07-7017-4033-cd34-dea2e0cf0677"
   },
   "outputs": [
    {
     "name": "stdout",
     "output_type": "stream",
     "text": [
      "Document # 0\n",
      "Document # 2500\n",
      "Document # 5000\n",
      "(5675, 300)\n"
     ]
    }
   ],
   "source": [
    "X_test_Word2Vec_custom_tfidf = get_document_embedding_tfidf(X_test_tokenized, pretrained_Word2Vec=True)\n",
    "print(X_test_Word2Vec_custom_tfidf.shape)"
   ]
  },
  {
   "cell_type": "code",
   "execution_count": null,
   "id": "pnWxl2sz9mSg",
   "metadata": {
    "id": "pnWxl2sz9mSg"
   },
   "outputs": [],
   "source": [
    "# save embeddings to local file\n",
    "np.save(os.path.join('Word2Vec', 'X_train_Word2Vec_custom_tfidf.npy'), X_train_Word2Vec_custom_tfidf)\n",
    "np.save(os.path.join('Word2Vec', 'X_test_Word2Vec_custom_tfidf.npy'), X_test_Word2Vec_custom_tfidf)"
   ]
  },
  {
   "cell_type": "markdown",
   "id": "qWtc8CLqVuLY",
   "metadata": {
    "id": "qWtc8CLqVuLY"
   },
   "source": [
    "# Doc2Vec\n"
   ]
  },
  {
   "cell_type": "code",
   "execution_count": null,
   "id": "epOsJ5bqmeew",
   "metadata": {
    "id": "epOsJ5bqmeew"
   },
   "outputs": [],
   "source": [
    "# using same tokenized data as before\n",
    "train_corpus = list(X_train_tokenized)"
   ]
  },
  {
   "cell_type": "code",
   "execution_count": null,
   "id": "DB7z-mfBAi6R",
   "metadata": {
    "colab": {
     "base_uri": "https://localhost:8080/"
    },
    "executionInfo": {
     "elapsed": 2671,
     "status": "ok",
     "timestamp": 1721980642143,
     "user": {
      "displayName": "Moritz Roller",
      "userId": "06905633796207639823"
     },
     "user_tz": -120
    },
    "id": "DB7z-mfBAi6R",
    "outputId": "9caf9f40-771f-47e6-b2a3-dfc6d0b1a984"
   },
   "outputs": [
    {
     "data": {
      "text/plain": [
       "22697"
      ]
     },
     "execution_count": 11,
     "metadata": {},
     "output_type": "execute_result"
    }
   ],
   "source": [
    "from gensim.models.doc2vec import Doc2Vec, TaggedDocument\n",
    "\n",
    "def preprocess(text):\n",
    "    return gensim.utils.simple_preprocess(text)\n",
    "\n",
    "train_corpus = [TaggedDocument(words=preprocess(doc), tags=[i]) for i, doc in enumerate(X_train)]\n",
    "\n",
    "len(train_corpus)"
   ]
  },
  {
   "cell_type": "code",
   "execution_count": null,
   "id": "yap4JRCjby7Z",
   "metadata": {
    "id": "yap4JRCjby7Z"
   },
   "outputs": [],
   "source": [
    "# instantiate doc2Vec model\n",
    "doc2vec_model = gensim.models.doc2vec.Doc2Vec(vector_size=300, min_count=5, epochs=5, window=5)\n",
    "\n",
    "# build vocabulary\n",
    "doc2vec_model.build_vocab(train_corpus)"
   ]
  },
  {
   "cell_type": "code",
   "execution_count": null,
   "id": "H5ZV_kb7DctK",
   "metadata": {
    "id": "H5ZV_kb7DctK"
   },
   "outputs": [],
   "source": [
    "# train on corpus\n",
    "doc2vec_model.train(train_corpus, total_examples=doc2vec_model.corpus_count, epochs=doc2vec_model.epochs)"
   ]
  },
  {
   "cell_type": "code",
   "execution_count": null,
   "id": "X6Q8sQl9EY-a",
   "metadata": {
    "colab": {
     "base_uri": "https://localhost:8080/"
    },
    "executionInfo": {
     "elapsed": 38100,
     "status": "ok",
     "timestamp": 1721980814080,
     "user": {
      "displayName": "Moritz Roller",
      "userId": "06905633796207639823"
     },
     "user_tz": -120
    },
    "id": "X6Q8sQl9EY-a",
    "outputId": "f83b67cf-a418-453e-9b61-3413e1821633"
   },
   "outputs": [
    {
     "data": {
      "text/plain": [
       "(22697, 300)"
      ]
     },
     "execution_count": 14,
     "metadata": {},
     "output_type": "execute_result"
    }
   ],
   "source": [
    "X_train_Doc2Vec = np.array([doc2vec_model.infer_vector(doc) for doc in X_train_tokenized])\n",
    "X_test_Doc2Vec = np.array([doc2vec_model.infer_vector(doc) for doc in X_test_tokenized])\n",
    "\n",
    "X_train_Doc2Vec.shape"
   ]
  },
  {
   "cell_type": "code",
   "execution_count": null,
   "id": "FoXWHLIzILZ4",
   "metadata": {
    "id": "FoXWHLIzILZ4"
   },
   "outputs": [],
   "source": [
    "# save embeddings to local file\n",
    "\n",
    "np.save(os.path.join('Doc2Vec', 'X_train_Doc2Vec.npy'), X_train_Doc2Vec)\n",
    "np.save(os.path.join('Doc2Vec', 'X_test_Doc2Vec.npy'), X_test_Doc2Vec)"
   ]
  },
  {
   "cell_type": "markdown",
   "id": "a2hJzkEHSH3m",
   "metadata": {
    "id": "a2hJzkEHSH3m"
   },
   "source": [
    "# GloVe\n"
   ]
  },
  {
   "cell_type": "code",
   "execution_count": null,
   "id": "-EN9nUmwezXc",
   "metadata": {
    "id": "-EN9nUmwezXc"
   },
   "outputs": [],
   "source": [
    "# ! pip install glove-python3\n",
    "\n",
    "from glove import Glove, Corpus"
   ]
  },
  {
   "cell_type": "code",
   "execution_count": null,
   "id": "M9uiwrQs65Tu",
   "metadata": {
    "id": "M9uiwrQs65Tu"
   },
   "outputs": [],
   "source": [
    "# tokenize texts\n",
    "\n",
    "#!pip install gensim\n",
    "import gensim\n",
    "\n",
    "def preprocess(text):\n",
    "    return gensim.utils.simple_preprocess(text)\n",
    "\n",
    "X_train_tokenized = [preprocess(doc) for doc in X_train]\n",
    "X_test_tokenized = [preprocess(doc) for doc in X_test]"
   ]
  },
  {
   "cell_type": "markdown",
   "id": "2zxCQMMMYkDQ",
   "metadata": {
    "id": "2zxCQMMMYkDQ"
   },
   "source": [
    "## Pretrained\n",
    "\n",
    "* Common Crawl (840B tokens, 2.2M vocab, cased, 300d vectors, 2.03 GB download): glove.840B.300d.zip"
   ]
  },
  {
   "cell_type": "code",
   "execution_count": null,
   "id": "TGHd1GEEJ2CO",
   "metadata": {
    "id": "TGHd1GEEJ2CO"
   },
   "outputs": [],
   "source": [
    "glove_embeddings = {}\n",
    "\n",
    "# compute GloVe dictionary\n",
    "\n",
    "# read pre-trained txt file line by line and extract word embeddings to dictionary\n",
    "with open('glove.840B.300d.txt', 'r', encoding='utf-8') as file:\n",
    "    for line in file:\n",
    "      values = line.split(' ')\n",
    "      word = values[0]\n",
    "      vector = np.asarray(values[1:], dtype='float32')\n",
    "\n",
    "      glove_embeddings[word] = vector\n",
    "\n",
    "# save dictionary as pickle\n",
    "import pickle\n",
    "with open('pretrained_GloVe_dict.pkl', 'wb') as file:\n",
    "    pickle.dump(glove_embeddings, file)"
   ]
  },
  {
   "cell_type": "code",
   "execution_count": null,
   "id": "phfTTAj8XEPL",
   "metadata": {
    "colab": {
     "base_uri": "https://localhost:8080/"
    },
    "executionInfo": {
     "elapsed": 28484,
     "status": "ok",
     "timestamp": 1721727721533,
     "user": {
      "displayName": "Moritz Roller",
      "userId": "06905633796207639823"
     },
     "user_tz": -120
    },
    "id": "phfTTAj8XEPL",
    "outputId": "d2beccfc-036f-45e3-d018-548a82568272"
   },
   "outputs": [
    {
     "data": {
      "text/plain": [
       "2196016"
      ]
     },
     "execution_count": 23,
     "metadata": {},
     "output_type": "execute_result"
    }
   ],
   "source": [
    "# load dictionary from local pickle file (to save time reading the large original file)\n",
    "import pickle\n",
    "with open('pretrained_GloVe_dict.pkl', 'rb') as file:\n",
    "    glove_embeddings = pickle.load(file)\n",
    "\n",
    "len(glove_embeddings)"
   ]
  },
  {
   "cell_type": "code",
   "execution_count": null,
   "id": "jBMKrCZJSKCg",
   "metadata": {
    "colab": {
     "base_uri": "https://localhost:8080/"
    },
    "executionInfo": {
     "elapsed": 6410,
     "status": "ok",
     "timestamp": 1721727739659,
     "user": {
      "displayName": "Moritz Roller",
      "userId": "06905633796207639823"
     },
     "user_tz": -120
    },
    "id": "jBMKrCZJSKCg",
    "outputId": "98788d70-21fc-4ac8-93a6-ee205536a53a"
   },
   "outputs": [
    {
     "name": "stdout",
     "output_type": "stream",
     "text": [
      "22697\n",
      "(57, 300)\n"
     ]
    }
   ],
   "source": [
    "def get_word_vectors(song):\n",
    "  word_vectors = [glove_embeddings[token] for token in song if token in glove_embeddings]\n",
    "  return(np.array(word_vectors))\n",
    "\n",
    "# word-level embeddings\n",
    "X_train_GloVe_pretrained_big = [get_word_vectors(song) for song in X_train_tokenized]\n",
    "X_test_GloVe_pretrained_big = [get_word_vectors(song) for song in X_test_tokenized]\n",
    "\n",
    "print(len(X_train_GloVe_pretrained_big))\n",
    "print(X_train_GloVe_pretrained_big[0].shape)"
   ]
  },
  {
   "cell_type": "code",
   "execution_count": null,
   "id": "KBVaAQm0Q0s8",
   "metadata": {
    "colab": {
     "base_uri": "https://localhost:8080/"
    },
    "executionInfo": {
     "elapsed": 3169,
     "status": "ok",
     "timestamp": 1721728067955,
     "user": {
      "displayName": "Moritz Roller",
      "userId": "06905633796207639823"
     },
     "user_tz": -120
    },
    "id": "KBVaAQm0Q0s8",
    "outputId": "d1c690f9-d5b7-48a2-eb6b-12246776635d"
   },
   "outputs": [
    {
     "name": "stdout",
     "output_type": "stream",
     "text": [
      "(22697, 300)\n"
     ]
    }
   ],
   "source": [
    "# doc level embedding: mean pooling\n",
    "X_train_GloVe_pretrained = np.array([np.mean(song, axis=0) for song in X_train_GloVe_pretrained_big])\n",
    "X_test_GloVe_pretrained = np.array([np.mean(song, axis=0) for song in X_test_GloVe_pretrained_big])\n",
    "\n",
    "print(X_train_GloVe_pretrained.shape)"
   ]
  },
  {
   "cell_type": "code",
   "execution_count": null,
   "id": "YR1gTGmP_Kil",
   "metadata": {
    "id": "YR1gTGmP_Kil"
   },
   "outputs": [],
   "source": [
    "# save embeddings to local file\n",
    "np.save(os.path.join('GloVe', 'X_train_GloVe_pretrained.npy'), X_train_GloVe_pretrained)\n",
    "np.save(os.path.join('GloVe', 'X_test_GloVe_pretrained.npy'), X_test_GloVe_pretrained)"
   ]
  },
  {
   "cell_type": "markdown",
   "id": "O5bmauHUb_e4",
   "metadata": {
    "id": "O5bmauHUb_e4"
   },
   "source": [
    "## Custom\n",
    "\n",
    "* train on training corpus\n",
    "\n"
   ]
  },
  {
   "cell_type": "code",
   "execution_count": null,
   "id": "SmXONUAMSJ-D",
   "metadata": {
    "colab": {
     "base_uri": "https://localhost:8080/"
    },
    "executionInfo": {
     "elapsed": 308999,
     "status": "ok",
     "timestamp": 1721728479639,
     "user": {
      "displayName": "Moritz Roller",
      "userId": "06905633796207639823"
     },
     "user_tz": -120
    },
    "id": "SmXONUAMSJ-D",
    "outputId": "3a2dd73b-2419-4ed5-8b5f-8206855f23e4"
   },
   "outputs": [
    {
     "name": "stdout",
     "output_type": "stream",
     "text": [
      "Performing 20 training epochs with 4 threads\n",
      "Epoch 0\n",
      "Epoch 1\n",
      "Epoch 2\n",
      "Epoch 3\n",
      "Epoch 4\n",
      "Epoch 5\n",
      "Epoch 6\n",
      "Epoch 7\n",
      "Epoch 8\n",
      "Epoch 9\n",
      "Epoch 10\n",
      "Epoch 11\n",
      "Epoch 12\n",
      "Epoch 13\n",
      "Epoch 14\n",
      "Epoch 15\n",
      "Epoch 16\n",
      "Epoch 17\n",
      "Epoch 18\n",
      "Epoch 19\n"
     ]
    }
   ],
   "source": [
    "# Train GloVe\n",
    "\n",
    "# initialize corpus and GloVe model\n",
    "corpus_model = Corpus()\n",
    "corpus_model.fit(X_train_tokenized, window=10)\n",
    "glove_model = Glove(no_components=300, learning_rate=0.05)\n",
    "\n",
    "# train on corpus\n",
    "glove_model.fit(corpus_model.matrix, epochs=20, no_threads=4, verbose=True)\n",
    "glove_model.add_dictionary(corpus_model.dictionary)\n",
    "\n",
    "# save\n",
    "glove_model.save(os.path.join('GloVe', 'glove_model.model'))\n",
    "\n",
    "# load from previous training\n",
    "# glove_model = Glove.load('glove_model.model')"
   ]
  },
  {
   "cell_type": "code",
   "execution_count": null,
   "id": "YyIf03XIkk2X",
   "metadata": {
    "colab": {
     "base_uri": "https://localhost:8080/"
    },
    "executionInfo": {
     "elapsed": 14698,
     "status": "ok",
     "timestamp": 1721728839538,
     "user": {
      "displayName": "Moritz Roller",
      "userId": "06905633796207639823"
     },
     "user_tz": -120
    },
    "id": "YyIf03XIkk2X",
    "outputId": "301e15e5-c4b3-4f6a-d9dd-2fbc19ed1255"
   },
   "outputs": [
    {
     "data": {
      "text/plain": [
       "(22697, 300)"
      ]
     },
     "execution_count": 40,
     "metadata": {},
     "output_type": "execute_result"
    }
   ],
   "source": [
    "def compute_document_embedding(tokens):\n",
    "    # initialize vector for document embedding\n",
    "    song_embedding = np.zeros(glove_model.no_components)\n",
    "    word_embeddings = []\n",
    "\n",
    "    # the number of words in the song\n",
    "    count = 0\n",
    "\n",
    "    # itterate through each token\n",
    "    for token in tokens:\n",
    "        if token in glove_model.dictionary:\n",
    "            word_embedding = glove_model.word_vectors[glove_model.dictionary[token]]\n",
    "            word_embeddings.append(word_embedding)\n",
    "            song_embedding += word_embedding\n",
    "            count += 1\n",
    "\n",
    "    # mean pooling across all words\n",
    "    if count > 0:\n",
    "        song_embedding /= count\n",
    "\n",
    "    return song_embedding\n",
    "\n",
    "# compute embeddings\n",
    "X_train_GloVe_custom = np.array([compute_document_embedding(tokens) for tokens in X_train_tokenized])\n",
    "X_test_GloVe_custom = np.array([compute_document_embedding(tokens) for tokens in X_test_tokenized])\n",
    "X_train_GloVe_custom.shape"
   ]
  },
  {
   "cell_type": "code",
   "execution_count": null,
   "id": "pQiUnI_cCc2z",
   "metadata": {
    "id": "pQiUnI_cCc2z"
   },
   "outputs": [],
   "source": [
    "# save embeddings to local file\n",
    "np.save(os.path.join('GloVe', 'X_train_GloVe_custom.npy'), X_train_GloVe_custom)\n",
    "np.save(os.path.join('GloVe', 'X_test_GloVe_custom.npy'), X_test_GloVe_custom)"
   ]
  },
  {
   "cell_type": "markdown",
   "id": "d6402d59",
   "metadata": {
    "id": "d6402d59"
   },
   "source": [
    "# BERT"
   ]
  },
  {
   "cell_type": "code",
   "execution_count": 5,
   "id": "0ebfe32b",
   "metadata": {
    "executionInfo": {
     "elapsed": 2,
     "status": "ok",
     "timestamp": 1725056435031,
     "user": {
      "displayName": "Moritz Roller",
      "userId": "06905633796207639823"
     },
     "user_tz": 360
    },
    "id": "0ebfe32b"
   },
   "outputs": [],
   "source": [
    "# !pip install torch\n",
    "from transformers import AutoTokenizer, AutoModel\n",
    "import torch"
   ]
  },
  {
   "cell_type": "code",
   "execution_count": 6,
   "id": "3736f8b2",
   "metadata": {
    "colab": {
     "base_uri": "https://localhost:8080/",
     "height": 365,
     "referenced_widgets": [
      "09f97487cd1444329d2ec83eae89579b",
      "1356c36446154716a1e2e685886fb92c",
      "219e30bfa6a344cc94402f62845aa987",
      "d4a31ab2e6a8490d885967ccb8074d52",
      "cc6fb594d5924dd8b7519e1e0aabeb40",
      "77d2a55dd1964ec88bf9e1f5c9b7bac4",
      "66369a7e36914af2b55c7f2d8c65a435",
      "765ef572de4244cdad1edb09f453ddd6",
      "c5cda18252934117a1fafc10831b4ffa",
      "a9118089b8fe417a97ae1751b514e721",
      "8ccc57c8523c47da9b1faaa3eeaa306c",
      "192474ea2e2b43cf9519cd24e8d1b19b",
      "446062838bb94b248e7f592e8dbac7b5",
      "a813ccb5f2d04e74b508ac525ed9ac26",
      "5d97eea3b8964667802ebd77f3b45236",
      "072a1d6308b04489b5a813c1e1e977ce",
      "a252e5e616264b79aad046c17c26fb05",
      "f495369c40034f578a1b814b88c61d6a",
      "7272305ffd254d208a279201f1143414",
      "197fc41c3c9d4f42b8ef679757882388",
      "37578d276968406b9b53951e8d2341e4",
      "25807ec2b85148d88cf7281a282e3575",
      "e84215b30def4ed3bf05731f43c10c1d",
      "92cedde6d4ea4d7cb0c962771d29da75",
      "d5da7678e8024297b99bda8bacaa402d",
      "e703dc5c91b8449cb28436d97a85f13d",
      "ee0c236844204ea0847f829e952067b5",
      "d0112a816f844670a441c18218cb6e5a",
      "8957191b1c114fdfbc1c7bdfe7315214",
      "1f06aea1910344deabc7b39c702ad054",
      "d9592931d87d4804adc454532a0b297f",
      "49ab5f060fb7457982eaa5f78c73be0e",
      "05e638a66bea42ca8821164fd1f4896a",
      "e9a63d8fba014855876f3095a9cab796",
      "10378eddbca9475bacc7b3c8247ab4ff",
      "6653cc8a0b864b1ca908fb1720f9b89f",
      "a30605a3cdd14d05a56b053a670d79c4",
      "2bf1cab14a0b440982b9b7de066bbf0e",
      "7af71ec2fec04d10aeaa6586ae77d410",
      "5c09718628d344e6b69faa3890475032",
      "3c9dbe6910e9496887d3b2f8e486095d",
      "940dd53c2d20469a92594484d22df549",
      "a676862db8b14cc299402871b7ee87e3",
      "cc33753514be43b38bee9891fe3520eb",
      "39b4835bc17b4dfabe0941c0fb4a8767",
      "eea185e1e8244903bd5507ce9056e184",
      "07a67a0f07d34ff296089116e59b020d",
      "eafc37dce86f46f98b5e39a834133197",
      "6b4c231b2b4d4411ba4910afea126474",
      "a732913bcb0d486cbe4f37111d88405d",
      "991cc0119e424b85b752b6805036ae0d",
      "8cc0c3116f13408d8eaae0a230893b4b",
      "cc4cfc3da0d44a7585458e34a44a4af7",
      "66304835d0014657a0443228f7157c00",
      "5a4a4d2b5b894000838c2607bffee5f6",
      "177c8394bc76453fab036ab8bfd5750f",
      "71e93bbff3a7451580a81e66b9c49c11",
      "700bce05246846f1b0540acf23daca6b",
      "73b50f60bcac405a9d55734565e710e6",
      "99884bdc9ed9448aae301875e1dbefd7",
      "bb7634e2f62349438e8112b1c6bf9ceb",
      "c321ff7c8e214f4a859030b14c3c945b",
      "91ef6eaf6ae3422d827e4b61d5024ae9",
      "0289cc79e10b4625bf059a8d1225ac16",
      "4d388470934a4867991dcfbe8cae809a",
      "fbdd15c75027494f9991e3edd809ad83",
      "d0d01fefbfc6416fa260f62787ca6049",
      "ee6150d0b8f04143a18a84e4aebf73e9",
      "56e7f58713824a0b9d5f089a57c42c6b",
      "204924806a57479ca61e8d069a837f6c",
      "372496e65bdb4156b711cf261674982f",
      "f2abaf6d81ce4342a0cad69d858502c7",
      "3c5c2d54b0a0400b8835a63b85b251de",
      "1c6ce89f20bb4d6c97dcb00cb6059c69",
      "d1c96708cdaa429aa182adfc8fab9488",
      "381b465fd1094209b02725c7e62d9e1c",
      "d95a153d1a6c447aa513104040430f8a"
     ]
    },
    "executionInfo": {
     "elapsed": 11312,
     "status": "ok",
     "timestamp": 1725056447517,
     "user": {
      "displayName": "Moritz Roller",
      "userId": "06905633796207639823"
     },
     "user_tz": 360
    },
    "id": "3736f8b2",
    "outputId": "0735a61f-f8fa-405e-fdc8-eb23cd158af3"
   },
   "outputs": [
    {
     "name": "stderr",
     "output_type": "stream",
     "text": [
      "/usr/local/lib/python3.10/dist-packages/huggingface_hub/utils/_token.py:89: UserWarning: \n",
      "The secret `HF_TOKEN` does not exist in your Colab secrets.\n",
      "To authenticate with the Hugging Face Hub, create a token in your settings tab (https://huggingface.co/settings/tokens), set it as secret in your Google Colab and restart your session.\n",
      "You will be able to reuse this secret in all of your notebooks.\n",
      "Please note that authentication is recommended but still optional to access public models or datasets.\n",
      "  warnings.warn(\n"
     ]
    },
    {
     "data": {
      "application/vnd.jupyter.widget-view+json": {
       "model_id": "09f97487cd1444329d2ec83eae89579b",
       "version_major": 2,
       "version_minor": 0
      },
      "text/plain": [
       "tokenizer_config.json:   0%|          | 0.00/399 [00:00<?, ?B/s]"
      ]
     },
     "metadata": {},
     "output_type": "display_data"
    },
    {
     "data": {
      "application/vnd.jupyter.widget-view+json": {
       "model_id": "192474ea2e2b43cf9519cd24e8d1b19b",
       "version_major": 2,
       "version_minor": 0
      },
      "text/plain": [
       "config.json:   0%|          | 0.00/625 [00:00<?, ?B/s]"
      ]
     },
     "metadata": {},
     "output_type": "display_data"
    },
    {
     "data": {
      "application/vnd.jupyter.widget-view+json": {
       "model_id": "e84215b30def4ed3bf05731f43c10c1d",
       "version_major": 2,
       "version_minor": 0
      },
      "text/plain": [
       "vocab.txt:   0%|          | 0.00/232k [00:00<?, ?B/s]"
      ]
     },
     "metadata": {},
     "output_type": "display_data"
    },
    {
     "data": {
      "application/vnd.jupyter.widget-view+json": {
       "model_id": "e9a63d8fba014855876f3095a9cab796",
       "version_major": 2,
       "version_minor": 0
      },
      "text/plain": [
       "tokenizer.json:   0%|          | 0.00/466k [00:00<?, ?B/s]"
      ]
     },
     "metadata": {},
     "output_type": "display_data"
    },
    {
     "data": {
      "application/vnd.jupyter.widget-view+json": {
       "model_id": "39b4835bc17b4dfabe0941c0fb4a8767",
       "version_major": 2,
       "version_minor": 0
      },
      "text/plain": [
       "added_tokens.json:   0%|          | 0.00/2.00 [00:00<?, ?B/s]"
      ]
     },
     "metadata": {},
     "output_type": "display_data"
    },
    {
     "data": {
      "application/vnd.jupyter.widget-view+json": {
       "model_id": "177c8394bc76453fab036ab8bfd5750f",
       "version_major": 2,
       "version_minor": 0
      },
      "text/plain": [
       "special_tokens_map.json:   0%|          | 0.00/112 [00:00<?, ?B/s]"
      ]
     },
     "metadata": {},
     "output_type": "display_data"
    },
    {
     "data": {
      "application/vnd.jupyter.widget-view+json": {
       "model_id": "d0d01fefbfc6416fa260f62787ca6049",
       "version_major": 2,
       "version_minor": 0
      },
      "text/plain": [
       "model.safetensors:   0%|          | 0.00/438M [00:00<?, ?B/s]"
      ]
     },
     "metadata": {},
     "output_type": "display_data"
    }
   ],
   "source": [
    "# Model: BERT-base\n",
    "bert_tokenizer = AutoTokenizer.from_pretrained(\"sentence-transformers/bert-base-nli-mean-tokens\")\n",
    "pretrained_BERT = AutoModel.from_pretrained(\"sentence-transformers/bert-base-nli-mean-tokens\")"
   ]
  },
  {
   "cell_type": "code",
   "execution_count": 7,
   "id": "pwfMEXEBfyKN",
   "metadata": {
    "colab": {
     "base_uri": "https://localhost:8080/"
    },
    "executionInfo": {
     "elapsed": 3,
     "status": "ok",
     "timestamp": 1725056447518,
     "user": {
      "displayName": "Moritz Roller",
      "userId": "06905633796207639823"
     },
     "user_tz": 360
    },
    "id": "pwfMEXEBfyKN",
    "outputId": "979a4adc-124c-4023-908c-3b20db1d2093"
   },
   "outputs": [
    {
     "name": "stdout",
     "output_type": "stream",
     "text": [
      "Number of Batches (train): 46\n",
      "(197,)\n",
      "Number of Batches (test): 12\n",
      "(175,)\n"
     ]
    }
   ],
   "source": [
    "# tokenize each document with a max length of 128 tokens\n",
    "  # each document is represented with 128 tokens\n",
    "  # each token is represented as a vector of size 768\n",
    "\n",
    "# split into smaller batches to avoid RAM problems\n",
    "batch_size = 500\n",
    "X_train_batches = [X_train[i:i+batch_size] for i in range(0, len(X_train), batch_size)]\n",
    "X_test_batches = [X_test[i:i+batch_size] for i in range(0, len(X_test), batch_size)]\n",
    "\n",
    "\n",
    "print(f'Number of Batches (train): {len(X_train_batches)}')\n",
    "print(X_train_batches[-1].shape) # last batch size\n",
    "\n",
    "print(f'Number of Batches (test): {len(X_test_batches)}')\n",
    "print(X_test_batches[-1].shape) # last batch size"
   ]
  },
  {
   "cell_type": "markdown",
   "id": "TDDvecyqLwhE",
   "metadata": {
    "id": "TDDvecyqLwhE"
   },
   "source": [
    "#### Load saved Embedding\n",
    "\n",
    "* if computed previously, load existing embeddings from local\n"
   ]
  },
  {
   "cell_type": "code",
   "execution_count": null,
   "id": "08AaAVLaQNhO",
   "metadata": {
    "id": "08AaAVLaQNhO"
   },
   "outputs": [],
   "source": [
    "# train\n",
    "BERT_train_last_hidden_states = torch.load(os.path.join('BERT', 'BERT_train_last_hidden_states.pt'))\n",
    "print(BERT_test_last_hidden_states.shape)\n",
    "\n",
    "BERT_train_pooler_outputs = torch.load(os.path.join('BERT', 'BERT_train_pooler_outputs.pt'))\n",
    "print(BERT_train_pooler_outputs.shape)\n",
    "\n",
    "\n",
    "# test\n",
    "BERT_test_last_hidden_states = torch.load(os.path.join('BERT', 'BERT_test_last_hidden_states.pt'))\n",
    "print(BERT_test_last_hidden_states.shape)\n",
    "\n",
    "BERT_test_pooler_outputs = torch.load(os.path.join('BERT', 'BERT_test_pooler_outputs.pt'))\n",
    "print(BERT_test_pooler_outputs.shape)"
   ]
  },
  {
   "cell_type": "markdown",
   "id": "QXlXWesLSnSd",
   "metadata": {
    "id": "QXlXWesLSnSd"
   },
   "source": [
    "### Compute Embeddings\n",
    "\n",
    "* in 5 chunks with 10 batches of 500 songs each to avoid crashing because of RAM\n"
   ]
  },
  {
   "cell_type": "code",
   "execution_count": 11,
   "id": "XDnkvWCTgEc9",
   "metadata": {
    "executionInfo": {
     "elapsed": 663,
     "status": "ok",
     "timestamp": 1725056522299,
     "user": {
      "displayName": "Moritz Roller",
      "userId": "06905633796207639823"
     },
     "user_tz": 360
    },
    "id": "XDnkvWCTgEc9"
   },
   "outputs": [],
   "source": [
    "# compute BERT embedding for each batch (caution: takes very long time)\n",
    "def get_BERT_embeddings(data_batches, BERT_model, tokenizer):\n",
    "  pretrained_BERT_output = []\n",
    "  count = int(0)\n",
    "\n",
    "  for batch in data_batches:\n",
    "    count +=1\n",
    "    print(f'Embedding Batch number: {count}/{len(data_batches)}')\n",
    "    tokenized_batch = tokenizer(batch.to_list(), padding=True, truncation=True,\n",
    "                                            max_length=128, return_tensors='pt')\n",
    "\n",
    "    with torch.no_grad(): # disable gradient calculation to improve efficiency.\n",
    "      pretrained_BERT_output.append(BERT_model(**tokenized_batch))\n",
    "\n",
    "  return pretrained_BERT_output"
   ]
  },
  {
   "cell_type": "code",
   "execution_count": null,
   "id": "kY6NiiZOThSv",
   "metadata": {
    "id": "kY6NiiZOThSv"
   },
   "outputs": [],
   "source": [
    "# concatenate BERT embeddings into single tensor\n",
    "def concat_BERT_embeddings(BERT_output):\n",
    "  last_hidden_states_list = []\n",
    "  pooler_outputs_list = []\n",
    "\n",
    "  for batch_output in BERT_output:\n",
    "    # hidden states of last layer of BERT\n",
    "    last_hidden_states_list.append(batch_output['last_hidden_state'])\n",
    "\n",
    "    # document-level (pooled) representation (aggregated from all 128 tokens)\n",
    "      # no need to 'mean_pool' manually\n",
    "    pooler_outputs_list.append(batch_output['pooler_output'])\n",
    "\n",
    "  last_hidden_states = torch.cat(last_hidden_states_list, dim=0)\n",
    "  pooler_outputs = torch.cat(pooler_outputs_list, dim=0)\n",
    "\n",
    "  print(last_hidden_states.shape)\n",
    "  print(pooler_outputs.shape) # each song represented as vector of 768\n",
    "  return (last_hidden_states, pooler_outputs)"
   ]
  },
  {
   "cell_type": "markdown",
   "id": "mTt5gZp-TJFk",
   "metadata": {
    "id": "mTt5gZp-TJFk"
   },
   "source": [
    "#### Train"
   ]
  },
  {
   "cell_type": "code",
   "execution_count": null,
   "id": "9BD5uxtdvv90",
   "metadata": {
    "colab": {
     "base_uri": "https://localhost:8080/"
    },
    "executionInfo": {
     "elapsed": 16977,
     "status": "ok",
     "timestamp": 1719576517670,
     "user": {
      "displayName": "Moritz Roller",
      "userId": "06905633796207639823"
     },
     "user_tz": -120
    },
    "id": "9BD5uxtdvv90",
    "outputId": "5d7294fe-993f-4a57-80b6-fa768c4714c8"
   },
   "outputs": [
    {
     "name": "stdout",
     "output_type": "stream",
     "text": [
      "torch.Size([5000, 128, 768])\n",
      "torch.Size([5000, 768])\n"
     ]
    }
   ],
   "source": [
    "BERT_output_train1 = get_BERT_embeddings(data_batches = X_train_batches[:10], BERT_model = pretrained_BERT, tokenizer = bert_tokenizer)\n",
    "BERT_train_last_hidden_states1, BERT_train_pooler_outputs1 = concat_BERT_embeddings(BERT_output_train1)\n",
    "\n",
    "torch.save(BERT_train_last_hidden_states1, 'BERT_train_last_hidden_states1.pt')\n",
    "torch.save(BERT_train_pooler_outputs1, 'BERT_train_pooler_outputs1.pt')"
   ]
  },
  {
   "cell_type": "code",
   "execution_count": null,
   "id": "AJqVebZ2o6vV",
   "metadata": {
    "colab": {
     "base_uri": "https://localhost:8080/"
    },
    "executionInfo": {
     "elapsed": 1864679,
     "status": "ok",
     "timestamp": 1719578395712,
     "user": {
      "displayName": "Moritz Roller",
      "userId": "06905633796207639823"
     },
     "user_tz": -120
    },
    "id": "AJqVebZ2o6vV",
    "outputId": "03f8c8c6-d175-46dd-c582-fb2ead86d402"
   },
   "outputs": [
    {
     "name": "stdout",
     "output_type": "stream",
     "text": [
      "Embedding Batch number: 1/10\n",
      "Embedding Batch number: 2/10\n",
      "Embedding Batch number: 3/10\n",
      "Embedding Batch number: 4/10\n",
      "Embedding Batch number: 5/10\n",
      "Embedding Batch number: 6/10\n",
      "Embedding Batch number: 7/10\n",
      "Embedding Batch number: 8/10\n",
      "Embedding Batch number: 9/10\n",
      "Embedding Batch number: 10/10\n",
      "torch.Size([5000, 128, 768])\n",
      "torch.Size([5000, 768])\n"
     ]
    }
   ],
   "source": [
    "BERT_output_train2 = get_BERT_embeddings(data_batches = X_train_batches[10:20], BERT_model = pretrained_BERT, tokenizer = bert_tokenizer)\n",
    "BERT_train_last_hidden_states2, BERT_train_pooler_outputs2 = concat_BERT_embeddings(BERT_output_train2)\n",
    "\n",
    "torch.save(BERT_train_last_hidden_states2, 'BERT_train_last_hidden_states2.pt')\n",
    "torch.save(BERT_train_pooler_outputs2, 'BERT_train_pooler_outputs2.pt')"
   ]
  },
  {
   "cell_type": "code",
   "execution_count": null,
   "id": "xfhs6vVspF5A",
   "metadata": {
    "colab": {
     "base_uri": "https://localhost:8080/"
    },
    "executionInfo": {
     "elapsed": 2513507,
     "status": "ok",
     "timestamp": 1719598543762,
     "user": {
      "displayName": "Moritz Roller",
      "userId": "06905633796207639823"
     },
     "user_tz": -120
    },
    "id": "xfhs6vVspF5A",
    "outputId": "af05b1eb-8999-44ed-9067-51711329e07a"
   },
   "outputs": [
    {
     "name": "stdout",
     "output_type": "stream",
     "text": [
      "Embedding Batch number: 1/10\n",
      "Embedding Batch number: 2/10\n",
      "Embedding Batch number: 3/10\n",
      "Embedding Batch number: 4/10\n",
      "Embedding Batch number: 5/10\n",
      "Embedding Batch number: 6/10\n",
      "Embedding Batch number: 7/10\n",
      "Embedding Batch number: 8/10\n",
      "Embedding Batch number: 9/10\n",
      "Embedding Batch number: 10/10\n",
      "torch.Size([5000, 128, 768])\n",
      "torch.Size([5000, 768])\n"
     ]
    }
   ],
   "source": [
    "BERT_output_train3 = get_BERT_embeddings(data_batches = X_train_batches[20:30], BERT_model = pretrained_BERT, tokenizer = bert_tokenizer)\n",
    "BERT_train_last_hidden_states3, BERT_train_pooler_outputs3 = concat_BERT_embeddings(BERT_output_train3)\n",
    "torch.save(BERT_train_last_hidden_states3, 'BERT_train_last_hidden_states3.pt')\n",
    "torch.save(BERT_train_pooler_outputs3, 'BERT_train_pooler_outputs3.pt')"
   ]
  },
  {
   "cell_type": "code",
   "execution_count": null,
   "id": "5s3D41tMUdQs",
   "metadata": {
    "colab": {
     "base_uri": "https://localhost:8080/"
    },
    "executionInfo": {
     "elapsed": 2547620,
     "status": "ok",
     "timestamp": 1719601130003,
     "user": {
      "displayName": "Moritz Roller",
      "userId": "06905633796207639823"
     },
     "user_tz": -120
    },
    "id": "5s3D41tMUdQs",
    "outputId": "8e1cd8d1-5b6d-418d-fc47-9aeb0bfa5df6"
   },
   "outputs": [
    {
     "name": "stdout",
     "output_type": "stream",
     "text": [
      "Embedding Batch number: 1/10\n",
      "Embedding Batch number: 2/10\n",
      "Embedding Batch number: 3/10\n",
      "Embedding Batch number: 4/10\n",
      "Embedding Batch number: 5/10\n",
      "Embedding Batch number: 6/10\n",
      "Embedding Batch number: 7/10\n",
      "Embedding Batch number: 8/10\n",
      "Embedding Batch number: 9/10\n",
      "Embedding Batch number: 10/10\n",
      "torch.Size([5000, 128, 768])\n",
      "torch.Size([5000, 768])\n"
     ]
    }
   ],
   "source": [
    "BERT_output_train4 = get_BERT_embeddings(data_batches = X_train_batches[30:40], BERT_model = pretrained_BERT, tokenizer = bert_tokenizer)\n",
    "BERT_train_last_hidden_states4, BERT_train_pooler_outputs4 = concat_BERT_embeddings(BERT_output_train4)\n",
    "torch.save(BERT_train_last_hidden_states4, 'BERT_train_last_hidden_states4.pt')\n",
    "torch.save(BERT_train_pooler_outputs4, 'BERT_train_pooler_outputs4.pt')"
   ]
  },
  {
   "cell_type": "code",
   "execution_count": null,
   "id": "6MumsOUDnzcx",
   "metadata": {
    "colab": {
     "base_uri": "https://localhost:8080/"
    },
    "executionInfo": {
     "elapsed": 1411386,
     "status": "ok",
     "timestamp": 1719602662593,
     "user": {
      "displayName": "Moritz Roller",
      "userId": "06905633796207639823"
     },
     "user_tz": -120
    },
    "id": "6MumsOUDnzcx",
    "outputId": "1a36648f-cb82-4571-9cab-8e915e84e837"
   },
   "outputs": [
    {
     "name": "stdout",
     "output_type": "stream",
     "text": [
      "Embedding Batch number: 1/6\n",
      "Embedding Batch number: 2/6\n",
      "Embedding Batch number: 3/6\n",
      "Embedding Batch number: 4/6\n",
      "Embedding Batch number: 5/6\n",
      "Embedding Batch number: 6/6\n",
      "torch.Size([2697, 128, 768])\n",
      "torch.Size([2697, 768])\n"
     ]
    }
   ],
   "source": [
    "BERT_output_train5 = get_BERT_embeddings(data_batches = X_train_batches[40:46], BERT_model = pretrained_BERT, tokenizer = bert_tokenizer)\n",
    "BERT_train_last_hidden_states5, BERT_train_pooler_outputs5 = concat_BERT_embeddings(BERT_output_train5)\n",
    "torch.save(BERT_train_last_hidden_states5, 'BERT_train_last_hidden_states5.pt')\n",
    "torch.save(BERT_train_pooler_outputs5, 'BERT_train_pooler_outputs5.pt')"
   ]
  },
  {
   "cell_type": "markdown",
   "id": "AmYMoq3oTLSW",
   "metadata": {
    "id": "AmYMoq3oTLSW"
   },
   "source": [
    "#### Test"
   ]
  },
  {
   "cell_type": "code",
   "execution_count": null,
   "id": "snaxpWYGhR9Z",
   "metadata": {
    "colab": {
     "base_uri": "https://localhost:8080/"
    },
    "executionInfo": {
     "elapsed": 2161808,
     "status": "ok",
     "timestamp": 1718785690687,
     "user": {
      "displayName": "Moritz Roller",
      "userId": "06905633796207639823"
     },
     "user_tz": -120
    },
    "id": "snaxpWYGhR9Z",
    "outputId": "f3e9ff22-60ca-412c-c206-ee863a35e988"
   },
   "outputs": [
    {
     "name": "stdout",
     "output_type": "stream",
     "text": [
      "Embedding Batch number: 1/12\n",
      "Embedding Batch number: 2/12\n",
      "Embedding Batch number: 3/12\n",
      "Embedding Batch number: 4/12\n",
      "Embedding Batch number: 5/12\n",
      "Embedding Batch number: 6/12\n",
      "Embedding Batch number: 7/12\n",
      "Embedding Batch number: 8/12\n",
      "Embedding Batch number: 9/12\n",
      "Embedding Batch number: 10/12\n",
      "Embedding Batch number: 11/12\n",
      "Embedding Batch number: 12/12\n"
     ]
    }
   ],
   "source": [
    "BERT_output_test = get_BERT_embeddings(data_batches = X_test_batches, BERT_model = pretrained_BERT, tokenizer = bert_tokenizer)\n",
    "BERT_test_last_hidden_states, BERT_test_pooler_outputs = concat_BERT_embeddings(BERT_output_test)\n",
    "\n",
    "torch.save(BERT_test_last_hidden_states, 'BERT_test_last_hidden_states.pt')\n",
    "torch.save(BERT_test_pooler_outputs, 'BERT_test_pooler_outputs.pt')"
   ]
  },
  {
   "cell_type": "markdown",
   "id": "zFoFnB46INJH",
   "metadata": {
    "id": "zFoFnB46INJH"
   },
   "source": [
    "### Document Embeddings"
   ]
  },
  {
   "cell_type": "code",
   "execution_count": null,
   "id": "lUvszn0NIRQr",
   "metadata": {
    "id": "lUvszn0NIRQr"
   },
   "outputs": [],
   "source": [
    "BERT_train_last_hidden_states = torch.load(os.path.join('BERT', 'BERT_train_last_hidden_states.pt'))\n",
    "BERT_test_last_hidden_states = torch.load(os.path.join('BERT', 'BERT_test_last_hidden_states.pt'))\n",
    "\n",
    "print(\"BERT:\", BERT_train_last_hidden_states.shape)"
   ]
  },
  {
   "cell_type": "markdown",
   "id": "UQBDduSMIRdn",
   "metadata": {
    "id": "UQBDduSMIRdn"
   },
   "source": [
    "##### CLS"
   ]
  },
  {
   "cell_type": "code",
   "execution_count": null,
   "id": "MViO_OOQI_Hq",
   "metadata": {
    "id": "MViO_OOQI_Hq"
   },
   "outputs": [],
   "source": [
    "# CLS\n",
    "X_train_BERT_CLS = BERT_train_last_hidden_states[:, 0, :].detach().cpu().numpy()\n",
    "X_test_BERT_CLS = BERT_test_last_hidden_states[:, 0, :].detach().cpu().numpy()\n",
    "print(X_train_BERT_CLS.shape)\n",
    "print(X_test_BERT_CLS.shape)"
   ]
  },
  {
   "cell_type": "code",
   "execution_count": null,
   "id": "TsEqrU5EJDzv",
   "metadata": {
    "id": "TsEqrU5EJDzv"
   },
   "outputs": [],
   "source": [
    "np.save(os.path.join('BERT', 'X_train_BERT_CLS.npy'), X_train_BERT_CLS)\n",
    "np.save(os.path.join('BERT', 'X_test_BERT_CLS.npy'), X_test_BERT_CLS)"
   ]
  },
  {
   "cell_type": "markdown",
   "id": "-4nml74kJLx_",
   "metadata": {
    "id": "-4nml74kJLx_"
   },
   "source": [
    "#### Mean Pooling"
   ]
  },
  {
   "cell_type": "code",
   "execution_count": null,
   "id": "40raXZJ5JNzX",
   "metadata": {
    "id": "40raXZJ5JNzX"
   },
   "outputs": [],
   "source": [
    "X_train_BERT_MeanPooling = BERT_train_last_hidden_states.mean(dim=1).detach().cpu().numpy()\n",
    "X_test_BERT_MeanPooling = BERT_test_last_hidden_states.mean(dim=1).detach().cpu().numpy()\n",
    "print(X_train_BERT_MeanPooling.shape)\n",
    "print(X_test_BERT_MeanPooling.shape)"
   ]
  },
  {
   "cell_type": "code",
   "execution_count": null,
   "id": "jzcB-iHMJRjj",
   "metadata": {
    "id": "jzcB-iHMJRjj"
   },
   "outputs": [],
   "source": [
    "np.save(os.path.join('BERT', 'X_train_BERT_MeanPooling.npy'), X_train_BERT_MeanPooling)\n",
    "np.save(os.path.join('BERT', 'X_test_BERT_MeanPooling.npy'), X_test_BERT_MeanPooling)"
   ]
  },
  {
   "cell_type": "markdown",
   "id": "IgbkdvbqtIiH",
   "metadata": {
    "id": "IgbkdvbqtIiH"
   },
   "source": [
    "# DistilBERT"
   ]
  },
  {
   "cell_type": "code",
   "execution_count": 8,
   "id": "HpxXaXzQiDyt",
   "metadata": {
    "colab": {
     "base_uri": "https://localhost:8080/",
     "height": 177,
     "referenced_widgets": [
      "5f09b20cefeb4ecf9a447059fe4bce8c",
      "046810b33fab401e8701977b72e2dc7c",
      "3c38ce85798f4ab1b97e9f411e70e8de",
      "bb5a6f2451b94f5baa2337d9e8a462ce",
      "7123e468ebdb484b94c8b738192b7a1b",
      "03afa9a3cc9843c29613341c201f7965",
      "90b6478072754977a4a51106709871c5",
      "7c963ae5c3294d80b427446d8d04955f",
      "335b11e9e0c947abbda24eb1c2d7763b",
      "09007df63d804aa4a1776e0d4788ab68",
      "c06517edd7c64986b0ab062f2917175e",
      "730fdc0a6f5342738729f7e55c14e86e",
      "ae305a37fd354aa3b9cb136735adb952",
      "3976ef94097e4e9c91587b8f4314f42f",
      "2657057f79974dc39a45c9a11667c811",
      "f36937f25a664fb7a81bbd38735eb997",
      "69ac88a4aefc4f7281d54b299fcbf075",
      "f42f75ad732c4c2ba303b702d72a4f34",
      "34143b70271841fbad4db1727a9d32ce",
      "89ae6beab3454a939f7451605eac5c14",
      "d171b2398aba430dbdb65d92ca19c636",
      "8b0bf38bb7cb49b98056d7f1a5fcd2ff",
      "d32e020fcee842ecb6790ae9551035df",
      "cace84d58389483baf9d20ff6c6cb660",
      "b8988d5e53ba46798fc48e26056aed59",
      "c6e23a0d3928438f9c8ff6f79c5efd8b",
      "b565984c16154d249258193046980013",
      "662e7c29ce8244e1897965ffd10e6878",
      "b9f871d7284f410a8b544394ee6440d9",
      "b196d13ef92642f09c239a74c06dc04c",
      "777ae25ef97045c0a13ba0730ea6efca",
      "ad30c566572e427da88c56442fc48743",
      "dbb7ce4cd42e4af090dbafb29eea7452",
      "9a5079ecf9a1451c81f8ada6d48c5a91",
      "b0386d66b349417c9d0c71414099d057",
      "8447268826f94191bf2027207eba1147",
      "19da3acfd88748eb91a3beda40ddf4eb",
      "a27cb49b23ea4dc79204916e63798ab7",
      "5878295c3786496cb5fc8d8be65fc3b4",
      "5a34646f159e47a499ee5cb447da8d3e",
      "181ca247c68a463e8a45c784b87921bb",
      "af1c01a35b9149639c9680bfce9d118c",
      "2ef5b7843cf9419a9d5e630250401bfb",
      "244fcd74ce054b1d84ad959c0344eb58",
      "b9c55deff5f34f44aaf55bfdc4d1603f",
      "63eaa9f92d414198b6a47331ebd22883",
      "effdaf25485f470daf37e369096c8c2e",
      "22b8097a02ff43479e8468e145784ee3",
      "a24de402e60a4457946cc15866e776e9",
      "c0f0da72b2d9496890ee3c22550bf36b",
      "5b4048921e194158a4670e4cc5d1f363",
      "3b4f6efab99a4dae8b0bbca5acfcb0ac",
      "0c0eec5528fa454d8add711d990569d5",
      "19335747ac8b4d32a1e3a450f269441d",
      "039b586a3f2b4edfbe456b31ad4ccddf"
     ]
    },
    "executionInfo": {
     "elapsed": 5476,
     "status": "ok",
     "timestamp": 1725056492382,
     "user": {
      "displayName": "Moritz Roller",
      "userId": "06905633796207639823"
     },
     "user_tz": 360
    },
    "id": "HpxXaXzQiDyt",
    "outputId": "6493ba19-90d6-4b3f-f10e-16e312dbd5c4"
   },
   "outputs": [
    {
     "data": {
      "application/vnd.jupyter.widget-view+json": {
       "model_id": "5f09b20cefeb4ecf9a447059fe4bce8c",
       "version_major": 2,
       "version_minor": 0
      },
      "text/plain": [
       "tokenizer_config.json:   0%|          | 0.00/48.0 [00:00<?, ?B/s]"
      ]
     },
     "metadata": {},
     "output_type": "display_data"
    },
    {
     "data": {
      "application/vnd.jupyter.widget-view+json": {
       "model_id": "730fdc0a6f5342738729f7e55c14e86e",
       "version_major": 2,
       "version_minor": 0
      },
      "text/plain": [
       "config.json:   0%|          | 0.00/483 [00:00<?, ?B/s]"
      ]
     },
     "metadata": {},
     "output_type": "display_data"
    },
    {
     "data": {
      "application/vnd.jupyter.widget-view+json": {
       "model_id": "d32e020fcee842ecb6790ae9551035df",
       "version_major": 2,
       "version_minor": 0
      },
      "text/plain": [
       "vocab.txt:   0%|          | 0.00/232k [00:00<?, ?B/s]"
      ]
     },
     "metadata": {},
     "output_type": "display_data"
    },
    {
     "data": {
      "application/vnd.jupyter.widget-view+json": {
       "model_id": "9a5079ecf9a1451c81f8ada6d48c5a91",
       "version_major": 2,
       "version_minor": 0
      },
      "text/plain": [
       "tokenizer.json:   0%|          | 0.00/466k [00:00<?, ?B/s]"
      ]
     },
     "metadata": {},
     "output_type": "display_data"
    },
    {
     "data": {
      "application/vnd.jupyter.widget-view+json": {
       "model_id": "b9c55deff5f34f44aaf55bfdc4d1603f",
       "version_major": 2,
       "version_minor": 0
      },
      "text/plain": [
       "model.safetensors:   0%|          | 0.00/268M [00:00<?, ?B/s]"
      ]
     },
     "metadata": {},
     "output_type": "display_data"
    }
   ],
   "source": [
    "# Model: DistilBERT\n",
    "distilbert_tokenizer = AutoTokenizer.from_pretrained(\"distilbert-base-uncased\")\n",
    "pretrained_DistilBERT = AutoModel.from_pretrained(\"distilbert-base-uncased\")"
   ]
  },
  {
   "cell_type": "markdown",
   "id": "UXE-6fwpgdA9",
   "metadata": {
    "id": "UXE-6fwpgdA9"
   },
   "source": [
    "### Load saved Embedding\n",
    "\n",
    "* load previously calculated embeddings from local"
   ]
  },
  {
   "cell_type": "code",
   "execution_count": 14,
   "id": "g4utJeyz9PCA",
   "metadata": {
    "colab": {
     "base_uri": "https://localhost:8080/"
    },
    "executionInfo": {
     "elapsed": 11246,
     "status": "ok",
     "timestamp": 1725059420583,
     "user": {
      "displayName": "Moritz Roller",
      "userId": "06905633796207639823"
     },
     "user_tz": 360
    },
    "id": "g4utJeyz9PCA",
    "outputId": "94f659a2-4677-4912-b2ce-aa045b300e4f"
   },
   "outputs": [
    {
     "name": "stdout",
     "output_type": "stream",
     "text": [
      "torch.Size([22697, 128, 768])\n"
     ]
    }
   ],
   "source": [
    "# Train\n",
    "DistillBERT_train_last_hidden_states = torch.load(os.path.join('DistillBERT', 'DistillBERT_train_last_hidden_states.pt'), weights_only=True, weights_only=True)\n",
    "print(DistillBERT_train_last_hidden_states.shape)"
   ]
  },
  {
   "cell_type": "code",
   "execution_count": 17,
   "id": "pR2mx3XCgkE9",
   "metadata": {
    "colab": {
     "base_uri": "https://localhost:8080/"
    },
    "executionInfo": {
     "elapsed": 79775,
     "status": "ok",
     "timestamp": 1725059744802,
     "user": {
      "displayName": "Moritz Roller",
      "userId": "06905633796207639823"
     },
     "user_tz": 360
    },
    "id": "pR2mx3XCgkE9",
    "outputId": "3bb9d641-6c62-4c9a-fb95-f2199903b437"
   },
   "outputs": [
    {
     "name": "stdout",
     "output_type": "stream",
     "text": [
      "torch.Size([10000, 128, 768])\n",
      "torch.Size([15000, 128, 768])\n",
      "torch.Size([22697, 128, 768])\n"
     ]
    }
   ],
   "source": [
    "# Train alternative\n",
    "  #  load from batches to avoid RAM issues\n",
    "\n",
    "# 1&2\n",
    "DistillBERT_train_last_hidden_states1 = torch.load(os.path.join('DistillBERT', 'DistillBERT_train_last_hidden_states1.pt'), weights_only=True)\n",
    "DistillBERT_train_last_hidden_states2 = torch.load(os.path.join('DistillBERT', 'DistillBERT_train_last_hidden_states2.pt'), weights_only=True)\n",
    "DistillBERT_train_last_hidden_states = torch.cat((DistillBERT_train_last_hidden_states1, DistillBERT_train_last_hidden_states2), dim=0)\n",
    "del(DistillBERT_train_last_hidden_states1)\n",
    "del(DistillBERT_train_last_hidden_states2)\n",
    "print(DistillBERT_train_last_hidden_states.shape)\n",
    "\n",
    "#3\n",
    "DistillBERT_train_last_hidden_states3 = torch.load(os.path.join('DistillBERT', 'DistillBERT_train_last_hidden_states3.pt'), weights_only=True)\n",
    "DistillBERT_train_last_hidden_states = torch.cat((DistillBERT_train_last_hidden_states, DistillBERT_train_last_hidden_states3), dim=0)\n",
    "del(DistillBERT_train_last_hidden_states3)\n",
    "print(DistillBERT_train_last_hidden_states.shape)\n",
    "\n",
    "#4\n",
    "DistillBERT_train_last_hidden_states4 = torch.load(os.path.join('DistillBERT', 'DistillBERT_train_last_hidden_states4.pt'), weights_only=True)\n",
    "DistillBERT_train_last_hidden_states = torch.cat((DistillBERT_train_last_hidden_states, DistillBERT_train_last_hidden_states4), dim=0)\n",
    "del(DistillBERT_train_last_hidden_states4)\n",
    "print(DistillBERT_train_last_hidden_states.shape)\n",
    "\n",
    "#5\n",
    "DistillBERT_train_last_hidden_states5 = torch.load(os.path.join('DistillBERT', 'DistillBERT_train_last_hidden_states5.pt'), weights_only=True)\n",
    "DistillBERT_train_last_hidden_states = torch.cat((DistillBERT_train_last_hidden_states, DistillBERT_train_last_hidden_states5), dim=0)\n",
    "del(DistillBERT_train_last_hidden_states5)\n",
    "\n",
    "print(DistillBERT_train_last_hidden_states.shape)\n",
    "\n",
    "torch.save(DistillBERT_train_last_hidden_states, os.path.join('DistillBERT', 'DistillBERT_train_last_hidden_states.pt'))"
   ]
  },
  {
   "cell_type": "code",
   "execution_count": null,
   "id": "-8jpNGKNg4QX",
   "metadata": {
    "colab": {
     "base_uri": "https://localhost:8080/"
    },
    "executionInfo": {
     "elapsed": 13355,
     "status": "ok",
     "timestamp": 1719835265666,
     "user": {
      "displayName": "Moritz Roller",
      "userId": "06905633796207639823"
     },
     "user_tz": -120
    },
    "id": "-8jpNGKNg4QX",
    "outputId": "297911d7-8aac-40d9-b0c2-d95d7aeb58b3"
   },
   "outputs": [
    {
     "name": "stdout",
     "output_type": "stream",
     "text": [
      "torch.Size([5675, 128, 768])\n"
     ]
    }
   ],
   "source": [
    "# Test\n",
    "DistillBERT_test_last_hidden_states = torch.load(os.path.join('DistillBERT', 'DistillBERT_test_last_hidden_states.pt'))\n",
    "print(DistillBERT_test_last_hidden_states.shape)"
   ]
  },
  {
   "cell_type": "markdown",
   "id": "Vb7Uo0gCaeft",
   "metadata": {
    "id": "Vb7Uo0gCaeft"
   },
   "source": [
    "### Compute Embeddings"
   ]
  },
  {
   "cell_type": "code",
   "execution_count": 9,
   "id": "sy5QxiCM75In",
   "metadata": {
    "executionInfo": {
     "elapsed": 377,
     "status": "ok",
     "timestamp": 1725056505048,
     "user": {
      "displayName": "Moritz Roller",
      "userId": "06905633796207639823"
     },
     "user_tz": 360
    },
    "id": "sy5QxiCM75In"
   },
   "outputs": [],
   "source": [
    "# concatenate DistillBERT embeddings into single tensor\n",
    "  # no pooler_output\n",
    "def concat_DistillBERT_embeddings(BERT_output):\n",
    "  last_hidden_states_list = []\n",
    "  pooler_outputs_list = []\n",
    "\n",
    "  for batch_output in BERT_output:\n",
    "    # hidden states of last layer of BERT\n",
    "    last_hidden_states_list.append(batch_output['last_hidden_state'])\n",
    "\n",
    "  last_hidden_states = torch.cat(last_hidden_states_list, dim=0)\n",
    "  print(last_hidden_states.shape)\n",
    "\n",
    "  return last_hidden_states"
   ]
  },
  {
   "cell_type": "markdown",
   "id": "vGp28mD-cILi",
   "metadata": {
    "id": "vGp28mD-cILi"
   },
   "source": [
    "#### Train\n",
    "\n",
    "* in batches to avoid RAM issues"
   ]
  },
  {
   "cell_type": "code",
   "execution_count": 12,
   "id": "98rOJuZHXp4k",
   "metadata": {
    "colab": {
     "base_uri": "https://localhost:8080/"
    },
    "executionInfo": {
     "elapsed": 747367,
     "status": "ok",
     "timestamp": 1725057274248,
     "user": {
      "displayName": "Moritz Roller",
      "userId": "06905633796207639823"
     },
     "user_tz": 360
    },
    "id": "98rOJuZHXp4k",
    "outputId": "1dd32c2e-1679-490e-8a51-4e0e4f18f74f"
   },
   "outputs": [
    {
     "name": "stdout",
     "output_type": "stream",
     "text": [
      "Embedding Batch number: 1/10\n",
      "Embedding Batch number: 2/10\n",
      "Embedding Batch number: 3/10\n",
      "Embedding Batch number: 4/10\n",
      "Embedding Batch number: 5/10\n",
      "Embedding Batch number: 6/10\n",
      "Embedding Batch number: 7/10\n",
      "Embedding Batch number: 8/10\n",
      "Embedding Batch number: 9/10\n",
      "Embedding Batch number: 10/10\n",
      "torch.Size([5000, 128, 768])\n"
     ]
    }
   ],
   "source": [
    "DistillBERT_output_train1 = get_BERT_embeddings(data_batches = X_train_batches[:10], BERT_model = pretrained_DistilBERT, tokenizer = distilbert_tokenizer)\n",
    "DistillBERT_train_last_hidden_states1 = concat_DistillBERT_embeddings(DistillBERT_output_train1)\n",
    "\n",
    "torch.save(DistillBERT_train_last_hidden_states1, os.path.join('DistillBERT', 'DistillBERT_train_last_hidden_states1.pt'))"
   ]
  },
  {
   "cell_type": "code",
   "execution_count": null,
   "id": "jbHwtJwsbctw",
   "metadata": {
    "colab": {
     "base_uri": "https://localhost:8080/"
    },
    "executionInfo": {
     "elapsed": 1426828,
     "status": "ok",
     "timestamp": 1719827760674,
     "user": {
      "displayName": "Moritz Roller",
      "userId": "06905633796207639823"
     },
     "user_tz": -120
    },
    "id": "jbHwtJwsbctw",
    "outputId": "d7175c77-f9df-4c8a-a25c-009f0cd8ede1"
   },
   "outputs": [
    {
     "name": "stdout",
     "output_type": "stream",
     "text": [
      "Embedding Batch number: 1/10\n",
      "Embedding Batch number: 2/10\n",
      "Embedding Batch number: 3/10\n",
      "Embedding Batch number: 4/10\n",
      "Embedding Batch number: 5/10\n",
      "Embedding Batch number: 6/10\n",
      "Embedding Batch number: 7/10\n",
      "Embedding Batch number: 8/10\n",
      "Embedding Batch number: 9/10\n",
      "Embedding Batch number: 10/10\n",
      "torch.Size([5000, 128, 768])\n"
     ]
    }
   ],
   "source": [
    "DistillBERT_output_train2 = get_BERT_embeddings(data_batches = X_train_batches[10:20], BERT_model = pretrained_DistilBERT, tokenizer = distilbert_tokenizer)\n",
    "DistillBERT_train_last_hidden_states2 = concat_DistillBERT_embeddings(DistillBERT_output_train2)\n",
    "\n",
    "torch.save(DistillBERT_train_last_hidden_states2, os.path.join('DistillBERT', 'DistillBERT_train_last_hidden_states2.pt'))"
   ]
  },
  {
   "cell_type": "code",
   "execution_count": null,
   "id": "zVhKDeVAbcwK",
   "metadata": {
    "colab": {
     "base_uri": "https://localhost:8080/"
    },
    "executionInfo": {
     "elapsed": 713459,
     "status": "ok",
     "timestamp": 1719829478977,
     "user": {
      "displayName": "Moritz Roller",
      "userId": "06905633796207639823"
     },
     "user_tz": -120
    },
    "id": "zVhKDeVAbcwK",
    "outputId": "523b0e7d-e2aa-4caf-da6c-91e646db0775"
   },
   "outputs": [
    {
     "name": "stdout",
     "output_type": "stream",
     "text": [
      "Embedding Batch number: 1/10\n",
      "Embedding Batch number: 2/10\n",
      "Embedding Batch number: 3/10\n",
      "Embedding Batch number: 4/10\n",
      "Embedding Batch number: 5/10\n",
      "Embedding Batch number: 6/10\n",
      "Embedding Batch number: 7/10\n",
      "Embedding Batch number: 8/10\n",
      "Embedding Batch number: 9/10\n",
      "Embedding Batch number: 10/10\n",
      "torch.Size([5000, 128, 768])\n"
     ]
    }
   ],
   "source": [
    "DistillBERT_output_train3 = get_BERT_embeddings(data_batches = X_train_batches[20:30], BERT_model = pretrained_DistilBERT, tokenizer = distilbert_tokenizer)\n",
    "DistillBERT_train_last_hidden_states3 = concat_DistillBERT_embeddings(DistillBERT_output_train3)\n",
    "\n",
    "torch.save(DistillBERT_train_last_hidden_states3, os.path.join('DistillBERT', 'DistillBERT_train_last_hidden_states3.pt'))"
   ]
  },
  {
   "cell_type": "code",
   "execution_count": null,
   "id": "gLpxp3RxbcyY",
   "metadata": {
    "colab": {
     "base_uri": "https://localhost:8080/"
    },
    "executionInfo": {
     "elapsed": 1376094,
     "status": "ok",
     "timestamp": 1719831251463,
     "user": {
      "displayName": "Moritz Roller",
      "userId": "06905633796207639823"
     },
     "user_tz": -120
    },
    "id": "gLpxp3RxbcyY",
    "outputId": "7a347a5c-e17a-4965-bda7-28f140949cbc"
   },
   "outputs": [
    {
     "name": "stdout",
     "output_type": "stream",
     "text": [
      "Embedding Batch number: 1/10\n",
      "Embedding Batch number: 2/10\n",
      "Embedding Batch number: 3/10\n",
      "Embedding Batch number: 4/10\n",
      "Embedding Batch number: 5/10\n",
      "Embedding Batch number: 6/10\n",
      "Embedding Batch number: 7/10\n",
      "Embedding Batch number: 8/10\n",
      "Embedding Batch number: 9/10\n",
      "Embedding Batch number: 10/10\n",
      "torch.Size([5000, 128, 768])\n"
     ]
    }
   ],
   "source": [
    "DistillBERT_output_train4 = get_BERT_embeddings(data_batches = X_train_batches[30:40], BERT_model = pretrained_DistilBERT, tokenizer = distilbert_tokenizer)\n",
    "DistillBERT_train_last_hidden_states4 = concat_DistillBERT_embeddings(DistillBERT_output_train4)\n",
    "\n",
    "torch.save(DistillBERT_train_last_hidden_states4, os.path.join('DistillBERT', 'DistillBERT_train_last_hidden_states4.pt'))"
   ]
  },
  {
   "cell_type": "code",
   "execution_count": null,
   "id": "bjs7IWOF9Hou",
   "metadata": {
    "colab": {
     "base_uri": "https://localhost:8080/"
    },
    "executionInfo": {
     "elapsed": 816704,
     "status": "ok",
     "timestamp": 1719832072276,
     "user": {
      "displayName": "Moritz Roller",
      "userId": "06905633796207639823"
     },
     "user_tz": -120
    },
    "id": "bjs7IWOF9Hou",
    "outputId": "3be516a2-7a7c-4756-a771-79c1b8336d01"
   },
   "outputs": [
    {
     "name": "stdout",
     "output_type": "stream",
     "text": [
      "Embedding Batch number: 1/6\n",
      "Embedding Batch number: 2/6\n",
      "Embedding Batch number: 3/6\n",
      "Embedding Batch number: 4/6\n",
      "Embedding Batch number: 5/6\n",
      "Embedding Batch number: 6/6\n",
      "torch.Size([2697, 128, 768])\n"
     ]
    }
   ],
   "source": [
    "DistillBERT_output_train5 = get_BERT_embeddings(data_batches = X_train_batches[40:], BERT_model = pretrained_DistilBERT, tokenizer = distilbert_tokenizer)\n",
    "DistillBERT_train_last_hidden_states5 = concat_DistillBERT_embeddings(DistillBERT_output_train5)\n",
    "\n",
    "torch.save(DistillBERT_train_last_hidden_states5, os.path.join('DistillBERT', 'DistillBERT_train_last_hidden_states5.pt'))"
   ]
  },
  {
   "cell_type": "markdown",
   "id": "j7VPVr5ecJz7",
   "metadata": {
    "id": "j7VPVr5ecJz7"
   },
   "source": [
    "#### Test"
   ]
  },
  {
   "cell_type": "code",
   "execution_count": null,
   "id": "CO6CIlincLjL",
   "metadata": {
    "colab": {
     "base_uri": "https://localhost:8080/"
    },
    "executionInfo": {
     "elapsed": 726939,
     "status": "ok",
     "timestamp": 1719834322441,
     "user": {
      "displayName": "Moritz Roller",
      "userId": "06905633796207639823"
     },
     "user_tz": -120
    },
    "id": "CO6CIlincLjL",
    "outputId": "88b7ab3d-04a0-4cc8-ba54-a772df4f5abb"
   },
   "outputs": [
    {
     "name": "stdout",
     "output_type": "stream",
     "text": [
      "Embedding Batch number: 1/12\n",
      "Embedding Batch number: 2/12\n",
      "Embedding Batch number: 3/12\n",
      "Embedding Batch number: 4/12\n",
      "Embedding Batch number: 5/12\n",
      "Embedding Batch number: 6/12\n",
      "Embedding Batch number: 7/12\n",
      "Embedding Batch number: 8/12\n",
      "Embedding Batch number: 9/12\n",
      "Embedding Batch number: 10/12\n",
      "Embedding Batch number: 11/12\n",
      "Embedding Batch number: 12/12\n",
      "torch.Size([5675, 128, 768])\n"
     ]
    }
   ],
   "source": [
    "DistillBERT_output_test = get_BERT_embeddings(data_batches = X_test_batches, BERT_model = pretrained_DistilBERT, tokenizer = distilbert_tokenizer)\n",
    "DistillBERT_test_last_hidden_states = concat_DistillBERT_embeddings(DistillBERT_output_test)\n",
    "\n",
    "torch.save(DistillBERT_test_last_hidden_states, os.path.join('DistillBERT', 'DistillBERT_test_last_hidden_states.pt'))"
   ]
  },
  {
   "cell_type": "markdown",
   "id": "Ymf77gRcHdk1",
   "metadata": {
    "id": "Ymf77gRcHdk1"
   },
   "source": [
    "### Document Embeddings"
   ]
  },
  {
   "cell_type": "code",
   "execution_count": null,
   "id": "j06qHpPtHf_u",
   "metadata": {
    "id": "j06qHpPtHf_u"
   },
   "outputs": [],
   "source": [
    "# load from local\n",
    "DistillBERT_train_last_hidden_states = torch.load(os.path.join('DistillBERT', 'DistillBERT_train_last_hidden_states.pt'))\n",
    "DistillBERT_test_last_hidden_states = torch.load(os.path.join('DistillBERT', 'DistillBERT_test_last_hidden_states.pt'))\n",
    "print(DistillBERT_train_last_hidden_states.shape)\n",
    "print(DistillBERT_test_last_hidden_states.shape)"
   ]
  },
  {
   "cell_type": "markdown",
   "id": "zKoAV0aRHuVN",
   "metadata": {
    "id": "zKoAV0aRHuVN"
   },
   "source": [
    "#### CLS"
   ]
  },
  {
   "cell_type": "code",
   "execution_count": null,
   "id": "KEjU5fqMHvj4",
   "metadata": {
    "id": "KEjU5fqMHvj4"
   },
   "outputs": [],
   "source": [
    "X_train_DistillBERT_CLS = DistillBERT_train_last_hidden_states[:, 0, :].detach().cpu().numpy()\n",
    "X_test_DistillBERT_CLS = DistillBERT_test_last_hidden_states[:, 0, :].detach().cpu().numpy()\n",
    "print(X_train_DistillBERT_CLS.shape)\n",
    "print(X_test_DistillBERT_CLS.shape)"
   ]
  },
  {
   "cell_type": "code",
   "execution_count": null,
   "id": "fPpx6OrcHzTD",
   "metadata": {
    "id": "fPpx6OrcHzTD"
   },
   "outputs": [],
   "source": [
    "np.save(os.path.join('DistillBERT', 'X_train_DistillBERT_CLS.npy'), X_train_DistillBERT_CLS)\n",
    "np.save(os.path.join('DistillBERT', 'X_test_DistillBERT_CLS.npy'), X_test_DistillBERT_CLS)"
   ]
  },
  {
   "cell_type": "markdown",
   "id": "YDK890p7H2eT",
   "metadata": {
    "id": "YDK890p7H2eT"
   },
   "source": [
    "#### Mean Pooling"
   ]
  },
  {
   "cell_type": "code",
   "execution_count": null,
   "id": "nwxA3qnrH3o4",
   "metadata": {
    "id": "nwxA3qnrH3o4"
   },
   "outputs": [],
   "source": [
    "X_train_DistillBERT_MeanPooling = DistillBERT_train_last_hidden_states.mean(dim=1).detach().cpu().numpy()\n",
    "X_test_DistillBERT_MeanPooling = DistillBERT_test_last_hidden_states.mean(dim=1).detach().cpu().numpy()\n",
    "print(X_train_DistillBERT_MeanPooling.shape)\n",
    "print(X_test_DistillBERT_MeanPooling.shape)"
   ]
  },
  {
   "cell_type": "code",
   "execution_count": null,
   "id": "sKT-HeYjH8Lt",
   "metadata": {
    "id": "sKT-HeYjH8Lt"
   },
   "outputs": [],
   "source": [
    "np.save(os.path.join('DistillBERT', 'X_train_DistillBERT_MeanPooling.npy'), X_train_DistillBERT_MeanPooling)\n",
    "np.save(os.path.join('DistillBERT', 'X_test_DistillBERT_MeanPooling.npy'), X_test_DistillBERT_MeanPooling)"
   ]
  }
 ],
 "metadata": {
  "colab": {
   "collapsed_sections": [
    "mTt5gZp-TJFk"
   ],
   "machine_shape": "hm",
   "provenance": [],
   "toc_visible": true
  },
  "kernelspec": {
   "display_name": "Python 3 (ipykernel)",
   "language": "python",
   "name": "python3"
  },
  "language_info": {
   "codemirror_mode": {
    "name": "ipython",
    "version": 3
   },
   "file_extension": ".py",
   "mimetype": "text/x-python",
   "name": "python",
   "nbconvert_exporter": "python",
   "pygments_lexer": "ipython3",
   "version": "3.11.5"
  },
  "widgets": {
   "application/vnd.jupyter.widget-state+json": {
    "0289cc79e10b4625bf059a8d1225ac16": {
     "model_module": "@jupyter-widgets/controls",
     "model_module_version": "1.5.0",
     "model_name": "ProgressStyleModel",
     "state": {
      "_model_module": "@jupyter-widgets/controls",
      "_model_module_version": "1.5.0",
      "_model_name": "ProgressStyleModel",
      "_view_count": null,
      "_view_module": "@jupyter-widgets/base",
      "_view_module_version": "1.2.0",
      "_view_name": "StyleView",
      "bar_color": null,
      "description_width": ""
     }
    },
    "039b586a3f2b4edfbe456b31ad4ccddf": {
     "model_module": "@jupyter-widgets/controls",
     "model_module_version": "1.5.0",
     "model_name": "DescriptionStyleModel",
     "state": {
      "_model_module": "@jupyter-widgets/controls",
      "_model_module_version": "1.5.0",
      "_model_name": "DescriptionStyleModel",
      "_view_count": null,
      "_view_module": "@jupyter-widgets/base",
      "_view_module_version": "1.2.0",
      "_view_name": "StyleView",
      "description_width": ""
     }
    },
    "03afa9a3cc9843c29613341c201f7965": {
     "model_module": "@jupyter-widgets/base",
     "model_module_version": "1.2.0",
     "model_name": "LayoutModel",
     "state": {
      "_model_module": "@jupyter-widgets/base",
      "_model_module_version": "1.2.0",
      "_model_name": "LayoutModel",
      "_view_count": null,
      "_view_module": "@jupyter-widgets/base",
      "_view_module_version": "1.2.0",
      "_view_name": "LayoutView",
      "align_content": null,
      "align_items": null,
      "align_self": null,
      "border": null,
      "bottom": null,
      "display": null,
      "flex": null,
      "flex_flow": null,
      "grid_area": null,
      "grid_auto_columns": null,
      "grid_auto_flow": null,
      "grid_auto_rows": null,
      "grid_column": null,
      "grid_gap": null,
      "grid_row": null,
      "grid_template_areas": null,
      "grid_template_columns": null,
      "grid_template_rows": null,
      "height": null,
      "justify_content": null,
      "justify_items": null,
      "left": null,
      "margin": null,
      "max_height": null,
      "max_width": null,
      "min_height": null,
      "min_width": null,
      "object_fit": null,
      "object_position": null,
      "order": null,
      "overflow": null,
      "overflow_x": null,
      "overflow_y": null,
      "padding": null,
      "right": null,
      "top": null,
      "visibility": null,
      "width": null
     }
    },
    "046810b33fab401e8701977b72e2dc7c": {
     "model_module": "@jupyter-widgets/controls",
     "model_module_version": "1.5.0",
     "model_name": "HTMLModel",
     "state": {
      "_dom_classes": [],
      "_model_module": "@jupyter-widgets/controls",
      "_model_module_version": "1.5.0",
      "_model_name": "HTMLModel",
      "_view_count": null,
      "_view_module": "@jupyter-widgets/controls",
      "_view_module_version": "1.5.0",
      "_view_name": "HTMLView",
      "description": "",
      "description_tooltip": null,
      "layout": "IPY_MODEL_03afa9a3cc9843c29613341c201f7965",
      "placeholder": "​",
      "style": "IPY_MODEL_90b6478072754977a4a51106709871c5",
      "value": "tokenizer_config.json: 100%"
     }
    },
    "05e638a66bea42ca8821164fd1f4896a": {
     "model_module": "@jupyter-widgets/controls",
     "model_module_version": "1.5.0",
     "model_name": "DescriptionStyleModel",
     "state": {
      "_model_module": "@jupyter-widgets/controls",
      "_model_module_version": "1.5.0",
      "_model_name": "DescriptionStyleModel",
      "_view_count": null,
      "_view_module": "@jupyter-widgets/base",
      "_view_module_version": "1.2.0",
      "_view_name": "StyleView",
      "description_width": ""
     }
    },
    "072a1d6308b04489b5a813c1e1e977ce": {
     "model_module": "@jupyter-widgets/base",
     "model_module_version": "1.2.0",
     "model_name": "LayoutModel",
     "state": {
      "_model_module": "@jupyter-widgets/base",
      "_model_module_version": "1.2.0",
      "_model_name": "LayoutModel",
      "_view_count": null,
      "_view_module": "@jupyter-widgets/base",
      "_view_module_version": "1.2.0",
      "_view_name": "LayoutView",
      "align_content": null,
      "align_items": null,
      "align_self": null,
      "border": null,
      "bottom": null,
      "display": null,
      "flex": null,
      "flex_flow": null,
      "grid_area": null,
      "grid_auto_columns": null,
      "grid_auto_flow": null,
      "grid_auto_rows": null,
      "grid_column": null,
      "grid_gap": null,
      "grid_row": null,
      "grid_template_areas": null,
      "grid_template_columns": null,
      "grid_template_rows": null,
      "height": null,
      "justify_content": null,
      "justify_items": null,
      "left": null,
      "margin": null,
      "max_height": null,
      "max_width": null,
      "min_height": null,
      "min_width": null,
      "object_fit": null,
      "object_position": null,
      "order": null,
      "overflow": null,
      "overflow_x": null,
      "overflow_y": null,
      "padding": null,
      "right": null,
      "top": null,
      "visibility": null,
      "width": null
     }
    },
    "07a67a0f07d34ff296089116e59b020d": {
     "model_module": "@jupyter-widgets/controls",
     "model_module_version": "1.5.0",
     "model_name": "FloatProgressModel",
     "state": {
      "_dom_classes": [],
      "_model_module": "@jupyter-widgets/controls",
      "_model_module_version": "1.5.0",
      "_model_name": "FloatProgressModel",
      "_view_count": null,
      "_view_module": "@jupyter-widgets/controls",
      "_view_module_version": "1.5.0",
      "_view_name": "ProgressView",
      "bar_style": "success",
      "description": "",
      "description_tooltip": null,
      "layout": "IPY_MODEL_8cc0c3116f13408d8eaae0a230893b4b",
      "max": 2,
      "min": 0,
      "orientation": "horizontal",
      "style": "IPY_MODEL_cc4cfc3da0d44a7585458e34a44a4af7",
      "value": 2
     }
    },
    "09007df63d804aa4a1776e0d4788ab68": {
     "model_module": "@jupyter-widgets/base",
     "model_module_version": "1.2.0",
     "model_name": "LayoutModel",
     "state": {
      "_model_module": "@jupyter-widgets/base",
      "_model_module_version": "1.2.0",
      "_model_name": "LayoutModel",
      "_view_count": null,
      "_view_module": "@jupyter-widgets/base",
      "_view_module_version": "1.2.0",
      "_view_name": "LayoutView",
      "align_content": null,
      "align_items": null,
      "align_self": null,
      "border": null,
      "bottom": null,
      "display": null,
      "flex": null,
      "flex_flow": null,
      "grid_area": null,
      "grid_auto_columns": null,
      "grid_auto_flow": null,
      "grid_auto_rows": null,
      "grid_column": null,
      "grid_gap": null,
      "grid_row": null,
      "grid_template_areas": null,
      "grid_template_columns": null,
      "grid_template_rows": null,
      "height": null,
      "justify_content": null,
      "justify_items": null,
      "left": null,
      "margin": null,
      "max_height": null,
      "max_width": null,
      "min_height": null,
      "min_width": null,
      "object_fit": null,
      "object_position": null,
      "order": null,
      "overflow": null,
      "overflow_x": null,
      "overflow_y": null,
      "padding": null,
      "right": null,
      "top": null,
      "visibility": null,
      "width": null
     }
    },
    "09f97487cd1444329d2ec83eae89579b": {
     "model_module": "@jupyter-widgets/controls",
     "model_module_version": "1.5.0",
     "model_name": "HBoxModel",
     "state": {
      "_dom_classes": [],
      "_model_module": "@jupyter-widgets/controls",
      "_model_module_version": "1.5.0",
      "_model_name": "HBoxModel",
      "_view_count": null,
      "_view_module": "@jupyter-widgets/controls",
      "_view_module_version": "1.5.0",
      "_view_name": "HBoxView",
      "box_style": "",
      "children": [
       "IPY_MODEL_1356c36446154716a1e2e685886fb92c",
       "IPY_MODEL_219e30bfa6a344cc94402f62845aa987",
       "IPY_MODEL_d4a31ab2e6a8490d885967ccb8074d52"
      ],
      "layout": "IPY_MODEL_cc6fb594d5924dd8b7519e1e0aabeb40"
     }
    },
    "0c0eec5528fa454d8add711d990569d5": {
     "model_module": "@jupyter-widgets/controls",
     "model_module_version": "1.5.0",
     "model_name": "ProgressStyleModel",
     "state": {
      "_model_module": "@jupyter-widgets/controls",
      "_model_module_version": "1.5.0",
      "_model_name": "ProgressStyleModel",
      "_view_count": null,
      "_view_module": "@jupyter-widgets/base",
      "_view_module_version": "1.2.0",
      "_view_name": "StyleView",
      "bar_color": null,
      "description_width": ""
     }
    },
    "10378eddbca9475bacc7b3c8247ab4ff": {
     "model_module": "@jupyter-widgets/controls",
     "model_module_version": "1.5.0",
     "model_name": "HTMLModel",
     "state": {
      "_dom_classes": [],
      "_model_module": "@jupyter-widgets/controls",
      "_model_module_version": "1.5.0",
      "_model_name": "HTMLModel",
      "_view_count": null,
      "_view_module": "@jupyter-widgets/controls",
      "_view_module_version": "1.5.0",
      "_view_name": "HTMLView",
      "description": "",
      "description_tooltip": null,
      "layout": "IPY_MODEL_7af71ec2fec04d10aeaa6586ae77d410",
      "placeholder": "​",
      "style": "IPY_MODEL_5c09718628d344e6b69faa3890475032",
      "value": "tokenizer.json: 100%"
     }
    },
    "1356c36446154716a1e2e685886fb92c": {
     "model_module": "@jupyter-widgets/controls",
     "model_module_version": "1.5.0",
     "model_name": "HTMLModel",
     "state": {
      "_dom_classes": [],
      "_model_module": "@jupyter-widgets/controls",
      "_model_module_version": "1.5.0",
      "_model_name": "HTMLModel",
      "_view_count": null,
      "_view_module": "@jupyter-widgets/controls",
      "_view_module_version": "1.5.0",
      "_view_name": "HTMLView",
      "description": "",
      "description_tooltip": null,
      "layout": "IPY_MODEL_77d2a55dd1964ec88bf9e1f5c9b7bac4",
      "placeholder": "​",
      "style": "IPY_MODEL_66369a7e36914af2b55c7f2d8c65a435",
      "value": "tokenizer_config.json: 100%"
     }
    },
    "177c8394bc76453fab036ab8bfd5750f": {
     "model_module": "@jupyter-widgets/controls",
     "model_module_version": "1.5.0",
     "model_name": "HBoxModel",
     "state": {
      "_dom_classes": [],
      "_model_module": "@jupyter-widgets/controls",
      "_model_module_version": "1.5.0",
      "_model_name": "HBoxModel",
      "_view_count": null,
      "_view_module": "@jupyter-widgets/controls",
      "_view_module_version": "1.5.0",
      "_view_name": "HBoxView",
      "box_style": "",
      "children": [
       "IPY_MODEL_71e93bbff3a7451580a81e66b9c49c11",
       "IPY_MODEL_700bce05246846f1b0540acf23daca6b",
       "IPY_MODEL_73b50f60bcac405a9d55734565e710e6"
      ],
      "layout": "IPY_MODEL_99884bdc9ed9448aae301875e1dbefd7"
     }
    },
    "181ca247c68a463e8a45c784b87921bb": {
     "model_module": "@jupyter-widgets/base",
     "model_module_version": "1.2.0",
     "model_name": "LayoutModel",
     "state": {
      "_model_module": "@jupyter-widgets/base",
      "_model_module_version": "1.2.0",
      "_model_name": "LayoutModel",
      "_view_count": null,
      "_view_module": "@jupyter-widgets/base",
      "_view_module_version": "1.2.0",
      "_view_name": "LayoutView",
      "align_content": null,
      "align_items": null,
      "align_self": null,
      "border": null,
      "bottom": null,
      "display": null,
      "flex": null,
      "flex_flow": null,
      "grid_area": null,
      "grid_auto_columns": null,
      "grid_auto_flow": null,
      "grid_auto_rows": null,
      "grid_column": null,
      "grid_gap": null,
      "grid_row": null,
      "grid_template_areas": null,
      "grid_template_columns": null,
      "grid_template_rows": null,
      "height": null,
      "justify_content": null,
      "justify_items": null,
      "left": null,
      "margin": null,
      "max_height": null,
      "max_width": null,
      "min_height": null,
      "min_width": null,
      "object_fit": null,
      "object_position": null,
      "order": null,
      "overflow": null,
      "overflow_x": null,
      "overflow_y": null,
      "padding": null,
      "right": null,
      "top": null,
      "visibility": null,
      "width": null
     }
    },
    "192474ea2e2b43cf9519cd24e8d1b19b": {
     "model_module": "@jupyter-widgets/controls",
     "model_module_version": "1.5.0",
     "model_name": "HBoxModel",
     "state": {
      "_dom_classes": [],
      "_model_module": "@jupyter-widgets/controls",
      "_model_module_version": "1.5.0",
      "_model_name": "HBoxModel",
      "_view_count": null,
      "_view_module": "@jupyter-widgets/controls",
      "_view_module_version": "1.5.0",
      "_view_name": "HBoxView",
      "box_style": "",
      "children": [
       "IPY_MODEL_446062838bb94b248e7f592e8dbac7b5",
       "IPY_MODEL_a813ccb5f2d04e74b508ac525ed9ac26",
       "IPY_MODEL_5d97eea3b8964667802ebd77f3b45236"
      ],
      "layout": "IPY_MODEL_072a1d6308b04489b5a813c1e1e977ce"
     }
    },
    "19335747ac8b4d32a1e3a450f269441d": {
     "model_module": "@jupyter-widgets/base",
     "model_module_version": "1.2.0",
     "model_name": "LayoutModel",
     "state": {
      "_model_module": "@jupyter-widgets/base",
      "_model_module_version": "1.2.0",
      "_model_name": "LayoutModel",
      "_view_count": null,
      "_view_module": "@jupyter-widgets/base",
      "_view_module_version": "1.2.0",
      "_view_name": "LayoutView",
      "align_content": null,
      "align_items": null,
      "align_self": null,
      "border": null,
      "bottom": null,
      "display": null,
      "flex": null,
      "flex_flow": null,
      "grid_area": null,
      "grid_auto_columns": null,
      "grid_auto_flow": null,
      "grid_auto_rows": null,
      "grid_column": null,
      "grid_gap": null,
      "grid_row": null,
      "grid_template_areas": null,
      "grid_template_columns": null,
      "grid_template_rows": null,
      "height": null,
      "justify_content": null,
      "justify_items": null,
      "left": null,
      "margin": null,
      "max_height": null,
      "max_width": null,
      "min_height": null,
      "min_width": null,
      "object_fit": null,
      "object_position": null,
      "order": null,
      "overflow": null,
      "overflow_x": null,
      "overflow_y": null,
      "padding": null,
      "right": null,
      "top": null,
      "visibility": null,
      "width": null
     }
    },
    "197fc41c3c9d4f42b8ef679757882388": {
     "model_module": "@jupyter-widgets/controls",
     "model_module_version": "1.5.0",
     "model_name": "ProgressStyleModel",
     "state": {
      "_model_module": "@jupyter-widgets/controls",
      "_model_module_version": "1.5.0",
      "_model_name": "ProgressStyleModel",
      "_view_count": null,
      "_view_module": "@jupyter-widgets/base",
      "_view_module_version": "1.2.0",
      "_view_name": "StyleView",
      "bar_color": null,
      "description_width": ""
     }
    },
    "19da3acfd88748eb91a3beda40ddf4eb": {
     "model_module": "@jupyter-widgets/controls",
     "model_module_version": "1.5.0",
     "model_name": "HTMLModel",
     "state": {
      "_dom_classes": [],
      "_model_module": "@jupyter-widgets/controls",
      "_model_module_version": "1.5.0",
      "_model_name": "HTMLModel",
      "_view_count": null,
      "_view_module": "@jupyter-widgets/controls",
      "_view_module_version": "1.5.0",
      "_view_name": "HTMLView",
      "description": "",
      "description_tooltip": null,
      "layout": "IPY_MODEL_2ef5b7843cf9419a9d5e630250401bfb",
      "placeholder": "​",
      "style": "IPY_MODEL_244fcd74ce054b1d84ad959c0344eb58",
      "value": " 466k/466k [00:00&lt;00:00, 721kB/s]"
     }
    },
    "1c6ce89f20bb4d6c97dcb00cb6059c69": {
     "model_module": "@jupyter-widgets/base",
     "model_module_version": "1.2.0",
     "model_name": "LayoutModel",
     "state": {
      "_model_module": "@jupyter-widgets/base",
      "_model_module_version": "1.2.0",
      "_model_name": "LayoutModel",
      "_view_count": null,
      "_view_module": "@jupyter-widgets/base",
      "_view_module_version": "1.2.0",
      "_view_name": "LayoutView",
      "align_content": null,
      "align_items": null,
      "align_self": null,
      "border": null,
      "bottom": null,
      "display": null,
      "flex": null,
      "flex_flow": null,
      "grid_area": null,
      "grid_auto_columns": null,
      "grid_auto_flow": null,
      "grid_auto_rows": null,
      "grid_column": null,
      "grid_gap": null,
      "grid_row": null,
      "grid_template_areas": null,
      "grid_template_columns": null,
      "grid_template_rows": null,
      "height": null,
      "justify_content": null,
      "justify_items": null,
      "left": null,
      "margin": null,
      "max_height": null,
      "max_width": null,
      "min_height": null,
      "min_width": null,
      "object_fit": null,
      "object_position": null,
      "order": null,
      "overflow": null,
      "overflow_x": null,
      "overflow_y": null,
      "padding": null,
      "right": null,
      "top": null,
      "visibility": null,
      "width": null
     }
    },
    "1f06aea1910344deabc7b39c702ad054": {
     "model_module": "@jupyter-widgets/base",
     "model_module_version": "1.2.0",
     "model_name": "LayoutModel",
     "state": {
      "_model_module": "@jupyter-widgets/base",
      "_model_module_version": "1.2.0",
      "_model_name": "LayoutModel",
      "_view_count": null,
      "_view_module": "@jupyter-widgets/base",
      "_view_module_version": "1.2.0",
      "_view_name": "LayoutView",
      "align_content": null,
      "align_items": null,
      "align_self": null,
      "border": null,
      "bottom": null,
      "display": null,
      "flex": null,
      "flex_flow": null,
      "grid_area": null,
      "grid_auto_columns": null,
      "grid_auto_flow": null,
      "grid_auto_rows": null,
      "grid_column": null,
      "grid_gap": null,
      "grid_row": null,
      "grid_template_areas": null,
      "grid_template_columns": null,
      "grid_template_rows": null,
      "height": null,
      "justify_content": null,
      "justify_items": null,
      "left": null,
      "margin": null,
      "max_height": null,
      "max_width": null,
      "min_height": null,
      "min_width": null,
      "object_fit": null,
      "object_position": null,
      "order": null,
      "overflow": null,
      "overflow_x": null,
      "overflow_y": null,
      "padding": null,
      "right": null,
      "top": null,
      "visibility": null,
      "width": null
     }
    },
    "204924806a57479ca61e8d069a837f6c": {
     "model_module": "@jupyter-widgets/controls",
     "model_module_version": "1.5.0",
     "model_name": "HTMLModel",
     "state": {
      "_dom_classes": [],
      "_model_module": "@jupyter-widgets/controls",
      "_model_module_version": "1.5.0",
      "_model_name": "HTMLModel",
      "_view_count": null,
      "_view_module": "@jupyter-widgets/controls",
      "_view_module_version": "1.5.0",
      "_view_name": "HTMLView",
      "description": "",
      "description_tooltip": null,
      "layout": "IPY_MODEL_381b465fd1094209b02725c7e62d9e1c",
      "placeholder": "​",
      "style": "IPY_MODEL_d95a153d1a6c447aa513104040430f8a",
      "value": " 438M/438M [00:02&lt;00:00, 205MB/s]"
     }
    },
    "219e30bfa6a344cc94402f62845aa987": {
     "model_module": "@jupyter-widgets/controls",
     "model_module_version": "1.5.0",
     "model_name": "FloatProgressModel",
     "state": {
      "_dom_classes": [],
      "_model_module": "@jupyter-widgets/controls",
      "_model_module_version": "1.5.0",
      "_model_name": "FloatProgressModel",
      "_view_count": null,
      "_view_module": "@jupyter-widgets/controls",
      "_view_module_version": "1.5.0",
      "_view_name": "ProgressView",
      "bar_style": "success",
      "description": "",
      "description_tooltip": null,
      "layout": "IPY_MODEL_765ef572de4244cdad1edb09f453ddd6",
      "max": 399,
      "min": 0,
      "orientation": "horizontal",
      "style": "IPY_MODEL_c5cda18252934117a1fafc10831b4ffa",
      "value": 399
     }
    },
    "22b8097a02ff43479e8468e145784ee3": {
     "model_module": "@jupyter-widgets/controls",
     "model_module_version": "1.5.0",
     "model_name": "HTMLModel",
     "state": {
      "_dom_classes": [],
      "_model_module": "@jupyter-widgets/controls",
      "_model_module_version": "1.5.0",
      "_model_name": "HTMLModel",
      "_view_count": null,
      "_view_module": "@jupyter-widgets/controls",
      "_view_module_version": "1.5.0",
      "_view_name": "HTMLView",
      "description": "",
      "description_tooltip": null,
      "layout": "IPY_MODEL_19335747ac8b4d32a1e3a450f269441d",
      "placeholder": "​",
      "style": "IPY_MODEL_039b586a3f2b4edfbe456b31ad4ccddf",
      "value": " 268M/268M [00:00&lt;00:00, 322MB/s]"
     }
    },
    "244fcd74ce054b1d84ad959c0344eb58": {
     "model_module": "@jupyter-widgets/controls",
     "model_module_version": "1.5.0",
     "model_name": "DescriptionStyleModel",
     "state": {
      "_model_module": "@jupyter-widgets/controls",
      "_model_module_version": "1.5.0",
      "_model_name": "DescriptionStyleModel",
      "_view_count": null,
      "_view_module": "@jupyter-widgets/base",
      "_view_module_version": "1.2.0",
      "_view_name": "StyleView",
      "description_width": ""
     }
    },
    "25807ec2b85148d88cf7281a282e3575": {
     "model_module": "@jupyter-widgets/controls",
     "model_module_version": "1.5.0",
     "model_name": "DescriptionStyleModel",
     "state": {
      "_model_module": "@jupyter-widgets/controls",
      "_model_module_version": "1.5.0",
      "_model_name": "DescriptionStyleModel",
      "_view_count": null,
      "_view_module": "@jupyter-widgets/base",
      "_view_module_version": "1.2.0",
      "_view_name": "StyleView",
      "description_width": ""
     }
    },
    "2657057f79974dc39a45c9a11667c811": {
     "model_module": "@jupyter-widgets/controls",
     "model_module_version": "1.5.0",
     "model_name": "HTMLModel",
     "state": {
      "_dom_classes": [],
      "_model_module": "@jupyter-widgets/controls",
      "_model_module_version": "1.5.0",
      "_model_name": "HTMLModel",
      "_view_count": null,
      "_view_module": "@jupyter-widgets/controls",
      "_view_module_version": "1.5.0",
      "_view_name": "HTMLView",
      "description": "",
      "description_tooltip": null,
      "layout": "IPY_MODEL_d171b2398aba430dbdb65d92ca19c636",
      "placeholder": "​",
      "style": "IPY_MODEL_8b0bf38bb7cb49b98056d7f1a5fcd2ff",
      "value": " 483/483 [00:00&lt;00:00, 27.4kB/s]"
     }
    },
    "2bf1cab14a0b440982b9b7de066bbf0e": {
     "model_module": "@jupyter-widgets/base",
     "model_module_version": "1.2.0",
     "model_name": "LayoutModel",
     "state": {
      "_model_module": "@jupyter-widgets/base",
      "_model_module_version": "1.2.0",
      "_model_name": "LayoutModel",
      "_view_count": null,
      "_view_module": "@jupyter-widgets/base",
      "_view_module_version": "1.2.0",
      "_view_name": "LayoutView",
      "align_content": null,
      "align_items": null,
      "align_self": null,
      "border": null,
      "bottom": null,
      "display": null,
      "flex": null,
      "flex_flow": null,
      "grid_area": null,
      "grid_auto_columns": null,
      "grid_auto_flow": null,
      "grid_auto_rows": null,
      "grid_column": null,
      "grid_gap": null,
      "grid_row": null,
      "grid_template_areas": null,
      "grid_template_columns": null,
      "grid_template_rows": null,
      "height": null,
      "justify_content": null,
      "justify_items": null,
      "left": null,
      "margin": null,
      "max_height": null,
      "max_width": null,
      "min_height": null,
      "min_width": null,
      "object_fit": null,
      "object_position": null,
      "order": null,
      "overflow": null,
      "overflow_x": null,
      "overflow_y": null,
      "padding": null,
      "right": null,
      "top": null,
      "visibility": null,
      "width": null
     }
    },
    "2ef5b7843cf9419a9d5e630250401bfb": {
     "model_module": "@jupyter-widgets/base",
     "model_module_version": "1.2.0",
     "model_name": "LayoutModel",
     "state": {
      "_model_module": "@jupyter-widgets/base",
      "_model_module_version": "1.2.0",
      "_model_name": "LayoutModel",
      "_view_count": null,
      "_view_module": "@jupyter-widgets/base",
      "_view_module_version": "1.2.0",
      "_view_name": "LayoutView",
      "align_content": null,
      "align_items": null,
      "align_self": null,
      "border": null,
      "bottom": null,
      "display": null,
      "flex": null,
      "flex_flow": null,
      "grid_area": null,
      "grid_auto_columns": null,
      "grid_auto_flow": null,
      "grid_auto_rows": null,
      "grid_column": null,
      "grid_gap": null,
      "grid_row": null,
      "grid_template_areas": null,
      "grid_template_columns": null,
      "grid_template_rows": null,
      "height": null,
      "justify_content": null,
      "justify_items": null,
      "left": null,
      "margin": null,
      "max_height": null,
      "max_width": null,
      "min_height": null,
      "min_width": null,
      "object_fit": null,
      "object_position": null,
      "order": null,
      "overflow": null,
      "overflow_x": null,
      "overflow_y": null,
      "padding": null,
      "right": null,
      "top": null,
      "visibility": null,
      "width": null
     }
    },
    "335b11e9e0c947abbda24eb1c2d7763b": {
     "model_module": "@jupyter-widgets/controls",
     "model_module_version": "1.5.0",
     "model_name": "ProgressStyleModel",
     "state": {
      "_model_module": "@jupyter-widgets/controls",
      "_model_module_version": "1.5.0",
      "_model_name": "ProgressStyleModel",
      "_view_count": null,
      "_view_module": "@jupyter-widgets/base",
      "_view_module_version": "1.2.0",
      "_view_name": "StyleView",
      "bar_color": null,
      "description_width": ""
     }
    },
    "34143b70271841fbad4db1727a9d32ce": {
     "model_module": "@jupyter-widgets/base",
     "model_module_version": "1.2.0",
     "model_name": "LayoutModel",
     "state": {
      "_model_module": "@jupyter-widgets/base",
      "_model_module_version": "1.2.0",
      "_model_name": "LayoutModel",
      "_view_count": null,
      "_view_module": "@jupyter-widgets/base",
      "_view_module_version": "1.2.0",
      "_view_name": "LayoutView",
      "align_content": null,
      "align_items": null,
      "align_self": null,
      "border": null,
      "bottom": null,
      "display": null,
      "flex": null,
      "flex_flow": null,
      "grid_area": null,
      "grid_auto_columns": null,
      "grid_auto_flow": null,
      "grid_auto_rows": null,
      "grid_column": null,
      "grid_gap": null,
      "grid_row": null,
      "grid_template_areas": null,
      "grid_template_columns": null,
      "grid_template_rows": null,
      "height": null,
      "justify_content": null,
      "justify_items": null,
      "left": null,
      "margin": null,
      "max_height": null,
      "max_width": null,
      "min_height": null,
      "min_width": null,
      "object_fit": null,
      "object_position": null,
      "order": null,
      "overflow": null,
      "overflow_x": null,
      "overflow_y": null,
      "padding": null,
      "right": null,
      "top": null,
      "visibility": null,
      "width": null
     }
    },
    "372496e65bdb4156b711cf261674982f": {
     "model_module": "@jupyter-widgets/base",
     "model_module_version": "1.2.0",
     "model_name": "LayoutModel",
     "state": {
      "_model_module": "@jupyter-widgets/base",
      "_model_module_version": "1.2.0",
      "_model_name": "LayoutModel",
      "_view_count": null,
      "_view_module": "@jupyter-widgets/base",
      "_view_module_version": "1.2.0",
      "_view_name": "LayoutView",
      "align_content": null,
      "align_items": null,
      "align_self": null,
      "border": null,
      "bottom": null,
      "display": null,
      "flex": null,
      "flex_flow": null,
      "grid_area": null,
      "grid_auto_columns": null,
      "grid_auto_flow": null,
      "grid_auto_rows": null,
      "grid_column": null,
      "grid_gap": null,
      "grid_row": null,
      "grid_template_areas": null,
      "grid_template_columns": null,
      "grid_template_rows": null,
      "height": null,
      "justify_content": null,
      "justify_items": null,
      "left": null,
      "margin": null,
      "max_height": null,
      "max_width": null,
      "min_height": null,
      "min_width": null,
      "object_fit": null,
      "object_position": null,
      "order": null,
      "overflow": null,
      "overflow_x": null,
      "overflow_y": null,
      "padding": null,
      "right": null,
      "top": null,
      "visibility": null,
      "width": null
     }
    },
    "37578d276968406b9b53951e8d2341e4": {
     "model_module": "@jupyter-widgets/base",
     "model_module_version": "1.2.0",
     "model_name": "LayoutModel",
     "state": {
      "_model_module": "@jupyter-widgets/base",
      "_model_module_version": "1.2.0",
      "_model_name": "LayoutModel",
      "_view_count": null,
      "_view_module": "@jupyter-widgets/base",
      "_view_module_version": "1.2.0",
      "_view_name": "LayoutView",
      "align_content": null,
      "align_items": null,
      "align_self": null,
      "border": null,
      "bottom": null,
      "display": null,
      "flex": null,
      "flex_flow": null,
      "grid_area": null,
      "grid_auto_columns": null,
      "grid_auto_flow": null,
      "grid_auto_rows": null,
      "grid_column": null,
      "grid_gap": null,
      "grid_row": null,
      "grid_template_areas": null,
      "grid_template_columns": null,
      "grid_template_rows": null,
      "height": null,
      "justify_content": null,
      "justify_items": null,
      "left": null,
      "margin": null,
      "max_height": null,
      "max_width": null,
      "min_height": null,
      "min_width": null,
      "object_fit": null,
      "object_position": null,
      "order": null,
      "overflow": null,
      "overflow_x": null,
      "overflow_y": null,
      "padding": null,
      "right": null,
      "top": null,
      "visibility": null,
      "width": null
     }
    },
    "381b465fd1094209b02725c7e62d9e1c": {
     "model_module": "@jupyter-widgets/base",
     "model_module_version": "1.2.0",
     "model_name": "LayoutModel",
     "state": {
      "_model_module": "@jupyter-widgets/base",
      "_model_module_version": "1.2.0",
      "_model_name": "LayoutModel",
      "_view_count": null,
      "_view_module": "@jupyter-widgets/base",
      "_view_module_version": "1.2.0",
      "_view_name": "LayoutView",
      "align_content": null,
      "align_items": null,
      "align_self": null,
      "border": null,
      "bottom": null,
      "display": null,
      "flex": null,
      "flex_flow": null,
      "grid_area": null,
      "grid_auto_columns": null,
      "grid_auto_flow": null,
      "grid_auto_rows": null,
      "grid_column": null,
      "grid_gap": null,
      "grid_row": null,
      "grid_template_areas": null,
      "grid_template_columns": null,
      "grid_template_rows": null,
      "height": null,
      "justify_content": null,
      "justify_items": null,
      "left": null,
      "margin": null,
      "max_height": null,
      "max_width": null,
      "min_height": null,
      "min_width": null,
      "object_fit": null,
      "object_position": null,
      "order": null,
      "overflow": null,
      "overflow_x": null,
      "overflow_y": null,
      "padding": null,
      "right": null,
      "top": null,
      "visibility": null,
      "width": null
     }
    },
    "3976ef94097e4e9c91587b8f4314f42f": {
     "model_module": "@jupyter-widgets/controls",
     "model_module_version": "1.5.0",
     "model_name": "FloatProgressModel",
     "state": {
      "_dom_classes": [],
      "_model_module": "@jupyter-widgets/controls",
      "_model_module_version": "1.5.0",
      "_model_name": "FloatProgressModel",
      "_view_count": null,
      "_view_module": "@jupyter-widgets/controls",
      "_view_module_version": "1.5.0",
      "_view_name": "ProgressView",
      "bar_style": "success",
      "description": "",
      "description_tooltip": null,
      "layout": "IPY_MODEL_34143b70271841fbad4db1727a9d32ce",
      "max": 483,
      "min": 0,
      "orientation": "horizontal",
      "style": "IPY_MODEL_89ae6beab3454a939f7451605eac5c14",
      "value": 483
     }
    },
    "39b4835bc17b4dfabe0941c0fb4a8767": {
     "model_module": "@jupyter-widgets/controls",
     "model_module_version": "1.5.0",
     "model_name": "HBoxModel",
     "state": {
      "_dom_classes": [],
      "_model_module": "@jupyter-widgets/controls",
      "_model_module_version": "1.5.0",
      "_model_name": "HBoxModel",
      "_view_count": null,
      "_view_module": "@jupyter-widgets/controls",
      "_view_module_version": "1.5.0",
      "_view_name": "HBoxView",
      "box_style": "",
      "children": [
       "IPY_MODEL_eea185e1e8244903bd5507ce9056e184",
       "IPY_MODEL_07a67a0f07d34ff296089116e59b020d",
       "IPY_MODEL_eafc37dce86f46f98b5e39a834133197"
      ],
      "layout": "IPY_MODEL_6b4c231b2b4d4411ba4910afea126474"
     }
    },
    "3b4f6efab99a4dae8b0bbca5acfcb0ac": {
     "model_module": "@jupyter-widgets/base",
     "model_module_version": "1.2.0",
     "model_name": "LayoutModel",
     "state": {
      "_model_module": "@jupyter-widgets/base",
      "_model_module_version": "1.2.0",
      "_model_name": "LayoutModel",
      "_view_count": null,
      "_view_module": "@jupyter-widgets/base",
      "_view_module_version": "1.2.0",
      "_view_name": "LayoutView",
      "align_content": null,
      "align_items": null,
      "align_self": null,
      "border": null,
      "bottom": null,
      "display": null,
      "flex": null,
      "flex_flow": null,
      "grid_area": null,
      "grid_auto_columns": null,
      "grid_auto_flow": null,
      "grid_auto_rows": null,
      "grid_column": null,
      "grid_gap": null,
      "grid_row": null,
      "grid_template_areas": null,
      "grid_template_columns": null,
      "grid_template_rows": null,
      "height": null,
      "justify_content": null,
      "justify_items": null,
      "left": null,
      "margin": null,
      "max_height": null,
      "max_width": null,
      "min_height": null,
      "min_width": null,
      "object_fit": null,
      "object_position": null,
      "order": null,
      "overflow": null,
      "overflow_x": null,
      "overflow_y": null,
      "padding": null,
      "right": null,
      "top": null,
      "visibility": null,
      "width": null
     }
    },
    "3c38ce85798f4ab1b97e9f411e70e8de": {
     "model_module": "@jupyter-widgets/controls",
     "model_module_version": "1.5.0",
     "model_name": "FloatProgressModel",
     "state": {
      "_dom_classes": [],
      "_model_module": "@jupyter-widgets/controls",
      "_model_module_version": "1.5.0",
      "_model_name": "FloatProgressModel",
      "_view_count": null,
      "_view_module": "@jupyter-widgets/controls",
      "_view_module_version": "1.5.0",
      "_view_name": "ProgressView",
      "bar_style": "success",
      "description": "",
      "description_tooltip": null,
      "layout": "IPY_MODEL_7c963ae5c3294d80b427446d8d04955f",
      "max": 48,
      "min": 0,
      "orientation": "horizontal",
      "style": "IPY_MODEL_335b11e9e0c947abbda24eb1c2d7763b",
      "value": 48
     }
    },
    "3c5c2d54b0a0400b8835a63b85b251de": {
     "model_module": "@jupyter-widgets/controls",
     "model_module_version": "1.5.0",
     "model_name": "DescriptionStyleModel",
     "state": {
      "_model_module": "@jupyter-widgets/controls",
      "_model_module_version": "1.5.0",
      "_model_name": "DescriptionStyleModel",
      "_view_count": null,
      "_view_module": "@jupyter-widgets/base",
      "_view_module_version": "1.2.0",
      "_view_name": "StyleView",
      "description_width": ""
     }
    },
    "3c9dbe6910e9496887d3b2f8e486095d": {
     "model_module": "@jupyter-widgets/base",
     "model_module_version": "1.2.0",
     "model_name": "LayoutModel",
     "state": {
      "_model_module": "@jupyter-widgets/base",
      "_model_module_version": "1.2.0",
      "_model_name": "LayoutModel",
      "_view_count": null,
      "_view_module": "@jupyter-widgets/base",
      "_view_module_version": "1.2.0",
      "_view_name": "LayoutView",
      "align_content": null,
      "align_items": null,
      "align_self": null,
      "border": null,
      "bottom": null,
      "display": null,
      "flex": null,
      "flex_flow": null,
      "grid_area": null,
      "grid_auto_columns": null,
      "grid_auto_flow": null,
      "grid_auto_rows": null,
      "grid_column": null,
      "grid_gap": null,
      "grid_row": null,
      "grid_template_areas": null,
      "grid_template_columns": null,
      "grid_template_rows": null,
      "height": null,
      "justify_content": null,
      "justify_items": null,
      "left": null,
      "margin": null,
      "max_height": null,
      "max_width": null,
      "min_height": null,
      "min_width": null,
      "object_fit": null,
      "object_position": null,
      "order": null,
      "overflow": null,
      "overflow_x": null,
      "overflow_y": null,
      "padding": null,
      "right": null,
      "top": null,
      "visibility": null,
      "width": null
     }
    },
    "446062838bb94b248e7f592e8dbac7b5": {
     "model_module": "@jupyter-widgets/controls",
     "model_module_version": "1.5.0",
     "model_name": "HTMLModel",
     "state": {
      "_dom_classes": [],
      "_model_module": "@jupyter-widgets/controls",
      "_model_module_version": "1.5.0",
      "_model_name": "HTMLModel",
      "_view_count": null,
      "_view_module": "@jupyter-widgets/controls",
      "_view_module_version": "1.5.0",
      "_view_name": "HTMLView",
      "description": "",
      "description_tooltip": null,
      "layout": "IPY_MODEL_a252e5e616264b79aad046c17c26fb05",
      "placeholder": "​",
      "style": "IPY_MODEL_f495369c40034f578a1b814b88c61d6a",
      "value": "config.json: 100%"
     }
    },
    "49ab5f060fb7457982eaa5f78c73be0e": {
     "model_module": "@jupyter-widgets/base",
     "model_module_version": "1.2.0",
     "model_name": "LayoutModel",
     "state": {
      "_model_module": "@jupyter-widgets/base",
      "_model_module_version": "1.2.0",
      "_model_name": "LayoutModel",
      "_view_count": null,
      "_view_module": "@jupyter-widgets/base",
      "_view_module_version": "1.2.0",
      "_view_name": "LayoutView",
      "align_content": null,
      "align_items": null,
      "align_self": null,
      "border": null,
      "bottom": null,
      "display": null,
      "flex": null,
      "flex_flow": null,
      "grid_area": null,
      "grid_auto_columns": null,
      "grid_auto_flow": null,
      "grid_auto_rows": null,
      "grid_column": null,
      "grid_gap": null,
      "grid_row": null,
      "grid_template_areas": null,
      "grid_template_columns": null,
      "grid_template_rows": null,
      "height": null,
      "justify_content": null,
      "justify_items": null,
      "left": null,
      "margin": null,
      "max_height": null,
      "max_width": null,
      "min_height": null,
      "min_width": null,
      "object_fit": null,
      "object_position": null,
      "order": null,
      "overflow": null,
      "overflow_x": null,
      "overflow_y": null,
      "padding": null,
      "right": null,
      "top": null,
      "visibility": null,
      "width": null
     }
    },
    "4d388470934a4867991dcfbe8cae809a": {
     "model_module": "@jupyter-widgets/base",
     "model_module_version": "1.2.0",
     "model_name": "LayoutModel",
     "state": {
      "_model_module": "@jupyter-widgets/base",
      "_model_module_version": "1.2.0",
      "_model_name": "LayoutModel",
      "_view_count": null,
      "_view_module": "@jupyter-widgets/base",
      "_view_module_version": "1.2.0",
      "_view_name": "LayoutView",
      "align_content": null,
      "align_items": null,
      "align_self": null,
      "border": null,
      "bottom": null,
      "display": null,
      "flex": null,
      "flex_flow": null,
      "grid_area": null,
      "grid_auto_columns": null,
      "grid_auto_flow": null,
      "grid_auto_rows": null,
      "grid_column": null,
      "grid_gap": null,
      "grid_row": null,
      "grid_template_areas": null,
      "grid_template_columns": null,
      "grid_template_rows": null,
      "height": null,
      "justify_content": null,
      "justify_items": null,
      "left": null,
      "margin": null,
      "max_height": null,
      "max_width": null,
      "min_height": null,
      "min_width": null,
      "object_fit": null,
      "object_position": null,
      "order": null,
      "overflow": null,
      "overflow_x": null,
      "overflow_y": null,
      "padding": null,
      "right": null,
      "top": null,
      "visibility": null,
      "width": null
     }
    },
    "56e7f58713824a0b9d5f089a57c42c6b": {
     "model_module": "@jupyter-widgets/controls",
     "model_module_version": "1.5.0",
     "model_name": "FloatProgressModel",
     "state": {
      "_dom_classes": [],
      "_model_module": "@jupyter-widgets/controls",
      "_model_module_version": "1.5.0",
      "_model_name": "FloatProgressModel",
      "_view_count": null,
      "_view_module": "@jupyter-widgets/controls",
      "_view_module_version": "1.5.0",
      "_view_name": "ProgressView",
      "bar_style": "success",
      "description": "",
      "description_tooltip": null,
      "layout": "IPY_MODEL_1c6ce89f20bb4d6c97dcb00cb6059c69",
      "max": 437955512,
      "min": 0,
      "orientation": "horizontal",
      "style": "IPY_MODEL_d1c96708cdaa429aa182adfc8fab9488",
      "value": 437955512
     }
    },
    "5878295c3786496cb5fc8d8be65fc3b4": {
     "model_module": "@jupyter-widgets/base",
     "model_module_version": "1.2.0",
     "model_name": "LayoutModel",
     "state": {
      "_model_module": "@jupyter-widgets/base",
      "_model_module_version": "1.2.0",
      "_model_name": "LayoutModel",
      "_view_count": null,
      "_view_module": "@jupyter-widgets/base",
      "_view_module_version": "1.2.0",
      "_view_name": "LayoutView",
      "align_content": null,
      "align_items": null,
      "align_self": null,
      "border": null,
      "bottom": null,
      "display": null,
      "flex": null,
      "flex_flow": null,
      "grid_area": null,
      "grid_auto_columns": null,
      "grid_auto_flow": null,
      "grid_auto_rows": null,
      "grid_column": null,
      "grid_gap": null,
      "grid_row": null,
      "grid_template_areas": null,
      "grid_template_columns": null,
      "grid_template_rows": null,
      "height": null,
      "justify_content": null,
      "justify_items": null,
      "left": null,
      "margin": null,
      "max_height": null,
      "max_width": null,
      "min_height": null,
      "min_width": null,
      "object_fit": null,
      "object_position": null,
      "order": null,
      "overflow": null,
      "overflow_x": null,
      "overflow_y": null,
      "padding": null,
      "right": null,
      "top": null,
      "visibility": null,
      "width": null
     }
    },
    "5a34646f159e47a499ee5cb447da8d3e": {
     "model_module": "@jupyter-widgets/controls",
     "model_module_version": "1.5.0",
     "model_name": "DescriptionStyleModel",
     "state": {
      "_model_module": "@jupyter-widgets/controls",
      "_model_module_version": "1.5.0",
      "_model_name": "DescriptionStyleModel",
      "_view_count": null,
      "_view_module": "@jupyter-widgets/base",
      "_view_module_version": "1.2.0",
      "_view_name": "StyleView",
      "description_width": ""
     }
    },
    "5a4a4d2b5b894000838c2607bffee5f6": {
     "model_module": "@jupyter-widgets/controls",
     "model_module_version": "1.5.0",
     "model_name": "DescriptionStyleModel",
     "state": {
      "_model_module": "@jupyter-widgets/controls",
      "_model_module_version": "1.5.0",
      "_model_name": "DescriptionStyleModel",
      "_view_count": null,
      "_view_module": "@jupyter-widgets/base",
      "_view_module_version": "1.2.0",
      "_view_name": "StyleView",
      "description_width": ""
     }
    },
    "5b4048921e194158a4670e4cc5d1f363": {
     "model_module": "@jupyter-widgets/controls",
     "model_module_version": "1.5.0",
     "model_name": "DescriptionStyleModel",
     "state": {
      "_model_module": "@jupyter-widgets/controls",
      "_model_module_version": "1.5.0",
      "_model_name": "DescriptionStyleModel",
      "_view_count": null,
      "_view_module": "@jupyter-widgets/base",
      "_view_module_version": "1.2.0",
      "_view_name": "StyleView",
      "description_width": ""
     }
    },
    "5c09718628d344e6b69faa3890475032": {
     "model_module": "@jupyter-widgets/controls",
     "model_module_version": "1.5.0",
     "model_name": "DescriptionStyleModel",
     "state": {
      "_model_module": "@jupyter-widgets/controls",
      "_model_module_version": "1.5.0",
      "_model_name": "DescriptionStyleModel",
      "_view_count": null,
      "_view_module": "@jupyter-widgets/base",
      "_view_module_version": "1.2.0",
      "_view_name": "StyleView",
      "description_width": ""
     }
    },
    "5d97eea3b8964667802ebd77f3b45236": {
     "model_module": "@jupyter-widgets/controls",
     "model_module_version": "1.5.0",
     "model_name": "HTMLModel",
     "state": {
      "_dom_classes": [],
      "_model_module": "@jupyter-widgets/controls",
      "_model_module_version": "1.5.0",
      "_model_name": "HTMLModel",
      "_view_count": null,
      "_view_module": "@jupyter-widgets/controls",
      "_view_module_version": "1.5.0",
      "_view_name": "HTMLView",
      "description": "",
      "description_tooltip": null,
      "layout": "IPY_MODEL_37578d276968406b9b53951e8d2341e4",
      "placeholder": "​",
      "style": "IPY_MODEL_25807ec2b85148d88cf7281a282e3575",
      "value": " 625/625 [00:00&lt;00:00, 40.0kB/s]"
     }
    },
    "5f09b20cefeb4ecf9a447059fe4bce8c": {
     "model_module": "@jupyter-widgets/controls",
     "model_module_version": "1.5.0",
     "model_name": "HBoxModel",
     "state": {
      "_dom_classes": [],
      "_model_module": "@jupyter-widgets/controls",
      "_model_module_version": "1.5.0",
      "_model_name": "HBoxModel",
      "_view_count": null,
      "_view_module": "@jupyter-widgets/controls",
      "_view_module_version": "1.5.0",
      "_view_name": "HBoxView",
      "box_style": "",
      "children": [
       "IPY_MODEL_046810b33fab401e8701977b72e2dc7c",
       "IPY_MODEL_3c38ce85798f4ab1b97e9f411e70e8de",
       "IPY_MODEL_bb5a6f2451b94f5baa2337d9e8a462ce"
      ],
      "layout": "IPY_MODEL_7123e468ebdb484b94c8b738192b7a1b"
     }
    },
    "63eaa9f92d414198b6a47331ebd22883": {
     "model_module": "@jupyter-widgets/controls",
     "model_module_version": "1.5.0",
     "model_name": "HTMLModel",
     "state": {
      "_dom_classes": [],
      "_model_module": "@jupyter-widgets/controls",
      "_model_module_version": "1.5.0",
      "_model_name": "HTMLModel",
      "_view_count": null,
      "_view_module": "@jupyter-widgets/controls",
      "_view_module_version": "1.5.0",
      "_view_name": "HTMLView",
      "description": "",
      "description_tooltip": null,
      "layout": "IPY_MODEL_c0f0da72b2d9496890ee3c22550bf36b",
      "placeholder": "​",
      "style": "IPY_MODEL_5b4048921e194158a4670e4cc5d1f363",
      "value": "model.safetensors: 100%"
     }
    },
    "662e7c29ce8244e1897965ffd10e6878": {
     "model_module": "@jupyter-widgets/base",
     "model_module_version": "1.2.0",
     "model_name": "LayoutModel",
     "state": {
      "_model_module": "@jupyter-widgets/base",
      "_model_module_version": "1.2.0",
      "_model_name": "LayoutModel",
      "_view_count": null,
      "_view_module": "@jupyter-widgets/base",
      "_view_module_version": "1.2.0",
      "_view_name": "LayoutView",
      "align_content": null,
      "align_items": null,
      "align_self": null,
      "border": null,
      "bottom": null,
      "display": null,
      "flex": null,
      "flex_flow": null,
      "grid_area": null,
      "grid_auto_columns": null,
      "grid_auto_flow": null,
      "grid_auto_rows": null,
      "grid_column": null,
      "grid_gap": null,
      "grid_row": null,
      "grid_template_areas": null,
      "grid_template_columns": null,
      "grid_template_rows": null,
      "height": null,
      "justify_content": null,
      "justify_items": null,
      "left": null,
      "margin": null,
      "max_height": null,
      "max_width": null,
      "min_height": null,
      "min_width": null,
      "object_fit": null,
      "object_position": null,
      "order": null,
      "overflow": null,
      "overflow_x": null,
      "overflow_y": null,
      "padding": null,
      "right": null,
      "top": null,
      "visibility": null,
      "width": null
     }
    },
    "66304835d0014657a0443228f7157c00": {
     "model_module": "@jupyter-widgets/base",
     "model_module_version": "1.2.0",
     "model_name": "LayoutModel",
     "state": {
      "_model_module": "@jupyter-widgets/base",
      "_model_module_version": "1.2.0",
      "_model_name": "LayoutModel",
      "_view_count": null,
      "_view_module": "@jupyter-widgets/base",
      "_view_module_version": "1.2.0",
      "_view_name": "LayoutView",
      "align_content": null,
      "align_items": null,
      "align_self": null,
      "border": null,
      "bottom": null,
      "display": null,
      "flex": null,
      "flex_flow": null,
      "grid_area": null,
      "grid_auto_columns": null,
      "grid_auto_flow": null,
      "grid_auto_rows": null,
      "grid_column": null,
      "grid_gap": null,
      "grid_row": null,
      "grid_template_areas": null,
      "grid_template_columns": null,
      "grid_template_rows": null,
      "height": null,
      "justify_content": null,
      "justify_items": null,
      "left": null,
      "margin": null,
      "max_height": null,
      "max_width": null,
      "min_height": null,
      "min_width": null,
      "object_fit": null,
      "object_position": null,
      "order": null,
      "overflow": null,
      "overflow_x": null,
      "overflow_y": null,
      "padding": null,
      "right": null,
      "top": null,
      "visibility": null,
      "width": null
     }
    },
    "66369a7e36914af2b55c7f2d8c65a435": {
     "model_module": "@jupyter-widgets/controls",
     "model_module_version": "1.5.0",
     "model_name": "DescriptionStyleModel",
     "state": {
      "_model_module": "@jupyter-widgets/controls",
      "_model_module_version": "1.5.0",
      "_model_name": "DescriptionStyleModel",
      "_view_count": null,
      "_view_module": "@jupyter-widgets/base",
      "_view_module_version": "1.2.0",
      "_view_name": "StyleView",
      "description_width": ""
     }
    },
    "6653cc8a0b864b1ca908fb1720f9b89f": {
     "model_module": "@jupyter-widgets/controls",
     "model_module_version": "1.5.0",
     "model_name": "FloatProgressModel",
     "state": {
      "_dom_classes": [],
      "_model_module": "@jupyter-widgets/controls",
      "_model_module_version": "1.5.0",
      "_model_name": "FloatProgressModel",
      "_view_count": null,
      "_view_module": "@jupyter-widgets/controls",
      "_view_module_version": "1.5.0",
      "_view_name": "ProgressView",
      "bar_style": "success",
      "description": "",
      "description_tooltip": null,
      "layout": "IPY_MODEL_3c9dbe6910e9496887d3b2f8e486095d",
      "max": 466081,
      "min": 0,
      "orientation": "horizontal",
      "style": "IPY_MODEL_940dd53c2d20469a92594484d22df549",
      "value": 466081
     }
    },
    "69ac88a4aefc4f7281d54b299fcbf075": {
     "model_module": "@jupyter-widgets/base",
     "model_module_version": "1.2.0",
     "model_name": "LayoutModel",
     "state": {
      "_model_module": "@jupyter-widgets/base",
      "_model_module_version": "1.2.0",
      "_model_name": "LayoutModel",
      "_view_count": null,
      "_view_module": "@jupyter-widgets/base",
      "_view_module_version": "1.2.0",
      "_view_name": "LayoutView",
      "align_content": null,
      "align_items": null,
      "align_self": null,
      "border": null,
      "bottom": null,
      "display": null,
      "flex": null,
      "flex_flow": null,
      "grid_area": null,
      "grid_auto_columns": null,
      "grid_auto_flow": null,
      "grid_auto_rows": null,
      "grid_column": null,
      "grid_gap": null,
      "grid_row": null,
      "grid_template_areas": null,
      "grid_template_columns": null,
      "grid_template_rows": null,
      "height": null,
      "justify_content": null,
      "justify_items": null,
      "left": null,
      "margin": null,
      "max_height": null,
      "max_width": null,
      "min_height": null,
      "min_width": null,
      "object_fit": null,
      "object_position": null,
      "order": null,
      "overflow": null,
      "overflow_x": null,
      "overflow_y": null,
      "padding": null,
      "right": null,
      "top": null,
      "visibility": null,
      "width": null
     }
    },
    "6b4c231b2b4d4411ba4910afea126474": {
     "model_module": "@jupyter-widgets/base",
     "model_module_version": "1.2.0",
     "model_name": "LayoutModel",
     "state": {
      "_model_module": "@jupyter-widgets/base",
      "_model_module_version": "1.2.0",
      "_model_name": "LayoutModel",
      "_view_count": null,
      "_view_module": "@jupyter-widgets/base",
      "_view_module_version": "1.2.0",
      "_view_name": "LayoutView",
      "align_content": null,
      "align_items": null,
      "align_self": null,
      "border": null,
      "bottom": null,
      "display": null,
      "flex": null,
      "flex_flow": null,
      "grid_area": null,
      "grid_auto_columns": null,
      "grid_auto_flow": null,
      "grid_auto_rows": null,
      "grid_column": null,
      "grid_gap": null,
      "grid_row": null,
      "grid_template_areas": null,
      "grid_template_columns": null,
      "grid_template_rows": null,
      "height": null,
      "justify_content": null,
      "justify_items": null,
      "left": null,
      "margin": null,
      "max_height": null,
      "max_width": null,
      "min_height": null,
      "min_width": null,
      "object_fit": null,
      "object_position": null,
      "order": null,
      "overflow": null,
      "overflow_x": null,
      "overflow_y": null,
      "padding": null,
      "right": null,
      "top": null,
      "visibility": null,
      "width": null
     }
    },
    "700bce05246846f1b0540acf23daca6b": {
     "model_module": "@jupyter-widgets/controls",
     "model_module_version": "1.5.0",
     "model_name": "FloatProgressModel",
     "state": {
      "_dom_classes": [],
      "_model_module": "@jupyter-widgets/controls",
      "_model_module_version": "1.5.0",
      "_model_name": "FloatProgressModel",
      "_view_count": null,
      "_view_module": "@jupyter-widgets/controls",
      "_view_module_version": "1.5.0",
      "_view_name": "ProgressView",
      "bar_style": "success",
      "description": "",
      "description_tooltip": null,
      "layout": "IPY_MODEL_91ef6eaf6ae3422d827e4b61d5024ae9",
      "max": 112,
      "min": 0,
      "orientation": "horizontal",
      "style": "IPY_MODEL_0289cc79e10b4625bf059a8d1225ac16",
      "value": 112
     }
    },
    "7123e468ebdb484b94c8b738192b7a1b": {
     "model_module": "@jupyter-widgets/base",
     "model_module_version": "1.2.0",
     "model_name": "LayoutModel",
     "state": {
      "_model_module": "@jupyter-widgets/base",
      "_model_module_version": "1.2.0",
      "_model_name": "LayoutModel",
      "_view_count": null,
      "_view_module": "@jupyter-widgets/base",
      "_view_module_version": "1.2.0",
      "_view_name": "LayoutView",
      "align_content": null,
      "align_items": null,
      "align_self": null,
      "border": null,
      "bottom": null,
      "display": null,
      "flex": null,
      "flex_flow": null,
      "grid_area": null,
      "grid_auto_columns": null,
      "grid_auto_flow": null,
      "grid_auto_rows": null,
      "grid_column": null,
      "grid_gap": null,
      "grid_row": null,
      "grid_template_areas": null,
      "grid_template_columns": null,
      "grid_template_rows": null,
      "height": null,
      "justify_content": null,
      "justify_items": null,
      "left": null,
      "margin": null,
      "max_height": null,
      "max_width": null,
      "min_height": null,
      "min_width": null,
      "object_fit": null,
      "object_position": null,
      "order": null,
      "overflow": null,
      "overflow_x": null,
      "overflow_y": null,
      "padding": null,
      "right": null,
      "top": null,
      "visibility": null,
      "width": null
     }
    },
    "71e93bbff3a7451580a81e66b9c49c11": {
     "model_module": "@jupyter-widgets/controls",
     "model_module_version": "1.5.0",
     "model_name": "HTMLModel",
     "state": {
      "_dom_classes": [],
      "_model_module": "@jupyter-widgets/controls",
      "_model_module_version": "1.5.0",
      "_model_name": "HTMLModel",
      "_view_count": null,
      "_view_module": "@jupyter-widgets/controls",
      "_view_module_version": "1.5.0",
      "_view_name": "HTMLView",
      "description": "",
      "description_tooltip": null,
      "layout": "IPY_MODEL_bb7634e2f62349438e8112b1c6bf9ceb",
      "placeholder": "​",
      "style": "IPY_MODEL_c321ff7c8e214f4a859030b14c3c945b",
      "value": "special_tokens_map.json: 100%"
     }
    },
    "7272305ffd254d208a279201f1143414": {
     "model_module": "@jupyter-widgets/base",
     "model_module_version": "1.2.0",
     "model_name": "LayoutModel",
     "state": {
      "_model_module": "@jupyter-widgets/base",
      "_model_module_version": "1.2.0",
      "_model_name": "LayoutModel",
      "_view_count": null,
      "_view_module": "@jupyter-widgets/base",
      "_view_module_version": "1.2.0",
      "_view_name": "LayoutView",
      "align_content": null,
      "align_items": null,
      "align_self": null,
      "border": null,
      "bottom": null,
      "display": null,
      "flex": null,
      "flex_flow": null,
      "grid_area": null,
      "grid_auto_columns": null,
      "grid_auto_flow": null,
      "grid_auto_rows": null,
      "grid_column": null,
      "grid_gap": null,
      "grid_row": null,
      "grid_template_areas": null,
      "grid_template_columns": null,
      "grid_template_rows": null,
      "height": null,
      "justify_content": null,
      "justify_items": null,
      "left": null,
      "margin": null,
      "max_height": null,
      "max_width": null,
      "min_height": null,
      "min_width": null,
      "object_fit": null,
      "object_position": null,
      "order": null,
      "overflow": null,
      "overflow_x": null,
      "overflow_y": null,
      "padding": null,
      "right": null,
      "top": null,
      "visibility": null,
      "width": null
     }
    },
    "730fdc0a6f5342738729f7e55c14e86e": {
     "model_module": "@jupyter-widgets/controls",
     "model_module_version": "1.5.0",
     "model_name": "HBoxModel",
     "state": {
      "_dom_classes": [],
      "_model_module": "@jupyter-widgets/controls",
      "_model_module_version": "1.5.0",
      "_model_name": "HBoxModel",
      "_view_count": null,
      "_view_module": "@jupyter-widgets/controls",
      "_view_module_version": "1.5.0",
      "_view_name": "HBoxView",
      "box_style": "",
      "children": [
       "IPY_MODEL_ae305a37fd354aa3b9cb136735adb952",
       "IPY_MODEL_3976ef94097e4e9c91587b8f4314f42f",
       "IPY_MODEL_2657057f79974dc39a45c9a11667c811"
      ],
      "layout": "IPY_MODEL_f36937f25a664fb7a81bbd38735eb997"
     }
    },
    "73b50f60bcac405a9d55734565e710e6": {
     "model_module": "@jupyter-widgets/controls",
     "model_module_version": "1.5.0",
     "model_name": "HTMLModel",
     "state": {
      "_dom_classes": [],
      "_model_module": "@jupyter-widgets/controls",
      "_model_module_version": "1.5.0",
      "_model_name": "HTMLModel",
      "_view_count": null,
      "_view_module": "@jupyter-widgets/controls",
      "_view_module_version": "1.5.0",
      "_view_name": "HTMLView",
      "description": "",
      "description_tooltip": null,
      "layout": "IPY_MODEL_4d388470934a4867991dcfbe8cae809a",
      "placeholder": "​",
      "style": "IPY_MODEL_fbdd15c75027494f9991e3edd809ad83",
      "value": " 112/112 [00:00&lt;00:00, 6.30kB/s]"
     }
    },
    "765ef572de4244cdad1edb09f453ddd6": {
     "model_module": "@jupyter-widgets/base",
     "model_module_version": "1.2.0",
     "model_name": "LayoutModel",
     "state": {
      "_model_module": "@jupyter-widgets/base",
      "_model_module_version": "1.2.0",
      "_model_name": "LayoutModel",
      "_view_count": null,
      "_view_module": "@jupyter-widgets/base",
      "_view_module_version": "1.2.0",
      "_view_name": "LayoutView",
      "align_content": null,
      "align_items": null,
      "align_self": null,
      "border": null,
      "bottom": null,
      "display": null,
      "flex": null,
      "flex_flow": null,
      "grid_area": null,
      "grid_auto_columns": null,
      "grid_auto_flow": null,
      "grid_auto_rows": null,
      "grid_column": null,
      "grid_gap": null,
      "grid_row": null,
      "grid_template_areas": null,
      "grid_template_columns": null,
      "grid_template_rows": null,
      "height": null,
      "justify_content": null,
      "justify_items": null,
      "left": null,
      "margin": null,
      "max_height": null,
      "max_width": null,
      "min_height": null,
      "min_width": null,
      "object_fit": null,
      "object_position": null,
      "order": null,
      "overflow": null,
      "overflow_x": null,
      "overflow_y": null,
      "padding": null,
      "right": null,
      "top": null,
      "visibility": null,
      "width": null
     }
    },
    "777ae25ef97045c0a13ba0730ea6efca": {
     "model_module": "@jupyter-widgets/controls",
     "model_module_version": "1.5.0",
     "model_name": "ProgressStyleModel",
     "state": {
      "_model_module": "@jupyter-widgets/controls",
      "_model_module_version": "1.5.0",
      "_model_name": "ProgressStyleModel",
      "_view_count": null,
      "_view_module": "@jupyter-widgets/base",
      "_view_module_version": "1.2.0",
      "_view_name": "StyleView",
      "bar_color": null,
      "description_width": ""
     }
    },
    "77d2a55dd1964ec88bf9e1f5c9b7bac4": {
     "model_module": "@jupyter-widgets/base",
     "model_module_version": "1.2.0",
     "model_name": "LayoutModel",
     "state": {
      "_model_module": "@jupyter-widgets/base",
      "_model_module_version": "1.2.0",
      "_model_name": "LayoutModel",
      "_view_count": null,
      "_view_module": "@jupyter-widgets/base",
      "_view_module_version": "1.2.0",
      "_view_name": "LayoutView",
      "align_content": null,
      "align_items": null,
      "align_self": null,
      "border": null,
      "bottom": null,
      "display": null,
      "flex": null,
      "flex_flow": null,
      "grid_area": null,
      "grid_auto_columns": null,
      "grid_auto_flow": null,
      "grid_auto_rows": null,
      "grid_column": null,
      "grid_gap": null,
      "grid_row": null,
      "grid_template_areas": null,
      "grid_template_columns": null,
      "grid_template_rows": null,
      "height": null,
      "justify_content": null,
      "justify_items": null,
      "left": null,
      "margin": null,
      "max_height": null,
      "max_width": null,
      "min_height": null,
      "min_width": null,
      "object_fit": null,
      "object_position": null,
      "order": null,
      "overflow": null,
      "overflow_x": null,
      "overflow_y": null,
      "padding": null,
      "right": null,
      "top": null,
      "visibility": null,
      "width": null
     }
    },
    "7af71ec2fec04d10aeaa6586ae77d410": {
     "model_module": "@jupyter-widgets/base",
     "model_module_version": "1.2.0",
     "model_name": "LayoutModel",
     "state": {
      "_model_module": "@jupyter-widgets/base",
      "_model_module_version": "1.2.0",
      "_model_name": "LayoutModel",
      "_view_count": null,
      "_view_module": "@jupyter-widgets/base",
      "_view_module_version": "1.2.0",
      "_view_name": "LayoutView",
      "align_content": null,
      "align_items": null,
      "align_self": null,
      "border": null,
      "bottom": null,
      "display": null,
      "flex": null,
      "flex_flow": null,
      "grid_area": null,
      "grid_auto_columns": null,
      "grid_auto_flow": null,
      "grid_auto_rows": null,
      "grid_column": null,
      "grid_gap": null,
      "grid_row": null,
      "grid_template_areas": null,
      "grid_template_columns": null,
      "grid_template_rows": null,
      "height": null,
      "justify_content": null,
      "justify_items": null,
      "left": null,
      "margin": null,
      "max_height": null,
      "max_width": null,
      "min_height": null,
      "min_width": null,
      "object_fit": null,
      "object_position": null,
      "order": null,
      "overflow": null,
      "overflow_x": null,
      "overflow_y": null,
      "padding": null,
      "right": null,
      "top": null,
      "visibility": null,
      "width": null
     }
    },
    "7c963ae5c3294d80b427446d8d04955f": {
     "model_module": "@jupyter-widgets/base",
     "model_module_version": "1.2.0",
     "model_name": "LayoutModel",
     "state": {
      "_model_module": "@jupyter-widgets/base",
      "_model_module_version": "1.2.0",
      "_model_name": "LayoutModel",
      "_view_count": null,
      "_view_module": "@jupyter-widgets/base",
      "_view_module_version": "1.2.0",
      "_view_name": "LayoutView",
      "align_content": null,
      "align_items": null,
      "align_self": null,
      "border": null,
      "bottom": null,
      "display": null,
      "flex": null,
      "flex_flow": null,
      "grid_area": null,
      "grid_auto_columns": null,
      "grid_auto_flow": null,
      "grid_auto_rows": null,
      "grid_column": null,
      "grid_gap": null,
      "grid_row": null,
      "grid_template_areas": null,
      "grid_template_columns": null,
      "grid_template_rows": null,
      "height": null,
      "justify_content": null,
      "justify_items": null,
      "left": null,
      "margin": null,
      "max_height": null,
      "max_width": null,
      "min_height": null,
      "min_width": null,
      "object_fit": null,
      "object_position": null,
      "order": null,
      "overflow": null,
      "overflow_x": null,
      "overflow_y": null,
      "padding": null,
      "right": null,
      "top": null,
      "visibility": null,
      "width": null
     }
    },
    "8447268826f94191bf2027207eba1147": {
     "model_module": "@jupyter-widgets/controls",
     "model_module_version": "1.5.0",
     "model_name": "FloatProgressModel",
     "state": {
      "_dom_classes": [],
      "_model_module": "@jupyter-widgets/controls",
      "_model_module_version": "1.5.0",
      "_model_name": "FloatProgressModel",
      "_view_count": null,
      "_view_module": "@jupyter-widgets/controls",
      "_view_module_version": "1.5.0",
      "_view_name": "ProgressView",
      "bar_style": "success",
      "description": "",
      "description_tooltip": null,
      "layout": "IPY_MODEL_181ca247c68a463e8a45c784b87921bb",
      "max": 466062,
      "min": 0,
      "orientation": "horizontal",
      "style": "IPY_MODEL_af1c01a35b9149639c9680bfce9d118c",
      "value": 466062
     }
    },
    "8957191b1c114fdfbc1c7bdfe7315214": {
     "model_module": "@jupyter-widgets/controls",
     "model_module_version": "1.5.0",
     "model_name": "DescriptionStyleModel",
     "state": {
      "_model_module": "@jupyter-widgets/controls",
      "_model_module_version": "1.5.0",
      "_model_name": "DescriptionStyleModel",
      "_view_count": null,
      "_view_module": "@jupyter-widgets/base",
      "_view_module_version": "1.2.0",
      "_view_name": "StyleView",
      "description_width": ""
     }
    },
    "89ae6beab3454a939f7451605eac5c14": {
     "model_module": "@jupyter-widgets/controls",
     "model_module_version": "1.5.0",
     "model_name": "ProgressStyleModel",
     "state": {
      "_model_module": "@jupyter-widgets/controls",
      "_model_module_version": "1.5.0",
      "_model_name": "ProgressStyleModel",
      "_view_count": null,
      "_view_module": "@jupyter-widgets/base",
      "_view_module_version": "1.2.0",
      "_view_name": "StyleView",
      "bar_color": null,
      "description_width": ""
     }
    },
    "8b0bf38bb7cb49b98056d7f1a5fcd2ff": {
     "model_module": "@jupyter-widgets/controls",
     "model_module_version": "1.5.0",
     "model_name": "DescriptionStyleModel",
     "state": {
      "_model_module": "@jupyter-widgets/controls",
      "_model_module_version": "1.5.0",
      "_model_name": "DescriptionStyleModel",
      "_view_count": null,
      "_view_module": "@jupyter-widgets/base",
      "_view_module_version": "1.2.0",
      "_view_name": "StyleView",
      "description_width": ""
     }
    },
    "8cc0c3116f13408d8eaae0a230893b4b": {
     "model_module": "@jupyter-widgets/base",
     "model_module_version": "1.2.0",
     "model_name": "LayoutModel",
     "state": {
      "_model_module": "@jupyter-widgets/base",
      "_model_module_version": "1.2.0",
      "_model_name": "LayoutModel",
      "_view_count": null,
      "_view_module": "@jupyter-widgets/base",
      "_view_module_version": "1.2.0",
      "_view_name": "LayoutView",
      "align_content": null,
      "align_items": null,
      "align_self": null,
      "border": null,
      "bottom": null,
      "display": null,
      "flex": null,
      "flex_flow": null,
      "grid_area": null,
      "grid_auto_columns": null,
      "grid_auto_flow": null,
      "grid_auto_rows": null,
      "grid_column": null,
      "grid_gap": null,
      "grid_row": null,
      "grid_template_areas": null,
      "grid_template_columns": null,
      "grid_template_rows": null,
      "height": null,
      "justify_content": null,
      "justify_items": null,
      "left": null,
      "margin": null,
      "max_height": null,
      "max_width": null,
      "min_height": null,
      "min_width": null,
      "object_fit": null,
      "object_position": null,
      "order": null,
      "overflow": null,
      "overflow_x": null,
      "overflow_y": null,
      "padding": null,
      "right": null,
      "top": null,
      "visibility": null,
      "width": null
     }
    },
    "8ccc57c8523c47da9b1faaa3eeaa306c": {
     "model_module": "@jupyter-widgets/controls",
     "model_module_version": "1.5.0",
     "model_name": "DescriptionStyleModel",
     "state": {
      "_model_module": "@jupyter-widgets/controls",
      "_model_module_version": "1.5.0",
      "_model_name": "DescriptionStyleModel",
      "_view_count": null,
      "_view_module": "@jupyter-widgets/base",
      "_view_module_version": "1.2.0",
      "_view_name": "StyleView",
      "description_width": ""
     }
    },
    "90b6478072754977a4a51106709871c5": {
     "model_module": "@jupyter-widgets/controls",
     "model_module_version": "1.5.0",
     "model_name": "DescriptionStyleModel",
     "state": {
      "_model_module": "@jupyter-widgets/controls",
      "_model_module_version": "1.5.0",
      "_model_name": "DescriptionStyleModel",
      "_view_count": null,
      "_view_module": "@jupyter-widgets/base",
      "_view_module_version": "1.2.0",
      "_view_name": "StyleView",
      "description_width": ""
     }
    },
    "91ef6eaf6ae3422d827e4b61d5024ae9": {
     "model_module": "@jupyter-widgets/base",
     "model_module_version": "1.2.0",
     "model_name": "LayoutModel",
     "state": {
      "_model_module": "@jupyter-widgets/base",
      "_model_module_version": "1.2.0",
      "_model_name": "LayoutModel",
      "_view_count": null,
      "_view_module": "@jupyter-widgets/base",
      "_view_module_version": "1.2.0",
      "_view_name": "LayoutView",
      "align_content": null,
      "align_items": null,
      "align_self": null,
      "border": null,
      "bottom": null,
      "display": null,
      "flex": null,
      "flex_flow": null,
      "grid_area": null,
      "grid_auto_columns": null,
      "grid_auto_flow": null,
      "grid_auto_rows": null,
      "grid_column": null,
      "grid_gap": null,
      "grid_row": null,
      "grid_template_areas": null,
      "grid_template_columns": null,
      "grid_template_rows": null,
      "height": null,
      "justify_content": null,
      "justify_items": null,
      "left": null,
      "margin": null,
      "max_height": null,
      "max_width": null,
      "min_height": null,
      "min_width": null,
      "object_fit": null,
      "object_position": null,
      "order": null,
      "overflow": null,
      "overflow_x": null,
      "overflow_y": null,
      "padding": null,
      "right": null,
      "top": null,
      "visibility": null,
      "width": null
     }
    },
    "92cedde6d4ea4d7cb0c962771d29da75": {
     "model_module": "@jupyter-widgets/controls",
     "model_module_version": "1.5.0",
     "model_name": "HTMLModel",
     "state": {
      "_dom_classes": [],
      "_model_module": "@jupyter-widgets/controls",
      "_model_module_version": "1.5.0",
      "_model_name": "HTMLModel",
      "_view_count": null,
      "_view_module": "@jupyter-widgets/controls",
      "_view_module_version": "1.5.0",
      "_view_name": "HTMLView",
      "description": "",
      "description_tooltip": null,
      "layout": "IPY_MODEL_d0112a816f844670a441c18218cb6e5a",
      "placeholder": "​",
      "style": "IPY_MODEL_8957191b1c114fdfbc1c7bdfe7315214",
      "value": "vocab.txt: 100%"
     }
    },
    "940dd53c2d20469a92594484d22df549": {
     "model_module": "@jupyter-widgets/controls",
     "model_module_version": "1.5.0",
     "model_name": "ProgressStyleModel",
     "state": {
      "_model_module": "@jupyter-widgets/controls",
      "_model_module_version": "1.5.0",
      "_model_name": "ProgressStyleModel",
      "_view_count": null,
      "_view_module": "@jupyter-widgets/base",
      "_view_module_version": "1.2.0",
      "_view_name": "StyleView",
      "bar_color": null,
      "description_width": ""
     }
    },
    "991cc0119e424b85b752b6805036ae0d": {
     "model_module": "@jupyter-widgets/controls",
     "model_module_version": "1.5.0",
     "model_name": "DescriptionStyleModel",
     "state": {
      "_model_module": "@jupyter-widgets/controls",
      "_model_module_version": "1.5.0",
      "_model_name": "DescriptionStyleModel",
      "_view_count": null,
      "_view_module": "@jupyter-widgets/base",
      "_view_module_version": "1.2.0",
      "_view_name": "StyleView",
      "description_width": ""
     }
    },
    "99884bdc9ed9448aae301875e1dbefd7": {
     "model_module": "@jupyter-widgets/base",
     "model_module_version": "1.2.0",
     "model_name": "LayoutModel",
     "state": {
      "_model_module": "@jupyter-widgets/base",
      "_model_module_version": "1.2.0",
      "_model_name": "LayoutModel",
      "_view_count": null,
      "_view_module": "@jupyter-widgets/base",
      "_view_module_version": "1.2.0",
      "_view_name": "LayoutView",
      "align_content": null,
      "align_items": null,
      "align_self": null,
      "border": null,
      "bottom": null,
      "display": null,
      "flex": null,
      "flex_flow": null,
      "grid_area": null,
      "grid_auto_columns": null,
      "grid_auto_flow": null,
      "grid_auto_rows": null,
      "grid_column": null,
      "grid_gap": null,
      "grid_row": null,
      "grid_template_areas": null,
      "grid_template_columns": null,
      "grid_template_rows": null,
      "height": null,
      "justify_content": null,
      "justify_items": null,
      "left": null,
      "margin": null,
      "max_height": null,
      "max_width": null,
      "min_height": null,
      "min_width": null,
      "object_fit": null,
      "object_position": null,
      "order": null,
      "overflow": null,
      "overflow_x": null,
      "overflow_y": null,
      "padding": null,
      "right": null,
      "top": null,
      "visibility": null,
      "width": null
     }
    },
    "9a5079ecf9a1451c81f8ada6d48c5a91": {
     "model_module": "@jupyter-widgets/controls",
     "model_module_version": "1.5.0",
     "model_name": "HBoxModel",
     "state": {
      "_dom_classes": [],
      "_model_module": "@jupyter-widgets/controls",
      "_model_module_version": "1.5.0",
      "_model_name": "HBoxModel",
      "_view_count": null,
      "_view_module": "@jupyter-widgets/controls",
      "_view_module_version": "1.5.0",
      "_view_name": "HBoxView",
      "box_style": "",
      "children": [
       "IPY_MODEL_b0386d66b349417c9d0c71414099d057",
       "IPY_MODEL_8447268826f94191bf2027207eba1147",
       "IPY_MODEL_19da3acfd88748eb91a3beda40ddf4eb"
      ],
      "layout": "IPY_MODEL_a27cb49b23ea4dc79204916e63798ab7"
     }
    },
    "a24de402e60a4457946cc15866e776e9": {
     "model_module": "@jupyter-widgets/base",
     "model_module_version": "1.2.0",
     "model_name": "LayoutModel",
     "state": {
      "_model_module": "@jupyter-widgets/base",
      "_model_module_version": "1.2.0",
      "_model_name": "LayoutModel",
      "_view_count": null,
      "_view_module": "@jupyter-widgets/base",
      "_view_module_version": "1.2.0",
      "_view_name": "LayoutView",
      "align_content": null,
      "align_items": null,
      "align_self": null,
      "border": null,
      "bottom": null,
      "display": null,
      "flex": null,
      "flex_flow": null,
      "grid_area": null,
      "grid_auto_columns": null,
      "grid_auto_flow": null,
      "grid_auto_rows": null,
      "grid_column": null,
      "grid_gap": null,
      "grid_row": null,
      "grid_template_areas": null,
      "grid_template_columns": null,
      "grid_template_rows": null,
      "height": null,
      "justify_content": null,
      "justify_items": null,
      "left": null,
      "margin": null,
      "max_height": null,
      "max_width": null,
      "min_height": null,
      "min_width": null,
      "object_fit": null,
      "object_position": null,
      "order": null,
      "overflow": null,
      "overflow_x": null,
      "overflow_y": null,
      "padding": null,
      "right": null,
      "top": null,
      "visibility": null,
      "width": null
     }
    },
    "a252e5e616264b79aad046c17c26fb05": {
     "model_module": "@jupyter-widgets/base",
     "model_module_version": "1.2.0",
     "model_name": "LayoutModel",
     "state": {
      "_model_module": "@jupyter-widgets/base",
      "_model_module_version": "1.2.0",
      "_model_name": "LayoutModel",
      "_view_count": null,
      "_view_module": "@jupyter-widgets/base",
      "_view_module_version": "1.2.0",
      "_view_name": "LayoutView",
      "align_content": null,
      "align_items": null,
      "align_self": null,
      "border": null,
      "bottom": null,
      "display": null,
      "flex": null,
      "flex_flow": null,
      "grid_area": null,
      "grid_auto_columns": null,
      "grid_auto_flow": null,
      "grid_auto_rows": null,
      "grid_column": null,
      "grid_gap": null,
      "grid_row": null,
      "grid_template_areas": null,
      "grid_template_columns": null,
      "grid_template_rows": null,
      "height": null,
      "justify_content": null,
      "justify_items": null,
      "left": null,
      "margin": null,
      "max_height": null,
      "max_width": null,
      "min_height": null,
      "min_width": null,
      "object_fit": null,
      "object_position": null,
      "order": null,
      "overflow": null,
      "overflow_x": null,
      "overflow_y": null,
      "padding": null,
      "right": null,
      "top": null,
      "visibility": null,
      "width": null
     }
    },
    "a27cb49b23ea4dc79204916e63798ab7": {
     "model_module": "@jupyter-widgets/base",
     "model_module_version": "1.2.0",
     "model_name": "LayoutModel",
     "state": {
      "_model_module": "@jupyter-widgets/base",
      "_model_module_version": "1.2.0",
      "_model_name": "LayoutModel",
      "_view_count": null,
      "_view_module": "@jupyter-widgets/base",
      "_view_module_version": "1.2.0",
      "_view_name": "LayoutView",
      "align_content": null,
      "align_items": null,
      "align_self": null,
      "border": null,
      "bottom": null,
      "display": null,
      "flex": null,
      "flex_flow": null,
      "grid_area": null,
      "grid_auto_columns": null,
      "grid_auto_flow": null,
      "grid_auto_rows": null,
      "grid_column": null,
      "grid_gap": null,
      "grid_row": null,
      "grid_template_areas": null,
      "grid_template_columns": null,
      "grid_template_rows": null,
      "height": null,
      "justify_content": null,
      "justify_items": null,
      "left": null,
      "margin": null,
      "max_height": null,
      "max_width": null,
      "min_height": null,
      "min_width": null,
      "object_fit": null,
      "object_position": null,
      "order": null,
      "overflow": null,
      "overflow_x": null,
      "overflow_y": null,
      "padding": null,
      "right": null,
      "top": null,
      "visibility": null,
      "width": null
     }
    },
    "a30605a3cdd14d05a56b053a670d79c4": {
     "model_module": "@jupyter-widgets/controls",
     "model_module_version": "1.5.0",
     "model_name": "HTMLModel",
     "state": {
      "_dom_classes": [],
      "_model_module": "@jupyter-widgets/controls",
      "_model_module_version": "1.5.0",
      "_model_name": "HTMLModel",
      "_view_count": null,
      "_view_module": "@jupyter-widgets/controls",
      "_view_module_version": "1.5.0",
      "_view_name": "HTMLView",
      "description": "",
      "description_tooltip": null,
      "layout": "IPY_MODEL_a676862db8b14cc299402871b7ee87e3",
      "placeholder": "​",
      "style": "IPY_MODEL_cc33753514be43b38bee9891fe3520eb",
      "value": " 466k/466k [00:00&lt;00:00, 1.08MB/s]"
     }
    },
    "a676862db8b14cc299402871b7ee87e3": {
     "model_module": "@jupyter-widgets/base",
     "model_module_version": "1.2.0",
     "model_name": "LayoutModel",
     "state": {
      "_model_module": "@jupyter-widgets/base",
      "_model_module_version": "1.2.0",
      "_model_name": "LayoutModel",
      "_view_count": null,
      "_view_module": "@jupyter-widgets/base",
      "_view_module_version": "1.2.0",
      "_view_name": "LayoutView",
      "align_content": null,
      "align_items": null,
      "align_self": null,
      "border": null,
      "bottom": null,
      "display": null,
      "flex": null,
      "flex_flow": null,
      "grid_area": null,
      "grid_auto_columns": null,
      "grid_auto_flow": null,
      "grid_auto_rows": null,
      "grid_column": null,
      "grid_gap": null,
      "grid_row": null,
      "grid_template_areas": null,
      "grid_template_columns": null,
      "grid_template_rows": null,
      "height": null,
      "justify_content": null,
      "justify_items": null,
      "left": null,
      "margin": null,
      "max_height": null,
      "max_width": null,
      "min_height": null,
      "min_width": null,
      "object_fit": null,
      "object_position": null,
      "order": null,
      "overflow": null,
      "overflow_x": null,
      "overflow_y": null,
      "padding": null,
      "right": null,
      "top": null,
      "visibility": null,
      "width": null
     }
    },
    "a732913bcb0d486cbe4f37111d88405d": {
     "model_module": "@jupyter-widgets/base",
     "model_module_version": "1.2.0",
     "model_name": "LayoutModel",
     "state": {
      "_model_module": "@jupyter-widgets/base",
      "_model_module_version": "1.2.0",
      "_model_name": "LayoutModel",
      "_view_count": null,
      "_view_module": "@jupyter-widgets/base",
      "_view_module_version": "1.2.0",
      "_view_name": "LayoutView",
      "align_content": null,
      "align_items": null,
      "align_self": null,
      "border": null,
      "bottom": null,
      "display": null,
      "flex": null,
      "flex_flow": null,
      "grid_area": null,
      "grid_auto_columns": null,
      "grid_auto_flow": null,
      "grid_auto_rows": null,
      "grid_column": null,
      "grid_gap": null,
      "grid_row": null,
      "grid_template_areas": null,
      "grid_template_columns": null,
      "grid_template_rows": null,
      "height": null,
      "justify_content": null,
      "justify_items": null,
      "left": null,
      "margin": null,
      "max_height": null,
      "max_width": null,
      "min_height": null,
      "min_width": null,
      "object_fit": null,
      "object_position": null,
      "order": null,
      "overflow": null,
      "overflow_x": null,
      "overflow_y": null,
      "padding": null,
      "right": null,
      "top": null,
      "visibility": null,
      "width": null
     }
    },
    "a813ccb5f2d04e74b508ac525ed9ac26": {
     "model_module": "@jupyter-widgets/controls",
     "model_module_version": "1.5.0",
     "model_name": "FloatProgressModel",
     "state": {
      "_dom_classes": [],
      "_model_module": "@jupyter-widgets/controls",
      "_model_module_version": "1.5.0",
      "_model_name": "FloatProgressModel",
      "_view_count": null,
      "_view_module": "@jupyter-widgets/controls",
      "_view_module_version": "1.5.0",
      "_view_name": "ProgressView",
      "bar_style": "success",
      "description": "",
      "description_tooltip": null,
      "layout": "IPY_MODEL_7272305ffd254d208a279201f1143414",
      "max": 625,
      "min": 0,
      "orientation": "horizontal",
      "style": "IPY_MODEL_197fc41c3c9d4f42b8ef679757882388",
      "value": 625
     }
    },
    "a9118089b8fe417a97ae1751b514e721": {
     "model_module": "@jupyter-widgets/base",
     "model_module_version": "1.2.0",
     "model_name": "LayoutModel",
     "state": {
      "_model_module": "@jupyter-widgets/base",
      "_model_module_version": "1.2.0",
      "_model_name": "LayoutModel",
      "_view_count": null,
      "_view_module": "@jupyter-widgets/base",
      "_view_module_version": "1.2.0",
      "_view_name": "LayoutView",
      "align_content": null,
      "align_items": null,
      "align_self": null,
      "border": null,
      "bottom": null,
      "display": null,
      "flex": null,
      "flex_flow": null,
      "grid_area": null,
      "grid_auto_columns": null,
      "grid_auto_flow": null,
      "grid_auto_rows": null,
      "grid_column": null,
      "grid_gap": null,
      "grid_row": null,
      "grid_template_areas": null,
      "grid_template_columns": null,
      "grid_template_rows": null,
      "height": null,
      "justify_content": null,
      "justify_items": null,
      "left": null,
      "margin": null,
      "max_height": null,
      "max_width": null,
      "min_height": null,
      "min_width": null,
      "object_fit": null,
      "object_position": null,
      "order": null,
      "overflow": null,
      "overflow_x": null,
      "overflow_y": null,
      "padding": null,
      "right": null,
      "top": null,
      "visibility": null,
      "width": null
     }
    },
    "ad30c566572e427da88c56442fc48743": {
     "model_module": "@jupyter-widgets/base",
     "model_module_version": "1.2.0",
     "model_name": "LayoutModel",
     "state": {
      "_model_module": "@jupyter-widgets/base",
      "_model_module_version": "1.2.0",
      "_model_name": "LayoutModel",
      "_view_count": null,
      "_view_module": "@jupyter-widgets/base",
      "_view_module_version": "1.2.0",
      "_view_name": "LayoutView",
      "align_content": null,
      "align_items": null,
      "align_self": null,
      "border": null,
      "bottom": null,
      "display": null,
      "flex": null,
      "flex_flow": null,
      "grid_area": null,
      "grid_auto_columns": null,
      "grid_auto_flow": null,
      "grid_auto_rows": null,
      "grid_column": null,
      "grid_gap": null,
      "grid_row": null,
      "grid_template_areas": null,
      "grid_template_columns": null,
      "grid_template_rows": null,
      "height": null,
      "justify_content": null,
      "justify_items": null,
      "left": null,
      "margin": null,
      "max_height": null,
      "max_width": null,
      "min_height": null,
      "min_width": null,
      "object_fit": null,
      "object_position": null,
      "order": null,
      "overflow": null,
      "overflow_x": null,
      "overflow_y": null,
      "padding": null,
      "right": null,
      "top": null,
      "visibility": null,
      "width": null
     }
    },
    "ae305a37fd354aa3b9cb136735adb952": {
     "model_module": "@jupyter-widgets/controls",
     "model_module_version": "1.5.0",
     "model_name": "HTMLModel",
     "state": {
      "_dom_classes": [],
      "_model_module": "@jupyter-widgets/controls",
      "_model_module_version": "1.5.0",
      "_model_name": "HTMLModel",
      "_view_count": null,
      "_view_module": "@jupyter-widgets/controls",
      "_view_module_version": "1.5.0",
      "_view_name": "HTMLView",
      "description": "",
      "description_tooltip": null,
      "layout": "IPY_MODEL_69ac88a4aefc4f7281d54b299fcbf075",
      "placeholder": "​",
      "style": "IPY_MODEL_f42f75ad732c4c2ba303b702d72a4f34",
      "value": "config.json: 100%"
     }
    },
    "af1c01a35b9149639c9680bfce9d118c": {
     "model_module": "@jupyter-widgets/controls",
     "model_module_version": "1.5.0",
     "model_name": "ProgressStyleModel",
     "state": {
      "_model_module": "@jupyter-widgets/controls",
      "_model_module_version": "1.5.0",
      "_model_name": "ProgressStyleModel",
      "_view_count": null,
      "_view_module": "@jupyter-widgets/base",
      "_view_module_version": "1.2.0",
      "_view_name": "StyleView",
      "bar_color": null,
      "description_width": ""
     }
    },
    "b0386d66b349417c9d0c71414099d057": {
     "model_module": "@jupyter-widgets/controls",
     "model_module_version": "1.5.0",
     "model_name": "HTMLModel",
     "state": {
      "_dom_classes": [],
      "_model_module": "@jupyter-widgets/controls",
      "_model_module_version": "1.5.0",
      "_model_name": "HTMLModel",
      "_view_count": null,
      "_view_module": "@jupyter-widgets/controls",
      "_view_module_version": "1.5.0",
      "_view_name": "HTMLView",
      "description": "",
      "description_tooltip": null,
      "layout": "IPY_MODEL_5878295c3786496cb5fc8d8be65fc3b4",
      "placeholder": "​",
      "style": "IPY_MODEL_5a34646f159e47a499ee5cb447da8d3e",
      "value": "tokenizer.json: 100%"
     }
    },
    "b196d13ef92642f09c239a74c06dc04c": {
     "model_module": "@jupyter-widgets/base",
     "model_module_version": "1.2.0",
     "model_name": "LayoutModel",
     "state": {
      "_model_module": "@jupyter-widgets/base",
      "_model_module_version": "1.2.0",
      "_model_name": "LayoutModel",
      "_view_count": null,
      "_view_module": "@jupyter-widgets/base",
      "_view_module_version": "1.2.0",
      "_view_name": "LayoutView",
      "align_content": null,
      "align_items": null,
      "align_self": null,
      "border": null,
      "bottom": null,
      "display": null,
      "flex": null,
      "flex_flow": null,
      "grid_area": null,
      "grid_auto_columns": null,
      "grid_auto_flow": null,
      "grid_auto_rows": null,
      "grid_column": null,
      "grid_gap": null,
      "grid_row": null,
      "grid_template_areas": null,
      "grid_template_columns": null,
      "grid_template_rows": null,
      "height": null,
      "justify_content": null,
      "justify_items": null,
      "left": null,
      "margin": null,
      "max_height": null,
      "max_width": null,
      "min_height": null,
      "min_width": null,
      "object_fit": null,
      "object_position": null,
      "order": null,
      "overflow": null,
      "overflow_x": null,
      "overflow_y": null,
      "padding": null,
      "right": null,
      "top": null,
      "visibility": null,
      "width": null
     }
    },
    "b565984c16154d249258193046980013": {
     "model_module": "@jupyter-widgets/base",
     "model_module_version": "1.2.0",
     "model_name": "LayoutModel",
     "state": {
      "_model_module": "@jupyter-widgets/base",
      "_model_module_version": "1.2.0",
      "_model_name": "LayoutModel",
      "_view_count": null,
      "_view_module": "@jupyter-widgets/base",
      "_view_module_version": "1.2.0",
      "_view_name": "LayoutView",
      "align_content": null,
      "align_items": null,
      "align_self": null,
      "border": null,
      "bottom": null,
      "display": null,
      "flex": null,
      "flex_flow": null,
      "grid_area": null,
      "grid_auto_columns": null,
      "grid_auto_flow": null,
      "grid_auto_rows": null,
      "grid_column": null,
      "grid_gap": null,
      "grid_row": null,
      "grid_template_areas": null,
      "grid_template_columns": null,
      "grid_template_rows": null,
      "height": null,
      "justify_content": null,
      "justify_items": null,
      "left": null,
      "margin": null,
      "max_height": null,
      "max_width": null,
      "min_height": null,
      "min_width": null,
      "object_fit": null,
      "object_position": null,
      "order": null,
      "overflow": null,
      "overflow_x": null,
      "overflow_y": null,
      "padding": null,
      "right": null,
      "top": null,
      "visibility": null,
      "width": null
     }
    },
    "b8988d5e53ba46798fc48e26056aed59": {
     "model_module": "@jupyter-widgets/controls",
     "model_module_version": "1.5.0",
     "model_name": "FloatProgressModel",
     "state": {
      "_dom_classes": [],
      "_model_module": "@jupyter-widgets/controls",
      "_model_module_version": "1.5.0",
      "_model_name": "FloatProgressModel",
      "_view_count": null,
      "_view_module": "@jupyter-widgets/controls",
      "_view_module_version": "1.5.0",
      "_view_name": "ProgressView",
      "bar_style": "success",
      "description": "",
      "description_tooltip": null,
      "layout": "IPY_MODEL_b196d13ef92642f09c239a74c06dc04c",
      "max": 231508,
      "min": 0,
      "orientation": "horizontal",
      "style": "IPY_MODEL_777ae25ef97045c0a13ba0730ea6efca",
      "value": 231508
     }
    },
    "b9c55deff5f34f44aaf55bfdc4d1603f": {
     "model_module": "@jupyter-widgets/controls",
     "model_module_version": "1.5.0",
     "model_name": "HBoxModel",
     "state": {
      "_dom_classes": [],
      "_model_module": "@jupyter-widgets/controls",
      "_model_module_version": "1.5.0",
      "_model_name": "HBoxModel",
      "_view_count": null,
      "_view_module": "@jupyter-widgets/controls",
      "_view_module_version": "1.5.0",
      "_view_name": "HBoxView",
      "box_style": "",
      "children": [
       "IPY_MODEL_63eaa9f92d414198b6a47331ebd22883",
       "IPY_MODEL_effdaf25485f470daf37e369096c8c2e",
       "IPY_MODEL_22b8097a02ff43479e8468e145784ee3"
      ],
      "layout": "IPY_MODEL_a24de402e60a4457946cc15866e776e9"
     }
    },
    "b9f871d7284f410a8b544394ee6440d9": {
     "model_module": "@jupyter-widgets/controls",
     "model_module_version": "1.5.0",
     "model_name": "DescriptionStyleModel",
     "state": {
      "_model_module": "@jupyter-widgets/controls",
      "_model_module_version": "1.5.0",
      "_model_name": "DescriptionStyleModel",
      "_view_count": null,
      "_view_module": "@jupyter-widgets/base",
      "_view_module_version": "1.2.0",
      "_view_name": "StyleView",
      "description_width": ""
     }
    },
    "bb5a6f2451b94f5baa2337d9e8a462ce": {
     "model_module": "@jupyter-widgets/controls",
     "model_module_version": "1.5.0",
     "model_name": "HTMLModel",
     "state": {
      "_dom_classes": [],
      "_model_module": "@jupyter-widgets/controls",
      "_model_module_version": "1.5.0",
      "_model_name": "HTMLModel",
      "_view_count": null,
      "_view_module": "@jupyter-widgets/controls",
      "_view_module_version": "1.5.0",
      "_view_name": "HTMLView",
      "description": "",
      "description_tooltip": null,
      "layout": "IPY_MODEL_09007df63d804aa4a1776e0d4788ab68",
      "placeholder": "​",
      "style": "IPY_MODEL_c06517edd7c64986b0ab062f2917175e",
      "value": " 48.0/48.0 [00:00&lt;00:00, 3.02kB/s]"
     }
    },
    "bb7634e2f62349438e8112b1c6bf9ceb": {
     "model_module": "@jupyter-widgets/base",
     "model_module_version": "1.2.0",
     "model_name": "LayoutModel",
     "state": {
      "_model_module": "@jupyter-widgets/base",
      "_model_module_version": "1.2.0",
      "_model_name": "LayoutModel",
      "_view_count": null,
      "_view_module": "@jupyter-widgets/base",
      "_view_module_version": "1.2.0",
      "_view_name": "LayoutView",
      "align_content": null,
      "align_items": null,
      "align_self": null,
      "border": null,
      "bottom": null,
      "display": null,
      "flex": null,
      "flex_flow": null,
      "grid_area": null,
      "grid_auto_columns": null,
      "grid_auto_flow": null,
      "grid_auto_rows": null,
      "grid_column": null,
      "grid_gap": null,
      "grid_row": null,
      "grid_template_areas": null,
      "grid_template_columns": null,
      "grid_template_rows": null,
      "height": null,
      "justify_content": null,
      "justify_items": null,
      "left": null,
      "margin": null,
      "max_height": null,
      "max_width": null,
      "min_height": null,
      "min_width": null,
      "object_fit": null,
      "object_position": null,
      "order": null,
      "overflow": null,
      "overflow_x": null,
      "overflow_y": null,
      "padding": null,
      "right": null,
      "top": null,
      "visibility": null,
      "width": null
     }
    },
    "c06517edd7c64986b0ab062f2917175e": {
     "model_module": "@jupyter-widgets/controls",
     "model_module_version": "1.5.0",
     "model_name": "DescriptionStyleModel",
     "state": {
      "_model_module": "@jupyter-widgets/controls",
      "_model_module_version": "1.5.0",
      "_model_name": "DescriptionStyleModel",
      "_view_count": null,
      "_view_module": "@jupyter-widgets/base",
      "_view_module_version": "1.2.0",
      "_view_name": "StyleView",
      "description_width": ""
     }
    },
    "c0f0da72b2d9496890ee3c22550bf36b": {
     "model_module": "@jupyter-widgets/base",
     "model_module_version": "1.2.0",
     "model_name": "LayoutModel",
     "state": {
      "_model_module": "@jupyter-widgets/base",
      "_model_module_version": "1.2.0",
      "_model_name": "LayoutModel",
      "_view_count": null,
      "_view_module": "@jupyter-widgets/base",
      "_view_module_version": "1.2.0",
      "_view_name": "LayoutView",
      "align_content": null,
      "align_items": null,
      "align_self": null,
      "border": null,
      "bottom": null,
      "display": null,
      "flex": null,
      "flex_flow": null,
      "grid_area": null,
      "grid_auto_columns": null,
      "grid_auto_flow": null,
      "grid_auto_rows": null,
      "grid_column": null,
      "grid_gap": null,
      "grid_row": null,
      "grid_template_areas": null,
      "grid_template_columns": null,
      "grid_template_rows": null,
      "height": null,
      "justify_content": null,
      "justify_items": null,
      "left": null,
      "margin": null,
      "max_height": null,
      "max_width": null,
      "min_height": null,
      "min_width": null,
      "object_fit": null,
      "object_position": null,
      "order": null,
      "overflow": null,
      "overflow_x": null,
      "overflow_y": null,
      "padding": null,
      "right": null,
      "top": null,
      "visibility": null,
      "width": null
     }
    },
    "c321ff7c8e214f4a859030b14c3c945b": {
     "model_module": "@jupyter-widgets/controls",
     "model_module_version": "1.5.0",
     "model_name": "DescriptionStyleModel",
     "state": {
      "_model_module": "@jupyter-widgets/controls",
      "_model_module_version": "1.5.0",
      "_model_name": "DescriptionStyleModel",
      "_view_count": null,
      "_view_module": "@jupyter-widgets/base",
      "_view_module_version": "1.2.0",
      "_view_name": "StyleView",
      "description_width": ""
     }
    },
    "c5cda18252934117a1fafc10831b4ffa": {
     "model_module": "@jupyter-widgets/controls",
     "model_module_version": "1.5.0",
     "model_name": "ProgressStyleModel",
     "state": {
      "_model_module": "@jupyter-widgets/controls",
      "_model_module_version": "1.5.0",
      "_model_name": "ProgressStyleModel",
      "_view_count": null,
      "_view_module": "@jupyter-widgets/base",
      "_view_module_version": "1.2.0",
      "_view_name": "StyleView",
      "bar_color": null,
      "description_width": ""
     }
    },
    "c6e23a0d3928438f9c8ff6f79c5efd8b": {
     "model_module": "@jupyter-widgets/controls",
     "model_module_version": "1.5.0",
     "model_name": "HTMLModel",
     "state": {
      "_dom_classes": [],
      "_model_module": "@jupyter-widgets/controls",
      "_model_module_version": "1.5.0",
      "_model_name": "HTMLModel",
      "_view_count": null,
      "_view_module": "@jupyter-widgets/controls",
      "_view_module_version": "1.5.0",
      "_view_name": "HTMLView",
      "description": "",
      "description_tooltip": null,
      "layout": "IPY_MODEL_ad30c566572e427da88c56442fc48743",
      "placeholder": "​",
      "style": "IPY_MODEL_dbb7ce4cd42e4af090dbafb29eea7452",
      "value": " 232k/232k [00:00&lt;00:00, 540kB/s]"
     }
    },
    "cace84d58389483baf9d20ff6c6cb660": {
     "model_module": "@jupyter-widgets/controls",
     "model_module_version": "1.5.0",
     "model_name": "HTMLModel",
     "state": {
      "_dom_classes": [],
      "_model_module": "@jupyter-widgets/controls",
      "_model_module_version": "1.5.0",
      "_model_name": "HTMLModel",
      "_view_count": null,
      "_view_module": "@jupyter-widgets/controls",
      "_view_module_version": "1.5.0",
      "_view_name": "HTMLView",
      "description": "",
      "description_tooltip": null,
      "layout": "IPY_MODEL_662e7c29ce8244e1897965ffd10e6878",
      "placeholder": "​",
      "style": "IPY_MODEL_b9f871d7284f410a8b544394ee6440d9",
      "value": "vocab.txt: 100%"
     }
    },
    "cc33753514be43b38bee9891fe3520eb": {
     "model_module": "@jupyter-widgets/controls",
     "model_module_version": "1.5.0",
     "model_name": "DescriptionStyleModel",
     "state": {
      "_model_module": "@jupyter-widgets/controls",
      "_model_module_version": "1.5.0",
      "_model_name": "DescriptionStyleModel",
      "_view_count": null,
      "_view_module": "@jupyter-widgets/base",
      "_view_module_version": "1.2.0",
      "_view_name": "StyleView",
      "description_width": ""
     }
    },
    "cc4cfc3da0d44a7585458e34a44a4af7": {
     "model_module": "@jupyter-widgets/controls",
     "model_module_version": "1.5.0",
     "model_name": "ProgressStyleModel",
     "state": {
      "_model_module": "@jupyter-widgets/controls",
      "_model_module_version": "1.5.0",
      "_model_name": "ProgressStyleModel",
      "_view_count": null,
      "_view_module": "@jupyter-widgets/base",
      "_view_module_version": "1.2.0",
      "_view_name": "StyleView",
      "bar_color": null,
      "description_width": ""
     }
    },
    "cc6fb594d5924dd8b7519e1e0aabeb40": {
     "model_module": "@jupyter-widgets/base",
     "model_module_version": "1.2.0",
     "model_name": "LayoutModel",
     "state": {
      "_model_module": "@jupyter-widgets/base",
      "_model_module_version": "1.2.0",
      "_model_name": "LayoutModel",
      "_view_count": null,
      "_view_module": "@jupyter-widgets/base",
      "_view_module_version": "1.2.0",
      "_view_name": "LayoutView",
      "align_content": null,
      "align_items": null,
      "align_self": null,
      "border": null,
      "bottom": null,
      "display": null,
      "flex": null,
      "flex_flow": null,
      "grid_area": null,
      "grid_auto_columns": null,
      "grid_auto_flow": null,
      "grid_auto_rows": null,
      "grid_column": null,
      "grid_gap": null,
      "grid_row": null,
      "grid_template_areas": null,
      "grid_template_columns": null,
      "grid_template_rows": null,
      "height": null,
      "justify_content": null,
      "justify_items": null,
      "left": null,
      "margin": null,
      "max_height": null,
      "max_width": null,
      "min_height": null,
      "min_width": null,
      "object_fit": null,
      "object_position": null,
      "order": null,
      "overflow": null,
      "overflow_x": null,
      "overflow_y": null,
      "padding": null,
      "right": null,
      "top": null,
      "visibility": null,
      "width": null
     }
    },
    "d0112a816f844670a441c18218cb6e5a": {
     "model_module": "@jupyter-widgets/base",
     "model_module_version": "1.2.0",
     "model_name": "LayoutModel",
     "state": {
      "_model_module": "@jupyter-widgets/base",
      "_model_module_version": "1.2.0",
      "_model_name": "LayoutModel",
      "_view_count": null,
      "_view_module": "@jupyter-widgets/base",
      "_view_module_version": "1.2.0",
      "_view_name": "LayoutView",
      "align_content": null,
      "align_items": null,
      "align_self": null,
      "border": null,
      "bottom": null,
      "display": null,
      "flex": null,
      "flex_flow": null,
      "grid_area": null,
      "grid_auto_columns": null,
      "grid_auto_flow": null,
      "grid_auto_rows": null,
      "grid_column": null,
      "grid_gap": null,
      "grid_row": null,
      "grid_template_areas": null,
      "grid_template_columns": null,
      "grid_template_rows": null,
      "height": null,
      "justify_content": null,
      "justify_items": null,
      "left": null,
      "margin": null,
      "max_height": null,
      "max_width": null,
      "min_height": null,
      "min_width": null,
      "object_fit": null,
      "object_position": null,
      "order": null,
      "overflow": null,
      "overflow_x": null,
      "overflow_y": null,
      "padding": null,
      "right": null,
      "top": null,
      "visibility": null,
      "width": null
     }
    },
    "d0d01fefbfc6416fa260f62787ca6049": {
     "model_module": "@jupyter-widgets/controls",
     "model_module_version": "1.5.0",
     "model_name": "HBoxModel",
     "state": {
      "_dom_classes": [],
      "_model_module": "@jupyter-widgets/controls",
      "_model_module_version": "1.5.0",
      "_model_name": "HBoxModel",
      "_view_count": null,
      "_view_module": "@jupyter-widgets/controls",
      "_view_module_version": "1.5.0",
      "_view_name": "HBoxView",
      "box_style": "",
      "children": [
       "IPY_MODEL_ee6150d0b8f04143a18a84e4aebf73e9",
       "IPY_MODEL_56e7f58713824a0b9d5f089a57c42c6b",
       "IPY_MODEL_204924806a57479ca61e8d069a837f6c"
      ],
      "layout": "IPY_MODEL_372496e65bdb4156b711cf261674982f"
     }
    },
    "d171b2398aba430dbdb65d92ca19c636": {
     "model_module": "@jupyter-widgets/base",
     "model_module_version": "1.2.0",
     "model_name": "LayoutModel",
     "state": {
      "_model_module": "@jupyter-widgets/base",
      "_model_module_version": "1.2.0",
      "_model_name": "LayoutModel",
      "_view_count": null,
      "_view_module": "@jupyter-widgets/base",
      "_view_module_version": "1.2.0",
      "_view_name": "LayoutView",
      "align_content": null,
      "align_items": null,
      "align_self": null,
      "border": null,
      "bottom": null,
      "display": null,
      "flex": null,
      "flex_flow": null,
      "grid_area": null,
      "grid_auto_columns": null,
      "grid_auto_flow": null,
      "grid_auto_rows": null,
      "grid_column": null,
      "grid_gap": null,
      "grid_row": null,
      "grid_template_areas": null,
      "grid_template_columns": null,
      "grid_template_rows": null,
      "height": null,
      "justify_content": null,
      "justify_items": null,
      "left": null,
      "margin": null,
      "max_height": null,
      "max_width": null,
      "min_height": null,
      "min_width": null,
      "object_fit": null,
      "object_position": null,
      "order": null,
      "overflow": null,
      "overflow_x": null,
      "overflow_y": null,
      "padding": null,
      "right": null,
      "top": null,
      "visibility": null,
      "width": null
     }
    },
    "d1c96708cdaa429aa182adfc8fab9488": {
     "model_module": "@jupyter-widgets/controls",
     "model_module_version": "1.5.0",
     "model_name": "ProgressStyleModel",
     "state": {
      "_model_module": "@jupyter-widgets/controls",
      "_model_module_version": "1.5.0",
      "_model_name": "ProgressStyleModel",
      "_view_count": null,
      "_view_module": "@jupyter-widgets/base",
      "_view_module_version": "1.2.0",
      "_view_name": "StyleView",
      "bar_color": null,
      "description_width": ""
     }
    },
    "d32e020fcee842ecb6790ae9551035df": {
     "model_module": "@jupyter-widgets/controls",
     "model_module_version": "1.5.0",
     "model_name": "HBoxModel",
     "state": {
      "_dom_classes": [],
      "_model_module": "@jupyter-widgets/controls",
      "_model_module_version": "1.5.0",
      "_model_name": "HBoxModel",
      "_view_count": null,
      "_view_module": "@jupyter-widgets/controls",
      "_view_module_version": "1.5.0",
      "_view_name": "HBoxView",
      "box_style": "",
      "children": [
       "IPY_MODEL_cace84d58389483baf9d20ff6c6cb660",
       "IPY_MODEL_b8988d5e53ba46798fc48e26056aed59",
       "IPY_MODEL_c6e23a0d3928438f9c8ff6f79c5efd8b"
      ],
      "layout": "IPY_MODEL_b565984c16154d249258193046980013"
     }
    },
    "d4a31ab2e6a8490d885967ccb8074d52": {
     "model_module": "@jupyter-widgets/controls",
     "model_module_version": "1.5.0",
     "model_name": "HTMLModel",
     "state": {
      "_dom_classes": [],
      "_model_module": "@jupyter-widgets/controls",
      "_model_module_version": "1.5.0",
      "_model_name": "HTMLModel",
      "_view_count": null,
      "_view_module": "@jupyter-widgets/controls",
      "_view_module_version": "1.5.0",
      "_view_name": "HTMLView",
      "description": "",
      "description_tooltip": null,
      "layout": "IPY_MODEL_a9118089b8fe417a97ae1751b514e721",
      "placeholder": "​",
      "style": "IPY_MODEL_8ccc57c8523c47da9b1faaa3eeaa306c",
      "value": " 399/399 [00:00&lt;00:00, 13.6kB/s]"
     }
    },
    "d5da7678e8024297b99bda8bacaa402d": {
     "model_module": "@jupyter-widgets/controls",
     "model_module_version": "1.5.0",
     "model_name": "FloatProgressModel",
     "state": {
      "_dom_classes": [],
      "_model_module": "@jupyter-widgets/controls",
      "_model_module_version": "1.5.0",
      "_model_name": "FloatProgressModel",
      "_view_count": null,
      "_view_module": "@jupyter-widgets/controls",
      "_view_module_version": "1.5.0",
      "_view_name": "ProgressView",
      "bar_style": "success",
      "description": "",
      "description_tooltip": null,
      "layout": "IPY_MODEL_1f06aea1910344deabc7b39c702ad054",
      "max": 231508,
      "min": 0,
      "orientation": "horizontal",
      "style": "IPY_MODEL_d9592931d87d4804adc454532a0b297f",
      "value": 231508
     }
    },
    "d9592931d87d4804adc454532a0b297f": {
     "model_module": "@jupyter-widgets/controls",
     "model_module_version": "1.5.0",
     "model_name": "ProgressStyleModel",
     "state": {
      "_model_module": "@jupyter-widgets/controls",
      "_model_module_version": "1.5.0",
      "_model_name": "ProgressStyleModel",
      "_view_count": null,
      "_view_module": "@jupyter-widgets/base",
      "_view_module_version": "1.2.0",
      "_view_name": "StyleView",
      "bar_color": null,
      "description_width": ""
     }
    },
    "d95a153d1a6c447aa513104040430f8a": {
     "model_module": "@jupyter-widgets/controls",
     "model_module_version": "1.5.0",
     "model_name": "DescriptionStyleModel",
     "state": {
      "_model_module": "@jupyter-widgets/controls",
      "_model_module_version": "1.5.0",
      "_model_name": "DescriptionStyleModel",
      "_view_count": null,
      "_view_module": "@jupyter-widgets/base",
      "_view_module_version": "1.2.0",
      "_view_name": "StyleView",
      "description_width": ""
     }
    },
    "dbb7ce4cd42e4af090dbafb29eea7452": {
     "model_module": "@jupyter-widgets/controls",
     "model_module_version": "1.5.0",
     "model_name": "DescriptionStyleModel",
     "state": {
      "_model_module": "@jupyter-widgets/controls",
      "_model_module_version": "1.5.0",
      "_model_name": "DescriptionStyleModel",
      "_view_count": null,
      "_view_module": "@jupyter-widgets/base",
      "_view_module_version": "1.2.0",
      "_view_name": "StyleView",
      "description_width": ""
     }
    },
    "e703dc5c91b8449cb28436d97a85f13d": {
     "model_module": "@jupyter-widgets/controls",
     "model_module_version": "1.5.0",
     "model_name": "HTMLModel",
     "state": {
      "_dom_classes": [],
      "_model_module": "@jupyter-widgets/controls",
      "_model_module_version": "1.5.0",
      "_model_name": "HTMLModel",
      "_view_count": null,
      "_view_module": "@jupyter-widgets/controls",
      "_view_module_version": "1.5.0",
      "_view_name": "HTMLView",
      "description": "",
      "description_tooltip": null,
      "layout": "IPY_MODEL_49ab5f060fb7457982eaa5f78c73be0e",
      "placeholder": "​",
      "style": "IPY_MODEL_05e638a66bea42ca8821164fd1f4896a",
      "value": " 232k/232k [00:00&lt;00:00, 535kB/s]"
     }
    },
    "e84215b30def4ed3bf05731f43c10c1d": {
     "model_module": "@jupyter-widgets/controls",
     "model_module_version": "1.5.0",
     "model_name": "HBoxModel",
     "state": {
      "_dom_classes": [],
      "_model_module": "@jupyter-widgets/controls",
      "_model_module_version": "1.5.0",
      "_model_name": "HBoxModel",
      "_view_count": null,
      "_view_module": "@jupyter-widgets/controls",
      "_view_module_version": "1.5.0",
      "_view_name": "HBoxView",
      "box_style": "",
      "children": [
       "IPY_MODEL_92cedde6d4ea4d7cb0c962771d29da75",
       "IPY_MODEL_d5da7678e8024297b99bda8bacaa402d",
       "IPY_MODEL_e703dc5c91b8449cb28436d97a85f13d"
      ],
      "layout": "IPY_MODEL_ee0c236844204ea0847f829e952067b5"
     }
    },
    "e9a63d8fba014855876f3095a9cab796": {
     "model_module": "@jupyter-widgets/controls",
     "model_module_version": "1.5.0",
     "model_name": "HBoxModel",
     "state": {
      "_dom_classes": [],
      "_model_module": "@jupyter-widgets/controls",
      "_model_module_version": "1.5.0",
      "_model_name": "HBoxModel",
      "_view_count": null,
      "_view_module": "@jupyter-widgets/controls",
      "_view_module_version": "1.5.0",
      "_view_name": "HBoxView",
      "box_style": "",
      "children": [
       "IPY_MODEL_10378eddbca9475bacc7b3c8247ab4ff",
       "IPY_MODEL_6653cc8a0b864b1ca908fb1720f9b89f",
       "IPY_MODEL_a30605a3cdd14d05a56b053a670d79c4"
      ],
      "layout": "IPY_MODEL_2bf1cab14a0b440982b9b7de066bbf0e"
     }
    },
    "eafc37dce86f46f98b5e39a834133197": {
     "model_module": "@jupyter-widgets/controls",
     "model_module_version": "1.5.0",
     "model_name": "HTMLModel",
     "state": {
      "_dom_classes": [],
      "_model_module": "@jupyter-widgets/controls",
      "_model_module_version": "1.5.0",
      "_model_name": "HTMLModel",
      "_view_count": null,
      "_view_module": "@jupyter-widgets/controls",
      "_view_module_version": "1.5.0",
      "_view_name": "HTMLView",
      "description": "",
      "description_tooltip": null,
      "layout": "IPY_MODEL_66304835d0014657a0443228f7157c00",
      "placeholder": "​",
      "style": "IPY_MODEL_5a4a4d2b5b894000838c2607bffee5f6",
      "value": " 2.00/2.00 [00:00&lt;00:00, 144B/s]"
     }
    },
    "ee0c236844204ea0847f829e952067b5": {
     "model_module": "@jupyter-widgets/base",
     "model_module_version": "1.2.0",
     "model_name": "LayoutModel",
     "state": {
      "_model_module": "@jupyter-widgets/base",
      "_model_module_version": "1.2.0",
      "_model_name": "LayoutModel",
      "_view_count": null,
      "_view_module": "@jupyter-widgets/base",
      "_view_module_version": "1.2.0",
      "_view_name": "LayoutView",
      "align_content": null,
      "align_items": null,
      "align_self": null,
      "border": null,
      "bottom": null,
      "display": null,
      "flex": null,
      "flex_flow": null,
      "grid_area": null,
      "grid_auto_columns": null,
      "grid_auto_flow": null,
      "grid_auto_rows": null,
      "grid_column": null,
      "grid_gap": null,
      "grid_row": null,
      "grid_template_areas": null,
      "grid_template_columns": null,
      "grid_template_rows": null,
      "height": null,
      "justify_content": null,
      "justify_items": null,
      "left": null,
      "margin": null,
      "max_height": null,
      "max_width": null,
      "min_height": null,
      "min_width": null,
      "object_fit": null,
      "object_position": null,
      "order": null,
      "overflow": null,
      "overflow_x": null,
      "overflow_y": null,
      "padding": null,
      "right": null,
      "top": null,
      "visibility": null,
      "width": null
     }
    },
    "ee6150d0b8f04143a18a84e4aebf73e9": {
     "model_module": "@jupyter-widgets/controls",
     "model_module_version": "1.5.0",
     "model_name": "HTMLModel",
     "state": {
      "_dom_classes": [],
      "_model_module": "@jupyter-widgets/controls",
      "_model_module_version": "1.5.0",
      "_model_name": "HTMLModel",
      "_view_count": null,
      "_view_module": "@jupyter-widgets/controls",
      "_view_module_version": "1.5.0",
      "_view_name": "HTMLView",
      "description": "",
      "description_tooltip": null,
      "layout": "IPY_MODEL_f2abaf6d81ce4342a0cad69d858502c7",
      "placeholder": "​",
      "style": "IPY_MODEL_3c5c2d54b0a0400b8835a63b85b251de",
      "value": "model.safetensors: 100%"
     }
    },
    "eea185e1e8244903bd5507ce9056e184": {
     "model_module": "@jupyter-widgets/controls",
     "model_module_version": "1.5.0",
     "model_name": "HTMLModel",
     "state": {
      "_dom_classes": [],
      "_model_module": "@jupyter-widgets/controls",
      "_model_module_version": "1.5.0",
      "_model_name": "HTMLModel",
      "_view_count": null,
      "_view_module": "@jupyter-widgets/controls",
      "_view_module_version": "1.5.0",
      "_view_name": "HTMLView",
      "description": "",
      "description_tooltip": null,
      "layout": "IPY_MODEL_a732913bcb0d486cbe4f37111d88405d",
      "placeholder": "​",
      "style": "IPY_MODEL_991cc0119e424b85b752b6805036ae0d",
      "value": "added_tokens.json: 100%"
     }
    },
    "effdaf25485f470daf37e369096c8c2e": {
     "model_module": "@jupyter-widgets/controls",
     "model_module_version": "1.5.0",
     "model_name": "FloatProgressModel",
     "state": {
      "_dom_classes": [],
      "_model_module": "@jupyter-widgets/controls",
      "_model_module_version": "1.5.0",
      "_model_name": "FloatProgressModel",
      "_view_count": null,
      "_view_module": "@jupyter-widgets/controls",
      "_view_module_version": "1.5.0",
      "_view_name": "ProgressView",
      "bar_style": "success",
      "description": "",
      "description_tooltip": null,
      "layout": "IPY_MODEL_3b4f6efab99a4dae8b0bbca5acfcb0ac",
      "max": 267954768,
      "min": 0,
      "orientation": "horizontal",
      "style": "IPY_MODEL_0c0eec5528fa454d8add711d990569d5",
      "value": 267954768
     }
    },
    "f2abaf6d81ce4342a0cad69d858502c7": {
     "model_module": "@jupyter-widgets/base",
     "model_module_version": "1.2.0",
     "model_name": "LayoutModel",
     "state": {
      "_model_module": "@jupyter-widgets/base",
      "_model_module_version": "1.2.0",
      "_model_name": "LayoutModel",
      "_view_count": null,
      "_view_module": "@jupyter-widgets/base",
      "_view_module_version": "1.2.0",
      "_view_name": "LayoutView",
      "align_content": null,
      "align_items": null,
      "align_self": null,
      "border": null,
      "bottom": null,
      "display": null,
      "flex": null,
      "flex_flow": null,
      "grid_area": null,
      "grid_auto_columns": null,
      "grid_auto_flow": null,
      "grid_auto_rows": null,
      "grid_column": null,
      "grid_gap": null,
      "grid_row": null,
      "grid_template_areas": null,
      "grid_template_columns": null,
      "grid_template_rows": null,
      "height": null,
      "justify_content": null,
      "justify_items": null,
      "left": null,
      "margin": null,
      "max_height": null,
      "max_width": null,
      "min_height": null,
      "min_width": null,
      "object_fit": null,
      "object_position": null,
      "order": null,
      "overflow": null,
      "overflow_x": null,
      "overflow_y": null,
      "padding": null,
      "right": null,
      "top": null,
      "visibility": null,
      "width": null
     }
    },
    "f36937f25a664fb7a81bbd38735eb997": {
     "model_module": "@jupyter-widgets/base",
     "model_module_version": "1.2.0",
     "model_name": "LayoutModel",
     "state": {
      "_model_module": "@jupyter-widgets/base",
      "_model_module_version": "1.2.0",
      "_model_name": "LayoutModel",
      "_view_count": null,
      "_view_module": "@jupyter-widgets/base",
      "_view_module_version": "1.2.0",
      "_view_name": "LayoutView",
      "align_content": null,
      "align_items": null,
      "align_self": null,
      "border": null,
      "bottom": null,
      "display": null,
      "flex": null,
      "flex_flow": null,
      "grid_area": null,
      "grid_auto_columns": null,
      "grid_auto_flow": null,
      "grid_auto_rows": null,
      "grid_column": null,
      "grid_gap": null,
      "grid_row": null,
      "grid_template_areas": null,
      "grid_template_columns": null,
      "grid_template_rows": null,
      "height": null,
      "justify_content": null,
      "justify_items": null,
      "left": null,
      "margin": null,
      "max_height": null,
      "max_width": null,
      "min_height": null,
      "min_width": null,
      "object_fit": null,
      "object_position": null,
      "order": null,
      "overflow": null,
      "overflow_x": null,
      "overflow_y": null,
      "padding": null,
      "right": null,
      "top": null,
      "visibility": null,
      "width": null
     }
    },
    "f42f75ad732c4c2ba303b702d72a4f34": {
     "model_module": "@jupyter-widgets/controls",
     "model_module_version": "1.5.0",
     "model_name": "DescriptionStyleModel",
     "state": {
      "_model_module": "@jupyter-widgets/controls",
      "_model_module_version": "1.5.0",
      "_model_name": "DescriptionStyleModel",
      "_view_count": null,
      "_view_module": "@jupyter-widgets/base",
      "_view_module_version": "1.2.0",
      "_view_name": "StyleView",
      "description_width": ""
     }
    },
    "f495369c40034f578a1b814b88c61d6a": {
     "model_module": "@jupyter-widgets/controls",
     "model_module_version": "1.5.0",
     "model_name": "DescriptionStyleModel",
     "state": {
      "_model_module": "@jupyter-widgets/controls",
      "_model_module_version": "1.5.0",
      "_model_name": "DescriptionStyleModel",
      "_view_count": null,
      "_view_module": "@jupyter-widgets/base",
      "_view_module_version": "1.2.0",
      "_view_name": "StyleView",
      "description_width": ""
     }
    },
    "fbdd15c75027494f9991e3edd809ad83": {
     "model_module": "@jupyter-widgets/controls",
     "model_module_version": "1.5.0",
     "model_name": "DescriptionStyleModel",
     "state": {
      "_model_module": "@jupyter-widgets/controls",
      "_model_module_version": "1.5.0",
      "_model_name": "DescriptionStyleModel",
      "_view_count": null,
      "_view_module": "@jupyter-widgets/base",
      "_view_module_version": "1.2.0",
      "_view_name": "StyleView",
      "description_width": ""
     }
    }
   }
  }
 },
 "nbformat": 4,
 "nbformat_minor": 5
}
